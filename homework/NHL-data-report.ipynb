{
 "cells": [
  {
   "cell_type": "raw",
   "metadata": {},
   "source": [
    "author: Vojtěch Lengál\n",
    "title: NHL Players report\n",
    "date: 14.1.2023"
   ]
  },
  {
   "cell_type": "code",
   "execution_count": 1,
   "metadata": {},
   "outputs": [],
   "source": [
    "### Setup\n",
    "%matplotlib inline\n",
    "# %load_ext pretty_jupyter\n",
    "\n",
    "# should enable plotting without explicit call .show()\n",
    "\n",
    "# Import libraries\n",
    "import pandas as pd\n",
    "import numpy as np\n",
    "import seaborn as sns\n",
    "import matplotlib.pyplot as plt\n",
    "from pandas_profiling import ProfileReport\n",
    "from matplotlib.colors import LogNorm\n",
    "from sklearn.model_selection import train_test_split, GridSearchCV\n",
    "from sklearn.linear_model import LinearRegression, Ridge\n",
    "from sklearn.metrics import mean_squared_error\n",
    "from collections import Counter\n",
    "\n",
    "# classes for special types\n",
    "from pandas.api.types import CategoricalDtype\n",
    "\n",
    "# Apply the default theme\n",
    "sns.set_theme()"
   ]
  },
  {
   "attachments": {},
   "cell_type": "markdown",
   "metadata": {},
   "source": [
    "## Introduction\n",
    "\n",
    "In this report, we're going to predict how many goals will NHL players score next season. The prediction will be based on various player's data, such as average ice-time, age, shooting percentage, etc. from past seasons.\n",
    "\n",
    "## Dataset overview\n",
    "\n",
    "The provided dataset consists of 2 csv files:\n",
    "\n",
    "### `nhl-teams.csv`:\n",
    "\n",
    "This file contains names of NHL teams together with their short name.\n",
    "There are 35 rows (1 row = 1 team) and only 2 columns. The structure is as follows:\n"
   ]
  },
  {
   "cell_type": "code",
   "execution_count": 2,
   "metadata": {},
   "outputs": [
    {
     "data": {
      "text/html": [
       "<div>\n",
       "<style scoped>\n",
       "    .dataframe tbody tr th:only-of-type {\n",
       "        vertical-align: middle;\n",
       "    }\n",
       "\n",
       "    .dataframe tbody tr th {\n",
       "        vertical-align: top;\n",
       "    }\n",
       "\n",
       "    .dataframe thead th {\n",
       "        text-align: right;\n",
       "    }\n",
       "</style>\n",
       "<table border=\"1\" class=\"dataframe\">\n",
       "  <thead>\n",
       "    <tr style=\"text-align: right;\">\n",
       "      <th></th>\n",
       "      <th>team</th>\n",
       "      <th>team_full</th>\n",
       "    </tr>\n",
       "  </thead>\n",
       "  <tbody>\n",
       "    <tr>\n",
       "      <th>0</th>\n",
       "      <td>ANA</td>\n",
       "      <td>Anaheim Ducks</td>\n",
       "    </tr>\n",
       "    <tr>\n",
       "      <th>1</th>\n",
       "      <td>ARI</td>\n",
       "      <td>Arizona Coyottes</td>\n",
       "    </tr>\n",
       "    <tr>\n",
       "      <th>2</th>\n",
       "      <td>ATL</td>\n",
       "      <td>Atlanta Thrashers</td>\n",
       "    </tr>\n",
       "    <tr>\n",
       "      <th>3</th>\n",
       "      <td>BOS</td>\n",
       "      <td>Boston Bruins</td>\n",
       "    </tr>\n",
       "    <tr>\n",
       "      <th>4</th>\n",
       "      <td>BUF</td>\n",
       "      <td>Buffalo Sabres</td>\n",
       "    </tr>\n",
       "  </tbody>\n",
       "</table>\n",
       "</div>"
      ],
      "text/plain": [
       "  team          team_full\n",
       "0  ANA      Anaheim Ducks\n",
       "1  ARI   Arizona Coyottes\n",
       "2  ATL  Atlanta Thrashers\n",
       "3  BOS      Boston Bruins\n",
       "4  BUF     Buffalo Sabres"
      ]
     },
     "execution_count": 2,
     "metadata": {},
     "output_type": "execute_result"
    }
   ],
   "source": [
    "# Reading and inspecting data\n",
    "df = pd.read_csv(\"data/nhl-teams.csv\")\n",
    "df.head(5)"
   ]
  },
  {
   "attachments": {},
   "cell_type": "markdown",
   "metadata": {},
   "source": [
    "### `nhl-player-data.csv`\n",
    "\n",
    "This file contains various data about NHL players (goals, points per season, average time on ice, age, etc.) for seasons 2004-2018.\n",
    "Each row contains data for the given player per season, i.e. if the player has played multiple seasons in NHL, there will be multiple rows containing his data (1 row per each season).\n",
    "\n",
    "Size of the dataset is about 1.34 MB  \n",
    "There are 12328 rows and 32 columns\n",
    "\n",
    "Structure is as follows:\n"
   ]
  },
  {
   "cell_type": "code",
   "execution_count": 3,
   "metadata": {
    "collapsed": false
   },
   "outputs": [
    {
     "data": {
      "text/html": [
       "<div>\n",
       "<style scoped>\n",
       "    .dataframe tbody tr th:only-of-type {\n",
       "        vertical-align: middle;\n",
       "    }\n",
       "\n",
       "    .dataframe tbody tr th {\n",
       "        vertical-align: top;\n",
       "    }\n",
       "\n",
       "    .dataframe thead th {\n",
       "        text-align: right;\n",
       "    }\n",
       "</style>\n",
       "<table border=\"1\" class=\"dataframe\">\n",
       "  <thead>\n",
       "    <tr style=\"text-align: right;\">\n",
       "      <th></th>\n",
       "      <th>Rk</th>\n",
       "      <th>Player</th>\n",
       "      <th>Nick</th>\n",
       "      <th>Age</th>\n",
       "      <th>Pos</th>\n",
       "      <th>Tm</th>\n",
       "      <th>GP</th>\n",
       "      <th>G</th>\n",
       "      <th>A</th>\n",
       "      <th>PTS</th>\n",
       "      <th>...</th>\n",
       "      <th>TOI</th>\n",
       "      <th>ATOI</th>\n",
       "      <th>BLK</th>\n",
       "      <th>HIT</th>\n",
       "      <th>FOW</th>\n",
       "      <th>FOL</th>\n",
       "      <th>FO_percent</th>\n",
       "      <th>HART</th>\n",
       "      <th>Votes</th>\n",
       "      <th>Season</th>\n",
       "    </tr>\n",
       "  </thead>\n",
       "  <tbody>\n",
       "    <tr>\n",
       "      <th>0</th>\n",
       "      <td>1</td>\n",
       "      <td>Connor McDavid</td>\n",
       "      <td>mcdavco01</td>\n",
       "      <td>20</td>\n",
       "      <td>C</td>\n",
       "      <td>EDM</td>\n",
       "      <td>82</td>\n",
       "      <td>30</td>\n",
       "      <td>70</td>\n",
       "      <td>100</td>\n",
       "      <td>...</td>\n",
       "      <td>1733</td>\n",
       "      <td>21.133333</td>\n",
       "      <td>29.0</td>\n",
       "      <td>34</td>\n",
       "      <td>348.0</td>\n",
       "      <td>458.0</td>\n",
       "      <td>43.2</td>\n",
       "      <td>1</td>\n",
       "      <td>1604</td>\n",
       "      <td>2017</td>\n",
       "    </tr>\n",
       "    <tr>\n",
       "      <th>1</th>\n",
       "      <td>2</td>\n",
       "      <td>Sidney Crosby</td>\n",
       "      <td>crosbsi01</td>\n",
       "      <td>29</td>\n",
       "      <td>C</td>\n",
       "      <td>PIT</td>\n",
       "      <td>75</td>\n",
       "      <td>44</td>\n",
       "      <td>45</td>\n",
       "      <td>89</td>\n",
       "      <td>...</td>\n",
       "      <td>1491</td>\n",
       "      <td>19.883333</td>\n",
       "      <td>27.0</td>\n",
       "      <td>80</td>\n",
       "      <td>842.0</td>\n",
       "      <td>906.0</td>\n",
       "      <td>48.2</td>\n",
       "      <td>0</td>\n",
       "      <td>1104</td>\n",
       "      <td>2017</td>\n",
       "    </tr>\n",
       "    <tr>\n",
       "      <th>2</th>\n",
       "      <td>3</td>\n",
       "      <td>Patrick Kane</td>\n",
       "      <td>kanepa01</td>\n",
       "      <td>28</td>\n",
       "      <td>RW</td>\n",
       "      <td>CHI</td>\n",
       "      <td>82</td>\n",
       "      <td>34</td>\n",
       "      <td>55</td>\n",
       "      <td>89</td>\n",
       "      <td>...</td>\n",
       "      <td>1754</td>\n",
       "      <td>21.400000</td>\n",
       "      <td>15.0</td>\n",
       "      <td>28</td>\n",
       "      <td>7.0</td>\n",
       "      <td>44.0</td>\n",
       "      <td>13.7</td>\n",
       "      <td>0</td>\n",
       "      <td>206</td>\n",
       "      <td>2017</td>\n",
       "    </tr>\n",
       "    <tr>\n",
       "      <th>3</th>\n",
       "      <td>4</td>\n",
       "      <td>Nicklas Backstrom</td>\n",
       "      <td>backsni02</td>\n",
       "      <td>29</td>\n",
       "      <td>C</td>\n",
       "      <td>WSH</td>\n",
       "      <td>82</td>\n",
       "      <td>23</td>\n",
       "      <td>63</td>\n",
       "      <td>86</td>\n",
       "      <td>...</td>\n",
       "      <td>1497</td>\n",
       "      <td>18.266667</td>\n",
       "      <td>33.0</td>\n",
       "      <td>45</td>\n",
       "      <td>685.0</td>\n",
       "      <td>648.0</td>\n",
       "      <td>51.4</td>\n",
       "      <td>0</td>\n",
       "      <td>60</td>\n",
       "      <td>2017</td>\n",
       "    </tr>\n",
       "    <tr>\n",
       "      <th>4</th>\n",
       "      <td>5</td>\n",
       "      <td>Nikita Kucherov</td>\n",
       "      <td>kucheni01</td>\n",
       "      <td>23</td>\n",
       "      <td>RW</td>\n",
       "      <td>TBL</td>\n",
       "      <td>74</td>\n",
       "      <td>40</td>\n",
       "      <td>45</td>\n",
       "      <td>85</td>\n",
       "      <td>...</td>\n",
       "      <td>1438</td>\n",
       "      <td>19.433333</td>\n",
       "      <td>20.0</td>\n",
       "      <td>30</td>\n",
       "      <td>0.0</td>\n",
       "      <td>0.0</td>\n",
       "      <td>0.0</td>\n",
       "      <td>0</td>\n",
       "      <td>119</td>\n",
       "      <td>2017</td>\n",
       "    </tr>\n",
       "  </tbody>\n",
       "</table>\n",
       "<p>5 rows × 32 columns</p>\n",
       "</div>"
      ],
      "text/plain": [
       "   Rk             Player       Nick  Age Pos   Tm  GP   G   A  PTS  ...   TOI  \\\n",
       "0   1     Connor McDavid  mcdavco01   20   C  EDM  82  30  70  100  ...  1733   \n",
       "1   2      Sidney Crosby  crosbsi01   29   C  PIT  75  44  45   89  ...  1491   \n",
       "2   3       Patrick Kane   kanepa01   28  RW  CHI  82  34  55   89  ...  1754   \n",
       "3   4  Nicklas Backstrom  backsni02   29   C  WSH  82  23  63   86  ...  1497   \n",
       "4   5    Nikita Kucherov  kucheni01   23  RW  TBL  74  40  45   85  ...  1438   \n",
       "\n",
       "        ATOI   BLK  HIT    FOW    FOL  FO_percent  HART  Votes  Season  \n",
       "0  21.133333  29.0   34  348.0  458.0        43.2     1   1604    2017  \n",
       "1  19.883333  27.0   80  842.0  906.0        48.2     0   1104    2017  \n",
       "2  21.400000  15.0   28    7.0   44.0        13.7     0    206    2017  \n",
       "3  18.266667  33.0   45  685.0  648.0        51.4     0     60    2017  \n",
       "4  19.433333  20.0   30    0.0    0.0         0.0     0    119    2017  \n",
       "\n",
       "[5 rows x 32 columns]"
      ]
     },
     "execution_count": 3,
     "metadata": {},
     "output_type": "execute_result"
    }
   ],
   "source": [
    "df = pd.read_csv(\"data/nhl-player-data.csv\")\n",
    "df.head(5)"
   ]
  },
  {
   "attachments": {},
   "cell_type": "markdown",
   "metadata": {},
   "source": [
    "Types of the columns are displayed below:\n"
   ]
  },
  {
   "cell_type": "code",
   "execution_count": 4,
   "metadata": {},
   "outputs": [
    {
     "data": {
      "text/plain": [
       "Rk              int64\n",
       "Player         object\n",
       "Nick           object\n",
       "Age             int64\n",
       "Pos            object\n",
       "Tm             object\n",
       "GP              int64\n",
       "G               int64\n",
       "A               int64\n",
       "PTS             int64\n",
       "plusminus       int64\n",
       "PIM             int64\n",
       "PS            float64\n",
       "EV              int64\n",
       "PP              int64\n",
       "SH              int64\n",
       "GW              int64\n",
       "EV.1            int64\n",
       "PP.1            int64\n",
       "SH.1            int64\n",
       "S               int64\n",
       "S_percent     float64\n",
       "TOI             int64\n",
       "ATOI          float64\n",
       "BLK           float64\n",
       "HIT             int64\n",
       "FOW           float64\n",
       "FOL           float64\n",
       "FO_percent    float64\n",
       "HART            int64\n",
       "Votes           int64\n",
       "Season          int64\n",
       "dtype: object"
      ]
     },
     "execution_count": 4,
     "metadata": {},
     "output_type": "execute_result"
    }
   ],
   "source": [
    "df.dtypes"
   ]
  },
  {
   "attachments": {},
   "cell_type": "markdown",
   "metadata": {},
   "source": [
    "As we mentioned before, we're mostly interested in predicting goals per season.\n",
    "The distribution of goals per season in our dataset looks like this:\n"
   ]
  },
  {
   "cell_type": "code",
   "execution_count": 5,
   "metadata": {},
   "outputs": [
    {
     "data": {
      "image/png": "[encoded data removed]",
      "text/plain": [
       "<Figure size 640x480 with 1 Axes>"
      ]
     },
     "metadata": {},
     "output_type": "display_data"
    }
   ],
   "source": [
    "g = sns.histplot(data=df, x=\"G\", binwidth=5)\n",
    "plt.xlabel(\"Goals per season\")\n",
    "plt.ylabel(\"Count of players\")\n",
    "\n",
    "plt.show()"
   ]
  },
  {
   "attachments": {},
   "cell_type": "markdown",
   "metadata": {},
   "source": [
    "Here are the descriptive statistics:\n"
   ]
  },
  {
   "cell_type": "code",
   "execution_count": 6,
   "metadata": {},
   "outputs": [
    {
     "data": {
      "text/plain": [
       "count    12328.000000\n",
       "mean         7.484263\n",
       "std          8.846936\n",
       "min          0.000000\n",
       "25%          1.000000\n",
       "50%          4.000000\n",
       "75%         11.000000\n",
       "max         65.000000\n",
       "Name: G, dtype: float64"
      ]
     },
     "execution_count": 6,
     "metadata": {},
     "output_type": "execute_result"
    }
   ],
   "source": [
    "df[\"G\"].describe()"
   ]
  },
  {
   "attachments": {},
   "cell_type": "markdown",
   "metadata": {},
   "source": [
    "We can see, that the average player scores about 7.5 goals per season, the maximum is 65 goals per season, and over 20% of players didn't score any goal in a season.\n"
   ]
  },
  {
   "attachments": {},
   "cell_type": "markdown",
   "metadata": {},
   "source": [
    "The graph below shows distribution of players by season.\n"
   ]
  },
  {
   "cell_type": "code",
   "execution_count": 7,
   "metadata": {},
   "outputs": [
    {
     "data": {
      "image/png": "[encoded data removed]",
      "text/plain": [
       "<Figure size 640x480 with 1 Axes>"
      ]
     },
     "metadata": {},
     "output_type": "display_data"
    }
   ],
   "source": [
    "g = sns.histplot(data=df, x=\"Season\", discrete=True)"
   ]
  },
  {
   "attachments": {},
   "cell_type": "markdown",
   "metadata": {},
   "source": [
    "We can see that the data are evenly distributed between seasons, however data for 2005 are missing because the season was cancelled.\n"
   ]
  },
  {
   "attachments": {},
   "cell_type": "markdown",
   "metadata": {},
   "source": [
    "#### Missing values\n",
    "\n",
    "In total there are 438 missing cells in the dataset, which is about 0.1% of all cells.\n",
    "These are mostly concentrated in two columns:\n",
    "\n",
    "- FO_percent (faceoff win percentage)\n",
    "- S_percent (shooting percentage)\n",
    "\n",
    "In my opinion, this is most likely caused by the fact that the given players didn't take any faceoffs during the season (e.g. defensemen typically don't take faceoffs), or respectively didn't shoot at the goal (maybe the given player played just 1 game in whole season). Both cases will result in division by zero.\n",
    "\n",
    "There is also 1 missing value in each of the following columns: BLK, FOW and FOL.\n",
    "\n",
    "Missing values aren't denoted by any special strings (such as \"None\" or \"Null\"), there are just 2 consecutive commas in the given row.\n",
    "\n",
    "There is one row with player whose age is 0, which is definitely an error in the dataset.\n"
   ]
  },
  {
   "attachments": {},
   "cell_type": "markdown",
   "metadata": {},
   "source": [
    "## Exploratory analysis\n",
    "\n",
    "We're going to explore relations in the dataset.\n",
    "\n",
    "Note: Players who scored 0 goals in a given season are excluded from all graphs.\n",
    "\n",
    "### Goals & player's age\n",
    "\n",
    "Firstly, we're going to explore whether the player's age correlates with the goals scored in any way.\n"
   ]
  },
  {
   "cell_type": "code",
   "execution_count": 8,
   "metadata": {},
   "outputs": [],
   "source": [
    "df = df.loc[df[\"G\"] > 0]"
   ]
  },
  {
   "cell_type": "code",
   "execution_count": 9,
   "metadata": {},
   "outputs": [
    {
     "data": {
      "image/png": "[encoded data removed]",
      "text/plain": [
       "<Figure size 600x600 with 3 Axes>"
      ]
     },
     "metadata": {},
     "output_type": "display_data"
    }
   ],
   "source": [
    "g = sns.JointGrid(data=df, x=\"Age\",y=\"G\")\n",
    "g1 = g.plot(sns.histplot, sns.histplot, discrete=True)\n",
    "g2 = g1.set_axis_labels(\"Age\", \"Goals per season\")"
   ]
  },
  {
   "attachments": {},
   "cell_type": "markdown",
   "metadata": {},
   "source": [
    "From the graph above, we see that suprisingly, there is no visible correlation between these 2 variables. The best results belong to players aged 20-25 results, however these players are also the most represented group in the dataset.\n"
   ]
  },
  {
   "attachments": {},
   "cell_type": "markdown",
   "metadata": {},
   "source": [
    "### Goals & shooting percentage\n",
    "\n",
    "In this part, we'll explore whether the goals scored depend on player's shooting percentage.  \n",
    "Here is a graph showing relation of these 2 variables.\n"
   ]
  },
  {
   "cell_type": "code",
   "execution_count": 10,
   "metadata": {},
   "outputs": [
    {
     "data": {
      "image/png": "[encoded data removed]",
      "text/plain": [
       "<Figure size 600x600 with 3 Axes>"
      ]
     },
     "metadata": {},
     "output_type": "display_data"
    }
   ],
   "source": [
    "df_scored = df.loc[df[\"S_percent\"] > 0]\n",
    "g = sns.JointGrid(data=df_scored, x=\"S_percent\",y=\"G\")\n",
    "g1 = g.plot(sns.histplot, sns.histplot, binwidth=1)\n",
    "g2 = g1.set_axis_labels(\"Shooting percentage\", \"Goals per season\")"
   ]
  },
  {
   "attachments": {},
   "cell_type": "markdown",
   "metadata": {},
   "source": [
    "From the graph, it seems that the number of goals directly depends on shooting percentage.\n",
    "So, we can formulate the following hypothesis: The better shoting percentage, the more goals scored.\n",
    "\n",
    "Of course, this doesn't apply to all data (e.g. there are several players with shooting percentage >= 50% and none of them scored more than 5 goals), however on average it seems to be true.\n"
   ]
  },
  {
   "attachments": {},
   "cell_type": "markdown",
   "metadata": {},
   "source": [
    "### Goals & average time on ice\n",
    "\n",
    "In this section, we're going to explore relation between goals scored and average time on ice.  \n",
    "Here is the graph showing relation between these 2 variables:\n"
   ]
  },
  {
   "cell_type": "code",
   "execution_count": 11,
   "metadata": {},
   "outputs": [
    {
     "data": {
      "image/png": "[encoded data removed]",
      "text/plain": [
       "<Figure size 600x600 with 3 Axes>"
      ]
     },
     "metadata": {},
     "output_type": "display_data"
    }
   ],
   "source": [
    "g = sns.JointGrid(data=df, x=\"ATOI\",y=\"G\")\n",
    "g1 = g.plot(sns.histplot, sns.histplot, binwidth=1)\n",
    "g2 = g1.set_axis_labels(\"Average time on ice\", \"Goals per season\")"
   ]
  },
  {
   "attachments": {},
   "cell_type": "markdown",
   "metadata": {},
   "source": [
    "We can observe that the graph contains 2 clusters (one goes from `average time on ice = 10` up right and second one goes from the same position to the right).\n",
    "\n",
    "In my opinion, the first cluster contains forwards and the second one contains defencemen, who often spend a lot of time on ice, however don't score as much as forwards.\n",
    "There is also some strange data at the left showing players who spend on average < 5 minutes on ice, but score many goals (over 10 or even 20 goals per season).\n",
    "\n",
    "The following graph shows the same relation but this time only for forwards:\n"
   ]
  },
  {
   "cell_type": "code",
   "execution_count": 12,
   "metadata": {},
   "outputs": [
    {
     "data": {
      "image/png": "[encoded data removed]",
      "text/plain": [
       "<Figure size 600x600 with 3 Axes>"
      ]
     },
     "metadata": {},
     "output_type": "display_data"
    }
   ],
   "source": [
    "df_forwards = df.loc[df[\"Pos\"].isin([\"C\",\"LW\",\"RW\"])]\n",
    "\n",
    "g = sns.JointGrid(data=df_forwards, x=\"ATOI\",y=\"G\")\n",
    "g1 = g.plot(sns.histplot, sns.histplot, binwidth=1)\n",
    "g2 = g1.set_axis_labels(\"Average time on ice\", \"Goals per season\")"
   ]
  },
  {
   "attachments": {},
   "cell_type": "markdown",
   "metadata": {},
   "source": [
    "We can see that the first cluster indeed mostly consists of forwards.  \n",
    "The graph also suggests that for **forwards**, we can formulate the following hypothesis: Number of scored goals directly depends on average time on ice (the higher ice time, the more goals).\n",
    "\n",
    "The same graph but for defencemen, looks like this:\n"
   ]
  },
  {
   "cell_type": "code",
   "execution_count": 13,
   "metadata": {},
   "outputs": [
    {
     "data": {
      "image/png": "[encoded data removed]",
      "text/plain": [
       "<Figure size 600x600 with 3 Axes>"
      ]
     },
     "metadata": {},
     "output_type": "display_data"
    }
   ],
   "source": [
    "df_forwards = df.loc[df[\"Pos\"] == \"D\"]\n",
    "\n",
    "g = sns.JointGrid(data=df_forwards, x=\"ATOI\",y=\"G\")\n",
    "g1 = g.plot(sns.histplot, sns.histplot, binwidth=1)\n",
    "g2 = g1.set_axis_labels(\"Average time on ice\", \"Goals per season\")"
   ]
  },
  {
   "attachments": {},
   "cell_type": "markdown",
   "metadata": {},
   "source": [
    "We can observe that most of the strange data (players who spend on average < 5 minutes on ice, but score many goals) from the graph above belong to defencemen.\n",
    "\n",
    "After looking at these suspicious data, we see that the average time on ice is miscalculated.\n",
    "If we divide total time on ice (TOI) by games played (GP), we should get average time on ice (ATOI). However, for these data ATOI is way smaller (mostly in the range 0-5) than the real value (see `ATOI_real` column in the table below). Therefore, it's an error in the data (for further data processing, we may recalculate ATOI values).\n"
   ]
  },
  {
   "cell_type": "code",
   "execution_count": 14,
   "metadata": {},
   "outputs": [
    {
     "data": {
      "text/html": [
       "<div>\n",
       "<style scoped>\n",
       "    .dataframe tbody tr th:only-of-type {\n",
       "        vertical-align: middle;\n",
       "    }\n",
       "\n",
       "    .dataframe tbody tr th {\n",
       "        vertical-align: top;\n",
       "    }\n",
       "\n",
       "    .dataframe thead th {\n",
       "        text-align: right;\n",
       "    }\n",
       "</style>\n",
       "<table border=\"1\" class=\"dataframe\">\n",
       "  <thead>\n",
       "    <tr style=\"text-align: right;\">\n",
       "      <th></th>\n",
       "      <th>Player</th>\n",
       "      <th>Season</th>\n",
       "      <th>Pos</th>\n",
       "      <th>GP</th>\n",
       "      <th>G</th>\n",
       "      <th>TOI</th>\n",
       "      <th>ATOI</th>\n",
       "      <th>ATOI_real</th>\n",
       "    </tr>\n",
       "  </thead>\n",
       "  <tbody>\n",
       "    <tr>\n",
       "      <th>8</th>\n",
       "      <td>Brent Burns</td>\n",
       "      <td>2017</td>\n",
       "      <td>D</td>\n",
       "      <td>82</td>\n",
       "      <td>29</td>\n",
       "      <td>2039</td>\n",
       "      <td>0.866667</td>\n",
       "      <td>24.865854</td>\n",
       "    </tr>\n",
       "    <tr>\n",
       "      <th>15</th>\n",
       "      <td>Victor Hedman</td>\n",
       "      <td>2017</td>\n",
       "      <td>D</td>\n",
       "      <td>79</td>\n",
       "      <td>16</td>\n",
       "      <td>1936</td>\n",
       "      <td>0.500000</td>\n",
       "      <td>24.506329</td>\n",
       "    </tr>\n",
       "    <tr>\n",
       "      <th>107</th>\n",
       "      <td>Roman Josi</td>\n",
       "      <td>2017</td>\n",
       "      <td>D</td>\n",
       "      <td>72</td>\n",
       "      <td>12</td>\n",
       "      <td>1805</td>\n",
       "      <td>1.066667</td>\n",
       "      <td>25.069444</td>\n",
       "    </tr>\n",
       "    <tr>\n",
       "      <th>110</th>\n",
       "      <td>Alex Pietrangelo</td>\n",
       "      <td>2017</td>\n",
       "      <td>D</td>\n",
       "      <td>80</td>\n",
       "      <td>14</td>\n",
       "      <td>2023</td>\n",
       "      <td>1.283333</td>\n",
       "      <td>25.287500</td>\n",
       "    </tr>\n",
       "    <tr>\n",
       "      <th>148</th>\n",
       "      <td>Shea Weber</td>\n",
       "      <td>2017</td>\n",
       "      <td>D</td>\n",
       "      <td>78</td>\n",
       "      <td>17</td>\n",
       "      <td>1955</td>\n",
       "      <td>1.066667</td>\n",
       "      <td>25.064103</td>\n",
       "    </tr>\n",
       "  </tbody>\n",
       "</table>\n",
       "</div>"
      ],
      "text/plain": [
       "               Player  Season Pos  GP   G   TOI      ATOI  ATOI_real\n",
       "8         Brent Burns    2017   D  82  29  2039  0.866667  24.865854\n",
       "15      Victor Hedman    2017   D  79  16  1936  0.500000  24.506329\n",
       "107        Roman Josi    2017   D  72  12  1805  1.066667  25.069444\n",
       "110  Alex Pietrangelo    2017   D  80  14  2023  1.283333  25.287500\n",
       "148        Shea Weber    2017   D  78  17  1955  1.066667  25.064103"
      ]
     },
     "execution_count": 14,
     "metadata": {},
     "output_type": "execute_result"
    }
   ],
   "source": [
    "df_sus = df.loc[(df[\"G\"] > 10) & (df[\"ATOI\"] <= 2) & (df[\"Pos\"] == \"D\"),[\"Player\",\"Season\",\"Pos\",\"GP\",\"G\",\"TOI\",\"ATOI\"]]\n",
    "df_sus[\"ATOI_real\"] = df_sus[\"TOI\"] / df_sus[\"GP\"]\n",
    "df_sus.head(5)"
   ]
  },
  {
   "attachments": {},
   "cell_type": "markdown",
   "metadata": {},
   "source": [
    "After exluding these error data, we see that for defencemen, there is a similar hypothesis: Higher average time on ice typically means more scored goals.\n"
   ]
  },
  {
   "attachments": {},
   "cell_type": "markdown",
   "metadata": {},
   "source": [
    "## Data preparation\n",
    "### Cleaning\n",
    "\n",
    "As mentioned before, there are some wrong data in the dataset.\n",
    "I executed the following steps in order to clean it:\n",
    "\n",
    "- removed the player, whose age is 0\n",
    "- removed the players that had missing values in columns BLK, FOW and FOL (3 rows in total)\n",
    "- replaced missing values in `S_percent` column by zeros. I checked that all of the players, whose `S_percent` value is missing, scored zero goals, therefore setting it to zero is correct.\n",
    "- similarly, I replaced missing `FO_percent` values by zeros (again, I checked that these players didn't win any faceoff).\n",
    "- recalculated all `ATOI` values (as mentioned in the previous section, some of the values are wrong).\n"
   ]
  },
  {
   "cell_type": "code",
   "execution_count": 15,
   "metadata": {},
   "outputs": [],
   "source": [
    "df = pd.read_csv(\"data/nhl-player-data.csv\")\n",
    "df = df.loc[df[\"BLK\"].notna() & (df[\"FOW\"].notna()) & (df[\"FOL\"].notna()) & (df[\"Age\"] > 0)]\n",
    "df[\"ATOI\"] = df[\"TOI\"] / df[\"GP\"]\n",
    "\n",
    "df[\"S_percent\"] = df[\"S_percent\"].fillna(0)\n",
    "df[\"FO_percent\"] = df[\"FO_percent\"].fillna(0)"
   ]
  },
  {
   "attachments": {},
   "cell_type": "markdown",
   "metadata": {},
   "source": [
    "### Transformation\n",
    "For predicting number of scored goals in the next season, I used only players, who played at least 3 consecutive seasons in NHL. \n",
    "If a player has player more seasons in NHL, he will be present in multiple rows of training data (one row for each triple of consecutive seasons).\n",
    "\n",
    "I used the limit of 3 seasons, because more than half of the players satisfies the condition (and therefore will be included in training data) and it's showing some progress of the player.\n",
    "If the limit was lower, there will probably be too little information (only 1 season in training data).\n",
    "\n",
    "I extracted the following features from data:\n",
    "- goals scored\n",
    "- shooting percentage\n",
    "- average time on ice\n",
    "for first and second season. (The number of scored goals in the last (i.e. 3rd) season will be used as a target.)\n",
    "\n",
    "In addition to shooting percentage and ATOI mentioned in hypotheses, I also added goals scored in the seasons as features, because in my opinion it has a big impact on the prediciton for next season.\n",
    "Furthermore, I also added one-hot encoded position of the player into features, because it affects the prediction quite a lot (as shown in the relation between ATOI and goals).\n",
    "\n",
    "The transformed data look like this:"
   ]
  },
  {
   "cell_type": "code",
   "execution_count": 16,
   "metadata": {},
   "outputs": [
    {
     "data": {
      "text/html": [
       "<div>\n",
       "<style scoped>\n",
       "    .dataframe tbody tr th:only-of-type {\n",
       "        vertical-align: middle;\n",
       "    }\n",
       "\n",
       "    .dataframe tbody tr th {\n",
       "        vertical-align: top;\n",
       "    }\n",
       "\n",
       "    .dataframe thead th {\n",
       "        text-align: right;\n",
       "    }\n",
       "</style>\n",
       "<table border=\"1\" class=\"dataframe\">\n",
       "  <thead>\n",
       "    <tr style=\"text-align: right;\">\n",
       "      <th></th>\n",
       "      <th>G_0</th>\n",
       "      <th>S_percent_0</th>\n",
       "      <th>ATOI_0</th>\n",
       "      <th>G_1</th>\n",
       "      <th>S_percent_1</th>\n",
       "      <th>ATOI_1</th>\n",
       "      <th>Pos_C</th>\n",
       "      <th>Pos_D</th>\n",
       "      <th>Pos_LW</th>\n",
       "      <th>Pos_RW</th>\n",
       "    </tr>\n",
       "    <tr>\n",
       "      <th>Player</th>\n",
       "      <th></th>\n",
       "      <th></th>\n",
       "      <th></th>\n",
       "      <th></th>\n",
       "      <th></th>\n",
       "      <th></th>\n",
       "      <th></th>\n",
       "      <th></th>\n",
       "      <th></th>\n",
       "      <th></th>\n",
       "    </tr>\n",
       "  </thead>\n",
       "  <tbody>\n",
       "    <tr>\n",
       "      <th>Zach Boychuk</th>\n",
       "      <td>3</td>\n",
       "      <td>8.6</td>\n",
       "      <td>10.612903</td>\n",
       "      <td>1</td>\n",
       "      <td>6.7</td>\n",
       "      <td>10.181818</td>\n",
       "      <td>1</td>\n",
       "      <td>0</td>\n",
       "      <td>0</td>\n",
       "      <td>0</td>\n",
       "    </tr>\n",
       "    <tr>\n",
       "      <th>Mathew Dumba</th>\n",
       "      <td>8</td>\n",
       "      <td>9.3</td>\n",
       "      <td>15.017241</td>\n",
       "      <td>1</td>\n",
       "      <td>8.3</td>\n",
       "      <td>12.461538</td>\n",
       "      <td>0</td>\n",
       "      <td>1</td>\n",
       "      <td>0</td>\n",
       "      <td>0</td>\n",
       "    </tr>\n",
       "    <tr>\n",
       "      <th>Vladimir Tarasenko</th>\n",
       "      <td>37</td>\n",
       "      <td>14.0</td>\n",
       "      <td>17.623377</td>\n",
       "      <td>21</td>\n",
       "      <td>15.4</td>\n",
       "      <td>15.171875</td>\n",
       "      <td>0</td>\n",
       "      <td>0</td>\n",
       "      <td>0</td>\n",
       "      <td>1</td>\n",
       "    </tr>\n",
       "    <tr>\n",
       "      <th>Ed Jovanovski</th>\n",
       "      <td>12</td>\n",
       "      <td>5.0</td>\n",
       "      <td>22.550000</td>\n",
       "      <td>11</td>\n",
       "      <td>8.1</td>\n",
       "      <td>23.148148</td>\n",
       "      <td>0</td>\n",
       "      <td>1</td>\n",
       "      <td>0</td>\n",
       "      <td>0</td>\n",
       "    </tr>\n",
       "    <tr>\n",
       "      <th>Derek MacKenzie</th>\n",
       "      <td>9</td>\n",
       "      <td>12.9</td>\n",
       "      <td>11.267606</td>\n",
       "      <td>3</td>\n",
       "      <td>9.1</td>\n",
       "      <td>10.348837</td>\n",
       "      <td>1</td>\n",
       "      <td>0</td>\n",
       "      <td>0</td>\n",
       "      <td>0</td>\n",
       "    </tr>\n",
       "    <tr>\n",
       "      <th>Kris Newbury</th>\n",
       "      <td>0</td>\n",
       "      <td>0.0</td>\n",
       "      <td>5.000000</td>\n",
       "      <td>0</td>\n",
       "      <td>0.0</td>\n",
       "      <td>7.833333</td>\n",
       "      <td>1</td>\n",
       "      <td>0</td>\n",
       "      <td>0</td>\n",
       "      <td>0</td>\n",
       "    </tr>\n",
       "    <tr>\n",
       "      <th>Danny Richmond</th>\n",
       "      <td>0</td>\n",
       "      <td>0.0</td>\n",
       "      <td>9.428571</td>\n",
       "      <td>0</td>\n",
       "      <td>0.0</td>\n",
       "      <td>12.318182</td>\n",
       "      <td>0</td>\n",
       "      <td>1</td>\n",
       "      <td>0</td>\n",
       "      <td>0</td>\n",
       "    </tr>\n",
       "    <tr>\n",
       "      <th>Benoit Pouliot</th>\n",
       "      <td>5</td>\n",
       "      <td>14.7</td>\n",
       "      <td>11.837838</td>\n",
       "      <td>2</td>\n",
       "      <td>20.0</td>\n",
       "      <td>8.818182</td>\n",
       "      <td>0</td>\n",
       "      <td>0</td>\n",
       "      <td>1</td>\n",
       "      <td>0</td>\n",
       "    </tr>\n",
       "    <tr>\n",
       "      <th>Mike Hoffman</th>\n",
       "      <td>0</td>\n",
       "      <td>0.0</td>\n",
       "      <td>12.333333</td>\n",
       "      <td>0</td>\n",
       "      <td>0.0</td>\n",
       "      <td>9.000000</td>\n",
       "      <td>1</td>\n",
       "      <td>0</td>\n",
       "      <td>0</td>\n",
       "      <td>0</td>\n",
       "    </tr>\n",
       "    <tr>\n",
       "      <th>Alex Petrovic</th>\n",
       "      <td>2</td>\n",
       "      <td>3.8</td>\n",
       "      <td>16.954545</td>\n",
       "      <td>0</td>\n",
       "      <td>0.0</td>\n",
       "      <td>16.272727</td>\n",
       "      <td>0</td>\n",
       "      <td>1</td>\n",
       "      <td>0</td>\n",
       "      <td>0</td>\n",
       "    </tr>\n",
       "  </tbody>\n",
       "</table>\n",
       "</div>"
      ],
      "text/plain": [
       "                    G_0  S_percent_0     ATOI_0  G_1  S_percent_1     ATOI_1  \\\n",
       "Player                                                                         \n",
       "Zach Boychuk          3          8.6  10.612903    1          6.7  10.181818   \n",
       "Mathew Dumba          8          9.3  15.017241    1          8.3  12.461538   \n",
       "Vladimir Tarasenko   37         14.0  17.623377   21         15.4  15.171875   \n",
       "Ed Jovanovski        12          5.0  22.550000   11          8.1  23.148148   \n",
       "Derek MacKenzie       9         12.9  11.267606    3          9.1  10.348837   \n",
       "Kris Newbury          0          0.0   5.000000    0          0.0   7.833333   \n",
       "Danny Richmond        0          0.0   9.428571    0          0.0  12.318182   \n",
       "Benoit Pouliot        5         14.7  11.837838    2         20.0   8.818182   \n",
       "Mike Hoffman          0          0.0  12.333333    0          0.0   9.000000   \n",
       "Alex Petrovic         2          3.8  16.954545    0          0.0  16.272727   \n",
       "\n",
       "                    Pos_C  Pos_D  Pos_LW  Pos_RW  \n",
       "Player                                            \n",
       "Zach Boychuk            1      0       0       0  \n",
       "Mathew Dumba            0      1       0       0  \n",
       "Vladimir Tarasenko      0      0       0       1  \n",
       "Ed Jovanovski           0      1       0       0  \n",
       "Derek MacKenzie         1      0       0       0  \n",
       "Kris Newbury            1      0       0       0  \n",
       "Danny Richmond          0      1       0       0  \n",
       "Benoit Pouliot          0      0       1       0  \n",
       "Mike Hoffman            1      0       0       0  \n",
       "Alex Petrovic           0      1       0       0  "
      ]
     },
     "execution_count": 16,
     "metadata": {},
     "output_type": "execute_result"
    }
   ],
   "source": [
    "TRAIN_SEASONS = 2\n",
    "\n",
    "def most_common(lst):\n",
    "    return max(set(lst), key=lst.count)\n",
    "\n",
    "def get_four_consecutives(numbers):\n",
    "    numbers.sort()\n",
    "    if len(numbers) < TRAIN_SEASONS + 1:\n",
    "        return None\n",
    "        \n",
    "    consecutives, has_results = [], False\n",
    "    \n",
    "    for i in range(len(numbers) - TRAIN_SEASONS):\n",
    "        y1, y2, y3 = numbers[i:i + TRAIN_SEASONS + 1]\n",
    "        if y1 + 1 == y2 and y1 + 2 == y3:\n",
    "            consecutives += [(y1, y2, y3)]\n",
    "            has_results = True\n",
    "\n",
    "    return consecutives if has_results else None\n",
    "\n",
    "\n",
    "def normalize(row):\n",
    "    seasons, last_season = row[\"Con_seasons\"][:-1], row[\"Con_seasons\"][-1]\n",
    "    indexes = [row[\"Season\"].index(s) for s in seasons]\n",
    "    target_index = row[\"Season\"].index(last_season)\n",
    "\n",
    "    row[\"target\"] = row[\"G\"][target_index]\n",
    "    row[\"Pos\"] = most_common(row[\"Pos\"])\n",
    "\n",
    "    for col_index, i in enumerate(indexes):\n",
    "        row[f\"G_{col_index}\"] = row[\"G\"][i]\n",
    "        row[f\"S_percent_{col_index}\"] = row[\"S_percent\"][i]\n",
    "        row[f\"ATOI_{col_index}\"] = row[\"ATOI\"][i]\n",
    "    \n",
    "    return row\n",
    "\n",
    "# Group the data by player\n",
    "players_agg = df.groupby([\"Player\"]).aggregate(lambda x: list(x))\n",
    "players_agg[\"Con_seasons\"] = players_agg[\"Season\"].apply(get_four_consecutives)\n",
    "players_agg = players_agg.loc[players_agg[\"Con_seasons\"].notna()]\n",
    "players_agg = players_agg.explode(\"Con_seasons\")\n",
    "\n",
    "# create features for each season\n",
    "players_agg = players_agg.apply(normalize, axis=1)\n",
    "\n",
    "# select the right columns\n",
    "columns = [\"Pos\"]\n",
    "for i in range(TRAIN_SEASONS):\n",
    "    columns += [f\"G_{i}\", f\"S_percent_{i}\", f\"ATOI_{i}\"]\n",
    "\n",
    "targets = players_agg[\"target\"]\n",
    "players_agg = players_agg[columns]\n",
    "\n",
    "# Get one hot encoding of Position\n",
    "one_hot = pd.get_dummies(players_agg['Pos'], prefix='Pos')\n",
    "players_agg = players_agg.drop('Pos', axis = 1)\n",
    "players_agg = pd.concat([players_agg, one_hot], axis=1)\n",
    "\n",
    "players_agg.sample(n=10)"
   ]
  },
  {
   "attachments": {},
   "cell_type": "markdown",
   "metadata": {},
   "source": [
    "## Modeling\n",
    "The model is based on [Linear regression](https://en.wikipedia.org/wiki/Linear_regression) with cross-validation.\n",
    "\n",
    "I implemented the cross-validation using [GridSearchCV](https://scikit-learn.org/stable/modules/generated/sklearn.model_selection.GridSearchCV.html) model from `sklearn` library with the following parameters: \n",
    "- number of folds: 5 (default value)\n",
    "- [Regression parameters](https://scikit-learn.org/stable/modules/generated/sklearn.linear_model.LinearRegression.html) for GridSearch: `{'positive': [True, False]}` . Thus, GridSearch will search over specified parameter values for the best estimator, and use it.\n",
    "\n",
    "I used 90% of the data for training and the remaining 10% for testing.\n",
    "\n",
    "Parameters of the model (weights of the features) are displayed below:"
   ]
  },
  {
   "cell_type": "code",
   "execution_count": 34,
   "metadata": {},
   "outputs": [],
   "source": [
    "X_train, X_test, y_train, y_test = train_test_split(players_agg, targets, train_size=0.9)\n",
    "\n",
    "parameters = {'positive': [True, False]}\n",
    "\n",
    "model = GridSearchCV(LinearRegression(), parameters, scoring=\"neg_root_mean_squared_error\").fit(X_train, y_train)"
   ]
  },
  {
   "cell_type": "code",
   "execution_count": 35,
   "metadata": {},
   "outputs": [
    {
     "data": {
      "text/html": [
       "<div>\n",
       "<style scoped>\n",
       "    .dataframe tbody tr th:only-of-type {\n",
       "        vertical-align: middle;\n",
       "    }\n",
       "\n",
       "    .dataframe tbody tr th {\n",
       "        vertical-align: top;\n",
       "    }\n",
       "\n",
       "    .dataframe thead th {\n",
       "        text-align: right;\n",
       "    }\n",
       "</style>\n",
       "<table border=\"1\" class=\"dataframe\">\n",
       "  <thead>\n",
       "    <tr style=\"text-align: right;\">\n",
       "      <th></th>\n",
       "      <th>feature</th>\n",
       "      <th>weight</th>\n",
       "    </tr>\n",
       "  </thead>\n",
       "  <tbody>\n",
       "    <tr>\n",
       "      <th>0</th>\n",
       "      <td>G_0</td>\n",
       "      <td>0.248750</td>\n",
       "    </tr>\n",
       "    <tr>\n",
       "      <th>1</th>\n",
       "      <td>S_percent_0</td>\n",
       "      <td>-0.045150</td>\n",
       "    </tr>\n",
       "    <tr>\n",
       "      <th>2</th>\n",
       "      <td>ATOI_0</td>\n",
       "      <td>0.056741</td>\n",
       "    </tr>\n",
       "    <tr>\n",
       "      <th>3</th>\n",
       "      <td>G_1</td>\n",
       "      <td>0.313462</td>\n",
       "    </tr>\n",
       "    <tr>\n",
       "      <th>4</th>\n",
       "      <td>S_percent_1</td>\n",
       "      <td>-0.077204</td>\n",
       "    </tr>\n",
       "    <tr>\n",
       "      <th>5</th>\n",
       "      <td>ATOI_1</td>\n",
       "      <td>0.558961</td>\n",
       "    </tr>\n",
       "    <tr>\n",
       "      <th>6</th>\n",
       "      <td>Pos_C</td>\n",
       "      <td>1.130136</td>\n",
       "    </tr>\n",
       "    <tr>\n",
       "      <th>7</th>\n",
       "      <td>Pos_D</td>\n",
       "      <td>-5.430978</td>\n",
       "    </tr>\n",
       "    <tr>\n",
       "      <th>8</th>\n",
       "      <td>Pos_LW</td>\n",
       "      <td>2.173465</td>\n",
       "    </tr>\n",
       "    <tr>\n",
       "      <th>9</th>\n",
       "      <td>Pos_RW</td>\n",
       "      <td>2.127377</td>\n",
       "    </tr>\n",
       "  </tbody>\n",
       "</table>\n",
       "</div>"
      ],
      "text/plain": [
       "       feature    weight\n",
       "0          G_0  0.248750\n",
       "1  S_percent_0 -0.045150\n",
       "2       ATOI_0  0.056741\n",
       "3          G_1  0.313462\n",
       "4  S_percent_1 -0.077204\n",
       "5       ATOI_1  0.558961\n",
       "6        Pos_C  1.130136\n",
       "7        Pos_D -5.430978\n",
       "8       Pos_LW  2.173465\n",
       "9       Pos_RW  2.127377"
      ]
     },
     "execution_count": 35,
     "metadata": {},
     "output_type": "execute_result"
    }
   ],
   "source": [
    "feature_weights = pd.DataFrame({'feature' : []})\n",
    "feature_weights[\"feature\"] = players_agg.columns\n",
    "feature_weights[\"weight\"] = model.best_estimator_.coef_ \n",
    "\n",
    "feature_weights"
   ]
  },
  {
   "attachments": {},
   "cell_type": "markdown",
   "metadata": {},
   "source": [
    "We see that our model assigned the highest weights to `Pos_LW` and `Pos_RW` features, while `Pos_D` has the smallest (negative) weight.\n",
    "As mentioned in hypotheses, position of the player definitely affects the number of scored goals (forwards simply score more than defencemen), so this makes sense. However, I expected that goals scored in previous seasons (features `G_0` and `G_1`) would have the highest weights (i.e. the biggest impact on prediction).\n",
    "\n",
    "The model set very small weights (for shooting percentage even negative) to `S_percent_0`, `ATOI_0` and `S_percent_1` features, which is surprising.\n",
    "\n",
    "On the other hand, weight of `ATOI_1` feature is much higher, which makes sense in my opinion, because the more recent data should have bigger impact on prediction."
   ]
  },
  {
   "attachments": {},
   "cell_type": "markdown",
   "metadata": {},
   "source": [
    "## Evaluation\n",
    "\n",
    "For evaluation I used [root-mean-square error](https://en.wikipedia.org/wiki/Root-mean-square_deviation) score.\n",
    "\n",
    "I evaluated the model on testing data"
   ]
  },
  {
   "cell_type": "code",
   "execution_count": 36,
   "metadata": {},
   "outputs": [
    {
     "data": {
      "text/plain": [
       "5.893971181447213"
      ]
     },
     "execution_count": 36,
     "metadata": {},
     "output_type": "execute_result"
    }
   ],
   "source": [
    "predictions = model.predict(X_test)\n",
    "\n",
    "mse = mean_squared_error(y_test, predictions, squared=False)\n",
    "mse"
   ]
  },
  {
   "attachments": {},
   "cell_type": "markdown",
   "metadata": {},
   "source": [
    "RMSE of the model is ~ 6, which means that on average, the predictions differs from the target value by 6 goals, which is in my opinion quite decent result.\n",
    "\n",
    "Below, there is a graph showing comparison between predicted values for testing data and real targets:"
   ]
  },
  {
   "cell_type": "code",
   "execution_count": 37,
   "metadata": {},
   "outputs": [
    {
     "data": {
      "image/png": "[encoded data removed]",
      "text/plain": [
       "<Figure size 640x480 with 1 Axes>"
      ]
     },
     "metadata": {},
     "output_type": "display_data"
    }
   ],
   "source": [
    "results_df = pd.DataFrame({'target' : []})\n",
    "results_df[\"target\"] = y_test\n",
    "results_df[\"prediction\"] = predictions\n",
    "\n",
    "g = sns.scatterplot(data=results_df, x=\"target\", y=\"prediction\")"
   ]
  },
  {
   "attachments": {},
   "cell_type": "markdown",
   "metadata": {},
   "source": [
    "We see that the model typically over-estimates the number of scored goals for small targets. \n",
    "On the other hand, for targets > 20, the predictions are typically under-estimated.\n",
    "\n",
    "The following graph shows the distribution of difference `target - prediction` in test data."
   ]
  },
  {
   "cell_type": "code",
   "execution_count": 39,
   "metadata": {},
   "outputs": [
    {
     "data": {
      "image/png": "[encoded data removed]",
      "text/plain": [
       "<Figure size 640x480 with 1 Axes>"
      ]
     },
     "metadata": {},
     "output_type": "display_data"
    }
   ],
   "source": [
    "differences_df = pd.DataFrame({'difference' : []})\n",
    "differences_df['difference'] = y_test - predictions\n",
    "g = sns.histplot(data=differences_df, x=\"difference\", binwidth=5, binrange=(-20,30))"
   ]
  },
  {
   "attachments": {},
   "cell_type": "markdown",
   "metadata": {},
   "source": [
    "We can see that the data are roughly evenly distributed around 0."
   ]
  },
  {
   "attachments": {},
   "cell_type": "markdown",
   "metadata": {},
   "source": [
    "## Conclusions\n",
    "The goal of this report was to predict how many goals will NHL players score next season, based on various data from past 2 seasons.\n",
    "\n",
    "I created a Linear regression model with 5-fold cross-validation and used RMSE for its evaluation. RMSE on testing data was about 6, i.e. on average, the predictions differs from the  target by 6 goals."
   ]
  }
 ],
 "metadata": {
  "kernelspec": {
   "display_name": "Python 3 (ipykernel)",
   "language": "python",
   "name": "python3"
  },
  "language_info": {
   "codemirror_mode": {
    "name": "ipython",
    "version": 3
   },
   "file_extension": ".py",
   "mimetype": "text/x-python",
   "name": "python",
   "nbconvert_exporter": "python",
   "pygments_lexer": "ipython3",
   "version": "3.10.7"
  },
  "vscode": {
   "interpreter": {
    "hash": "3ba03692466612e15f784c7056843046bc4e9dc8853c41ae894576292cda82b8"
   }
  }
 },
 "nbformat": 4,
 "nbformat_minor": 1
}
