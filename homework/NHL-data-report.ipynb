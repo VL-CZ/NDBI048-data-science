{
 "cells": [
  {
   "cell_type": "raw",
   "metadata": {},
   "source": [
    "author: Vojtěch Lengál\n",
    "title: NHL Players report\n",
    "date: 2022-11-15"
   ]
  },
  {
   "cell_type": "code",
   "execution_count": 30,
   "metadata": {},
   "outputs": [],
   "source": [
    "### Setup\n",
    "%matplotlib inline\n",
    "# %load_ext pretty_jupyter\n",
    "\n",
    "# should enable plotting without explicit call .show()\n",
    "\n",
    "# Import libraries\n",
    "import pandas as pd\n",
    "import numpy as np\n",
    "import seaborn as sns\n",
    "import matplotlib.pyplot as plt\n",
    "from pandas_profiling import ProfileReport\n",
    "from matplotlib.colors import LogNorm\n",
    "\n",
    "# classes for special types\n",
    "from pandas.api.types import CategoricalDtype\n",
    "\n",
    "# Apply the default theme\n",
    "sns.set_theme()"
   ]
  },
  {
   "cell_type": "markdown",
   "metadata": {},
   "source": [
    "## Introduction\n",
    "In this report, we're going to predict how many times will the players score next season. The prediction will be based on various player's data, such as average ice-time, age, shooting percentage, etc.\n",
    "\n",
    "## Dataset overview\n",
    "\n",
    "The provided dataset consists of 2 csv files:\n",
    "\n",
    "### `nhl-teams.csv`: \n",
    "This file contains names of NHL teams together with their short name.\n",
    "There are 35 rows (1 row = 1 team) and only 2 columns. The structure is as follows:\n"
   ]
  },
  {
   "cell_type": "code",
   "execution_count": 31,
   "metadata": {},
   "outputs": [
    {
     "data": {
      "text/html": [
       "<div>\n",
       "<style scoped>\n",
       "    .dataframe tbody tr th:only-of-type {\n",
       "        vertical-align: middle;\n",
       "    }\n",
       "\n",
       "    .dataframe tbody tr th {\n",
       "        vertical-align: top;\n",
       "    }\n",
       "\n",
       "    .dataframe thead th {\n",
       "        text-align: right;\n",
       "    }\n",
       "</style>\n",
       "<table border=\"1\" class=\"dataframe\">\n",
       "  <thead>\n",
       "    <tr style=\"text-align: right;\">\n",
       "      <th></th>\n",
       "      <th>team</th>\n",
       "      <th>team_full</th>\n",
       "    </tr>\n",
       "  </thead>\n",
       "  <tbody>\n",
       "    <tr>\n",
       "      <th>0</th>\n",
       "      <td>ANA</td>\n",
       "      <td>Anaheim Ducks</td>\n",
       "    </tr>\n",
       "    <tr>\n",
       "      <th>1</th>\n",
       "      <td>ARI</td>\n",
       "      <td>Arizona Coyottes</td>\n",
       "    </tr>\n",
       "    <tr>\n",
       "      <th>2</th>\n",
       "      <td>ATL</td>\n",
       "      <td>Atlanta Thrashers</td>\n",
       "    </tr>\n",
       "    <tr>\n",
       "      <th>3</th>\n",
       "      <td>BOS</td>\n",
       "      <td>Boston Bruins</td>\n",
       "    </tr>\n",
       "    <tr>\n",
       "      <th>4</th>\n",
       "      <td>BUF</td>\n",
       "      <td>Buffalo Sabres</td>\n",
       "    </tr>\n",
       "    <tr>\n",
       "      <th>5</th>\n",
       "      <td>CAR</td>\n",
       "      <td>Carolina Hurricanes</td>\n",
       "    </tr>\n",
       "    <tr>\n",
       "      <th>6</th>\n",
       "      <td>CBJ</td>\n",
       "      <td>Columbus Blue Jackets</td>\n",
       "    </tr>\n",
       "    <tr>\n",
       "      <th>7</th>\n",
       "      <td>CGY</td>\n",
       "      <td>Calgary Flames</td>\n",
       "    </tr>\n",
       "    <tr>\n",
       "      <th>8</th>\n",
       "      <td>CHI</td>\n",
       "      <td>Chicago Blackhawks</td>\n",
       "    </tr>\n",
       "    <tr>\n",
       "      <th>9</th>\n",
       "      <td>COL</td>\n",
       "      <td>Colorado Avalanche</td>\n",
       "    </tr>\n",
       "  </tbody>\n",
       "</table>\n",
       "</div>"
      ],
      "text/plain": [
       "  team              team_full\n",
       "0  ANA          Anaheim Ducks\n",
       "1  ARI       Arizona Coyottes\n",
       "2  ATL      Atlanta Thrashers\n",
       "3  BOS          Boston Bruins\n",
       "4  BUF         Buffalo Sabres\n",
       "5  CAR    Carolina Hurricanes\n",
       "6  CBJ  Columbus Blue Jackets\n",
       "7  CGY         Calgary Flames\n",
       "8  CHI     Chicago Blackhawks\n",
       "9  COL     Colorado Avalanche"
      ]
     },
     "execution_count": 31,
     "metadata": {},
     "output_type": "execute_result"
    }
   ],
   "source": [
    "# Reading and inspecting data\n",
    "df = pd.read_csv(\"data/nhl-teams.csv\")\n",
    "df.head(10)"
   ]
  },
  {
   "cell_type": "markdown",
   "metadata": {},
   "source": [
    "### `nhl-player-data.csv` \n",
    "This file contains various data about NHL players (goals, points per season, average time on ice, age, etc.) for seasons 2004-2018.\n",
    "Each row contains data for the given player per season, i.e. if the player has played multiple seasons in NHL, there will be multiple rows containing his data (1 row per each season).\n",
    "\n",
    "Size of the dataset is about 1.34 MB  \n",
    "There are 12328 rows and 32 columns  \n",
    "\n",
    "Structure is as follows:"
   ]
  },
  {
   "cell_type": "code",
   "execution_count": 32,
   "metadata": {
    "collapsed": false
   },
   "outputs": [
    {
     "data": {
      "text/html": [
       "<div>\n",
       "<style scoped>\n",
       "    .dataframe tbody tr th:only-of-type {\n",
       "        vertical-align: middle;\n",
       "    }\n",
       "\n",
       "    .dataframe tbody tr th {\n",
       "        vertical-align: top;\n",
       "    }\n",
       "\n",
       "    .dataframe thead th {\n",
       "        text-align: right;\n",
       "    }\n",
       "</style>\n",
       "<table border=\"1\" class=\"dataframe\">\n",
       "  <thead>\n",
       "    <tr style=\"text-align: right;\">\n",
       "      <th></th>\n",
       "      <th>Rk</th>\n",
       "      <th>Player</th>\n",
       "      <th>Nick</th>\n",
       "      <th>Age</th>\n",
       "      <th>Pos</th>\n",
       "      <th>Tm</th>\n",
       "      <th>GP</th>\n",
       "      <th>G</th>\n",
       "      <th>A</th>\n",
       "      <th>PTS</th>\n",
       "      <th>...</th>\n",
       "      <th>TOI</th>\n",
       "      <th>ATOI</th>\n",
       "      <th>BLK</th>\n",
       "      <th>HIT</th>\n",
       "      <th>FOW</th>\n",
       "      <th>FOL</th>\n",
       "      <th>FO_percent</th>\n",
       "      <th>HART</th>\n",
       "      <th>Votes</th>\n",
       "      <th>Season</th>\n",
       "    </tr>\n",
       "  </thead>\n",
       "  <tbody>\n",
       "    <tr>\n",
       "      <th>0</th>\n",
       "      <td>1</td>\n",
       "      <td>Connor McDavid</td>\n",
       "      <td>mcdavco01</td>\n",
       "      <td>20</td>\n",
       "      <td>C</td>\n",
       "      <td>EDM</td>\n",
       "      <td>82</td>\n",
       "      <td>30</td>\n",
       "      <td>70</td>\n",
       "      <td>100</td>\n",
       "      <td>...</td>\n",
       "      <td>1733</td>\n",
       "      <td>21.133333</td>\n",
       "      <td>29.0</td>\n",
       "      <td>34</td>\n",
       "      <td>348.0</td>\n",
       "      <td>458.0</td>\n",
       "      <td>43.2</td>\n",
       "      <td>1</td>\n",
       "      <td>1604</td>\n",
       "      <td>2017</td>\n",
       "    </tr>\n",
       "    <tr>\n",
       "      <th>1</th>\n",
       "      <td>2</td>\n",
       "      <td>Sidney Crosby</td>\n",
       "      <td>crosbsi01</td>\n",
       "      <td>29</td>\n",
       "      <td>C</td>\n",
       "      <td>PIT</td>\n",
       "      <td>75</td>\n",
       "      <td>44</td>\n",
       "      <td>45</td>\n",
       "      <td>89</td>\n",
       "      <td>...</td>\n",
       "      <td>1491</td>\n",
       "      <td>19.883333</td>\n",
       "      <td>27.0</td>\n",
       "      <td>80</td>\n",
       "      <td>842.0</td>\n",
       "      <td>906.0</td>\n",
       "      <td>48.2</td>\n",
       "      <td>0</td>\n",
       "      <td>1104</td>\n",
       "      <td>2017</td>\n",
       "    </tr>\n",
       "    <tr>\n",
       "      <th>2</th>\n",
       "      <td>3</td>\n",
       "      <td>Patrick Kane</td>\n",
       "      <td>kanepa01</td>\n",
       "      <td>28</td>\n",
       "      <td>RW</td>\n",
       "      <td>CHI</td>\n",
       "      <td>82</td>\n",
       "      <td>34</td>\n",
       "      <td>55</td>\n",
       "      <td>89</td>\n",
       "      <td>...</td>\n",
       "      <td>1754</td>\n",
       "      <td>21.400000</td>\n",
       "      <td>15.0</td>\n",
       "      <td>28</td>\n",
       "      <td>7.0</td>\n",
       "      <td>44.0</td>\n",
       "      <td>13.7</td>\n",
       "      <td>0</td>\n",
       "      <td>206</td>\n",
       "      <td>2017</td>\n",
       "    </tr>\n",
       "    <tr>\n",
       "      <th>3</th>\n",
       "      <td>4</td>\n",
       "      <td>Nicklas Backstrom</td>\n",
       "      <td>backsni02</td>\n",
       "      <td>29</td>\n",
       "      <td>C</td>\n",
       "      <td>WSH</td>\n",
       "      <td>82</td>\n",
       "      <td>23</td>\n",
       "      <td>63</td>\n",
       "      <td>86</td>\n",
       "      <td>...</td>\n",
       "      <td>1497</td>\n",
       "      <td>18.266667</td>\n",
       "      <td>33.0</td>\n",
       "      <td>45</td>\n",
       "      <td>685.0</td>\n",
       "      <td>648.0</td>\n",
       "      <td>51.4</td>\n",
       "      <td>0</td>\n",
       "      <td>60</td>\n",
       "      <td>2017</td>\n",
       "    </tr>\n",
       "    <tr>\n",
       "      <th>4</th>\n",
       "      <td>5</td>\n",
       "      <td>Nikita Kucherov</td>\n",
       "      <td>kucheni01</td>\n",
       "      <td>23</td>\n",
       "      <td>RW</td>\n",
       "      <td>TBL</td>\n",
       "      <td>74</td>\n",
       "      <td>40</td>\n",
       "      <td>45</td>\n",
       "      <td>85</td>\n",
       "      <td>...</td>\n",
       "      <td>1438</td>\n",
       "      <td>19.433333</td>\n",
       "      <td>20.0</td>\n",
       "      <td>30</td>\n",
       "      <td>0.0</td>\n",
       "      <td>0.0</td>\n",
       "      <td>0.0</td>\n",
       "      <td>0</td>\n",
       "      <td>119</td>\n",
       "      <td>2017</td>\n",
       "    </tr>\n",
       "    <tr>\n",
       "      <th>5</th>\n",
       "      <td>6</td>\n",
       "      <td>Brad Marchand</td>\n",
       "      <td>marchbr03</td>\n",
       "      <td>28</td>\n",
       "      <td>LW</td>\n",
       "      <td>BOS</td>\n",
       "      <td>80</td>\n",
       "      <td>39</td>\n",
       "      <td>46</td>\n",
       "      <td>85</td>\n",
       "      <td>...</td>\n",
       "      <td>1555</td>\n",
       "      <td>19.433333</td>\n",
       "      <td>35.0</td>\n",
       "      <td>51</td>\n",
       "      <td>13.0</td>\n",
       "      <td>23.0</td>\n",
       "      <td>36.1</td>\n",
       "      <td>0</td>\n",
       "      <td>184</td>\n",
       "      <td>2017</td>\n",
       "    </tr>\n",
       "    <tr>\n",
       "      <th>6</th>\n",
       "      <td>7</td>\n",
       "      <td>Mark Scheifele</td>\n",
       "      <td>scheima01</td>\n",
       "      <td>23</td>\n",
       "      <td>C</td>\n",
       "      <td>WPG</td>\n",
       "      <td>79</td>\n",
       "      <td>32</td>\n",
       "      <td>50</td>\n",
       "      <td>82</td>\n",
       "      <td>...</td>\n",
       "      <td>1624</td>\n",
       "      <td>20.566667</td>\n",
       "      <td>34.0</td>\n",
       "      <td>49</td>\n",
       "      <td>635.0</td>\n",
       "      <td>826.0</td>\n",
       "      <td>43.5</td>\n",
       "      <td>0</td>\n",
       "      <td>0</td>\n",
       "      <td>2017</td>\n",
       "    </tr>\n",
       "    <tr>\n",
       "      <th>7</th>\n",
       "      <td>8</td>\n",
       "      <td>Leon Draisaitl</td>\n",
       "      <td>draisle01</td>\n",
       "      <td>21</td>\n",
       "      <td>C</td>\n",
       "      <td>EDM</td>\n",
       "      <td>82</td>\n",
       "      <td>29</td>\n",
       "      <td>48</td>\n",
       "      <td>77</td>\n",
       "      <td>...</td>\n",
       "      <td>1548</td>\n",
       "      <td>18.883333</td>\n",
       "      <td>36.0</td>\n",
       "      <td>41</td>\n",
       "      <td>476.0</td>\n",
       "      <td>496.0</td>\n",
       "      <td>49.0</td>\n",
       "      <td>0</td>\n",
       "      <td>0</td>\n",
       "      <td>2017</td>\n",
       "    </tr>\n",
       "    <tr>\n",
       "      <th>8</th>\n",
       "      <td>9</td>\n",
       "      <td>Brent Burns</td>\n",
       "      <td>burnsbr01</td>\n",
       "      <td>31</td>\n",
       "      <td>D</td>\n",
       "      <td>SJS</td>\n",
       "      <td>82</td>\n",
       "      <td>29</td>\n",
       "      <td>47</td>\n",
       "      <td>76</td>\n",
       "      <td>...</td>\n",
       "      <td>2039</td>\n",
       "      <td>0.866667</td>\n",
       "      <td>142.0</td>\n",
       "      <td>69</td>\n",
       "      <td>0.0</td>\n",
       "      <td>0.0</td>\n",
       "      <td>0.0</td>\n",
       "      <td>0</td>\n",
       "      <td>273</td>\n",
       "      <td>2017</td>\n",
       "    </tr>\n",
       "    <tr>\n",
       "      <th>9</th>\n",
       "      <td>10</td>\n",
       "      <td>Vladimir Tarasenko</td>\n",
       "      <td>tarasvl01</td>\n",
       "      <td>25</td>\n",
       "      <td>RW</td>\n",
       "      <td>STL</td>\n",
       "      <td>82</td>\n",
       "      <td>39</td>\n",
       "      <td>36</td>\n",
       "      <td>75</td>\n",
       "      <td>...</td>\n",
       "      <td>1515</td>\n",
       "      <td>18.466667</td>\n",
       "      <td>31.0</td>\n",
       "      <td>50</td>\n",
       "      <td>5.0</td>\n",
       "      <td>5.0</td>\n",
       "      <td>50.0</td>\n",
       "      <td>0</td>\n",
       "      <td>0</td>\n",
       "      <td>2017</td>\n",
       "    </tr>\n",
       "  </tbody>\n",
       "</table>\n",
       "<p>10 rows × 32 columns</p>\n",
       "</div>"
      ],
      "text/plain": [
       "   Rk              Player       Nick  Age Pos   Tm  GP   G   A  PTS  ...  \\\n",
       "0   1      Connor McDavid  mcdavco01   20   C  EDM  82  30  70  100  ...   \n",
       "1   2       Sidney Crosby  crosbsi01   29   C  PIT  75  44  45   89  ...   \n",
       "2   3        Patrick Kane   kanepa01   28  RW  CHI  82  34  55   89  ...   \n",
       "3   4   Nicklas Backstrom  backsni02   29   C  WSH  82  23  63   86  ...   \n",
       "4   5     Nikita Kucherov  kucheni01   23  RW  TBL  74  40  45   85  ...   \n",
       "5   6       Brad Marchand  marchbr03   28  LW  BOS  80  39  46   85  ...   \n",
       "6   7      Mark Scheifele  scheima01   23   C  WPG  79  32  50   82  ...   \n",
       "7   8      Leon Draisaitl  draisle01   21   C  EDM  82  29  48   77  ...   \n",
       "8   9         Brent Burns  burnsbr01   31   D  SJS  82  29  47   76  ...   \n",
       "9  10  Vladimir Tarasenko  tarasvl01   25  RW  STL  82  39  36   75  ...   \n",
       "\n",
       "    TOI       ATOI    BLK  HIT    FOW    FOL  FO_percent  HART  Votes  Season  \n",
       "0  1733  21.133333   29.0   34  348.0  458.0        43.2     1   1604    2017  \n",
       "1  1491  19.883333   27.0   80  842.0  906.0        48.2     0   1104    2017  \n",
       "2  1754  21.400000   15.0   28    7.0   44.0        13.7     0    206    2017  \n",
       "3  1497  18.266667   33.0   45  685.0  648.0        51.4     0     60    2017  \n",
       "4  1438  19.433333   20.0   30    0.0    0.0         0.0     0    119    2017  \n",
       "5  1555  19.433333   35.0   51   13.0   23.0        36.1     0    184    2017  \n",
       "6  1624  20.566667   34.0   49  635.0  826.0        43.5     0      0    2017  \n",
       "7  1548  18.883333   36.0   41  476.0  496.0        49.0     0      0    2017  \n",
       "8  2039   0.866667  142.0   69    0.0    0.0         0.0     0    273    2017  \n",
       "9  1515  18.466667   31.0   50    5.0    5.0        50.0     0      0    2017  \n",
       "\n",
       "[10 rows x 32 columns]"
      ]
     },
     "execution_count": 32,
     "metadata": {},
     "output_type": "execute_result"
    }
   ],
   "source": [
    "df = pd.read_csv(\"data/nhl-player-data.csv\")\n",
    "df.head(10)"
   ]
  },
  {
   "cell_type": "markdown",
   "metadata": {},
   "source": [
    "Types of the columns are displayed below:"
   ]
  },
  {
   "cell_type": "code",
   "execution_count": 33,
   "metadata": {},
   "outputs": [
    {
     "data": {
      "text/plain": [
       "Rk              int64\n",
       "Player         object\n",
       "Nick           object\n",
       "Age             int64\n",
       "Pos            object\n",
       "Tm             object\n",
       "GP              int64\n",
       "G               int64\n",
       "A               int64\n",
       "PTS             int64\n",
       "plusminus       int64\n",
       "PIM             int64\n",
       "PS            float64\n",
       "EV              int64\n",
       "PP              int64\n",
       "SH              int64\n",
       "GW              int64\n",
       "EV.1            int64\n",
       "PP.1            int64\n",
       "SH.1            int64\n",
       "S               int64\n",
       "S_percent     float64\n",
       "TOI             int64\n",
       "ATOI          float64\n",
       "BLK           float64\n",
       "HIT             int64\n",
       "FOW           float64\n",
       "FOL           float64\n",
       "FO_percent    float64\n",
       "HART            int64\n",
       "Votes           int64\n",
       "Season          int64\n",
       "dtype: object"
      ]
     },
     "execution_count": 33,
     "metadata": {},
     "output_type": "execute_result"
    }
   ],
   "source": [
    "df.dtypes"
   ]
  },
  {
   "cell_type": "markdown",
   "metadata": {},
   "source": [
    "As we mentioned before, we're mostly interested in predicting goals per season. \n",
    "The distribution of goals per season in our dataset looks like this:"
   ]
  },
  {
   "cell_type": "code",
   "execution_count": 34,
   "metadata": {},
   "outputs": [
    {
     "data": {
      "image/png": "[encoded data removed]",
      "text/plain": [
       "<Figure size 640x480 with 1 Axes>"
      ]
     },
     "metadata": {},
     "output_type": "display_data"
    }
   ],
   "source": [
    "g = sns.histplot(data=df, x=\"G\", binwidth=5)\n",
    "plt.xlabel(\"Goals per season\")\n",
    "plt.ylabel(\"Count of players\")\n",
    "\n",
    "plt.show()"
   ]
  },
  {
   "cell_type": "markdown",
   "metadata": {},
   "source": [
    "Here are the descriptive statistics:"
   ]
  },
  {
   "cell_type": "code",
   "execution_count": 35,
   "metadata": {},
   "outputs": [
    {
     "data": {
      "text/plain": [
       "count    12328.000000\n",
       "mean         7.484263\n",
       "std          8.846936\n",
       "min          0.000000\n",
       "25%          1.000000\n",
       "50%          4.000000\n",
       "75%         11.000000\n",
       "max         65.000000\n",
       "Name: G, dtype: float64"
      ]
     },
     "execution_count": 35,
     "metadata": {},
     "output_type": "execute_result"
    }
   ],
   "source": [
    "df[\"G\"].describe()"
   ]
  },
  {
   "cell_type": "markdown",
   "metadata": {},
   "source": [
    "We can see, that the average player scores about 7.5 goals per season, the maximum is 65 goals per season, and over 20% of players didn't score any goal in a season."
   ]
  },
  {
   "cell_type": "markdown",
   "metadata": {},
   "source": [
    "The graph below shows distribution of players by season."
   ]
  },
  {
   "cell_type": "code",
   "execution_count": 36,
   "metadata": {},
   "outputs": [
    {
     "data": {
      "image/png": "[encoded data removed]",
      "text/plain": [
       "<Figure size 640x480 with 1 Axes>"
      ]
     },
     "metadata": {},
     "output_type": "display_data"
    }
   ],
   "source": [
    "g = sns.histplot(data=df, x=\"Season\", discrete=True)"
   ]
  },
  {
   "cell_type": "markdown",
   "metadata": {},
   "source": [
    "We can see that the data are evenly distributed between seasons, however data for 2005 are missing because the season was cancelled."
   ]
  },
  {
   "cell_type": "markdown",
   "metadata": {},
   "source": [
    "#### Missing values\n",
    "In total there are 438 missing cells in the dataset, which is about 0.1% of all cells.\n",
    "These are mostly concentrated in two columns:\n",
    "- FO_percent (faceoff win percentage)\n",
    "- S_percent (shooting percentage)\n",
    "\n",
    "In my opinion, this is most likely caused by the fact that the given players didn't take any faceoffs during the season (e.g. defensemen typically don't take faceoffs), or respectively didn't shoot at the goal (maybe the given player played just 1 game in whole season). Both cases will result in division by zero.\n",
    "\n",
    "There is also 1 missing value in each of the following columns: BLK, FOW and FOL.\n",
    "\n",
    "Missing values aren't denoted by any special strings (such as \"None\" or \"Null\"), there are just 2 consecutive commas in the given row.\n",
    "\n",
    "There is one row with player whose age is 0, which is definitely an error in the dataset."
   ]
  },
  {
   "cell_type": "markdown",
   "metadata": {},
   "source": [
    "## Exploratory analysis"
   ]
  },
  {
   "cell_type": "markdown",
   "metadata": {},
   "source": [
    "- goals based on age\n",
    "- goals based on toi\n",
    "- goals based on shoot percentage"
   ]
  },
  {
   "cell_type": "code",
   "execution_count": 142,
   "metadata": {},
   "outputs": [
    {
     "data": {
      "image/png": "[encoded data removed]",
      "text/plain": [
       "<Figure size 600x600 with 3 Axes>"
      ]
     },
     "metadata": {},
     "output_type": "display_data"
    }
   ],
   "source": [
    "g = sns.JointGrid(data=df, x=\"Age\",y=\"G\")\n",
    "g1 = g.plot(sns.histplot, sns.histplot, discrete=True)\n",
    "g2 = g1.set_axis_labels(\"Age\", \"Goals per season\")"
   ]
  },
  {
   "cell_type": "code",
   "execution_count": 149,
   "metadata": {},
   "outputs": [
    {
     "data": {
      "image/png": "[encoded data removed]",
      "text/plain": [
       "<Figure size 600x600 with 3 Axes>"
      ]
     },
     "metadata": {},
     "output_type": "display_data"
    }
   ],
   "source": [
    "g = sns.JointGrid(data=df, x=\"S_percent\",y=\"G\")\n",
    "g1 = g.plot(sns.histplot, sns.histplot, binwidth=1)\n",
    "g2 = g1.set_axis_labels(\"Shooting percentage\", \"Goals per season\")\n",
    "\n",
    "# pt = pd.pivot_table(df, values='Rk', index='G', columns='S_percent', aggfunc='count')\n",
    "# sns.heatmap(pt, norm = LogNorm())"
   ]
  },
  {
   "cell_type": "code",
   "execution_count": 144,
   "metadata": {},
   "outputs": [
    {
     "data": {
      "image/png": "[encoded data removed]",
      "text/plain": [
       "<Figure size 600x600 with 3 Axes>"
      ]
     },
     "metadata": {},
     "output_type": "display_data"
    }
   ],
   "source": [
    "g = sns.JointGrid(data=df, x=\"ATOI\",y=\"G\")\n",
    "g1 = g.plot(sns.histplot, sns.histplot, binwidth=1)\n",
    "g2 = g1.set_axis_labels(\"Average time on ice\", \"Goals per season\")"
   ]
  }
 ],
 "metadata": {
  "kernelspec": {
   "display_name": "Python 3 (ipykernel)",
   "language": "python",
   "name": "python3"
  },
  "language_info": {
   "codemirror_mode": {
    "name": "ipython",
    "version": 3
   },
   "file_extension": ".py",
   "mimetype": "text/x-python",
   "name": "python",
   "nbconvert_exporter": "python",
   "pygments_lexer": "ipython3",
   "version": "3.10.7"
  },
  "vscode": {
   "interpreter": {
    "hash": "3ba03692466612e15f784c7056843046bc4e9dc8853c41ae894576292cda82b8"
   }
  }
 },
 "nbformat": 4,
 "nbformat_minor": 1
}
