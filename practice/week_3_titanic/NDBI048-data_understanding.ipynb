{
 "cells": [
  {
   "cell_type": "markdown",
   "metadata": {},
   "source": [
    "# Data understanding\n",
    "\n",
    "We will analyze the *titanic* dataset:\n",
    "\n",
    "* to realize what information we have (statistical units, variables)\n",
    "* to check data quality and reliability of data\n",
    "* to understand distributions of variables and their relationships\n",
    "* to suggest steps for data cleaning\n",
    "* to suggest useful data transformations\n",
    "\n",
    "## 0. What is our goal?\n",
    "\n",
    "Analysis of date comes out from the goal of the **business understanding**. So first we set that goal:\n",
    "\n",
    "> We analyse Titanic data to find out how survival for each passenger can be predicted from his or her attributes.\n",
    "\n",
    "Let's start with loading data and making a quick overview."
   ]
  },
  {
   "cell_type": "code",
   "execution_count": null,
   "metadata": {},
   "outputs": [],
   "source": [
    "### Setup\n",
    "%matplotlib inline\n",
    "# should enable plotting without explicit call .show()\n",
    "\n",
    "# Import libraries\n",
    "import pandas as pd\n",
    "import numpy as np\n",
    "import seaborn as sns\n",
    "import matplotlib.pyplot as plt\n",
    "\n",
    "# classes for special types\n",
    "from pandas.api.types import CategoricalDtype\n",
    "\n",
    "# Apply the default theme\n",
    "sns.set_theme()\n",
    "\n",
    "# Reading and inspecting data\n",
    "df = pd.read_csv(\"titanic_train.csv\")\n",
    "df"
   ]
  },
  {
   "cell_type": "markdown",
   "metadata": {},
   "source": [
    "## 1. Basic overview of the data\n",
    "\n",
    "1. Rows: How many? What are statistical units? How can a unit be identified?\n",
    "2. Columns: How many? What are their names, types, meanings? At the first glance, do values seem plausible? Are all of them useful for our purpose?\n",
    "\n",
    "Summary: do we need to carry out any initial transformations? (i. e. to make a sample of rows or columns; to convert column names to lowercase; to provide a column with ID; to remove some columns etc.)"
   ]
  },
  {
   "cell_type": "code",
   "execution_count": null,
   "metadata": {},
   "outputs": [],
   "source": []
  },
  {
   "cell_type": "markdown",
   "metadata": {},
   "source": [
    "## 2. Checking the data quality\n",
    "\n",
    "* Are there any duplicated rows (with exclusion of ID)?\n",
    "* What are counts and shares of missing values in the dataset columns?\n",
    "* Are counts of missing values expectable and acceptable?\n",
    "* Are any columns or rows (almost) empty and may be removed as useless?\n",
    "* In which columns should we consider fixing of values (correction, filling)?"
   ]
  },
  {
   "cell_type": "code",
   "execution_count": null,
   "metadata": {},
   "outputs": [],
   "source": []
  },
  {
   "cell_type": "markdown",
   "metadata": {},
   "source": [
    "After all these check we can do a summary about data quality and make recommendations for preprocessing (cleaning, fixing) data. Some of them can be done immediately if it is necessary or may be useful for the analysis."
   ]
  },
  {
   "cell_type": "markdown",
   "metadata": {},
   "source": [
    "## 3. Checking variable distributions\n",
    "\n",
    "It's a good idea to start with the most important variables: the target one (*survived*) and the ones we expect to provide great information for the target one while being complete (*sex*, *pclass*, *fare*, *embarked*). Then we go to variables which are more complicated or need a fixing (*age*).\n",
    "\n",
    "For each of those six variables above, try to do following:\n",
    "\n",
    "* Make descriptive statistics of the distribution and a proper graph.\n",
    "* Consider if the distribution is expectable and seems plausible (no strange or obviously invalid values).\n",
    "* If the variable has missing values, try to figure out reasons of it and to suggest a fixing, if necessary."
   ]
  },
  {
   "cell_type": "code",
   "execution_count": null,
   "metadata": {},
   "outputs": [],
   "source": []
  },
  {
   "cell_type": "markdown",
   "metadata": {},
   "source": [
    "## 4. Analysis of relationships\n",
    "\n",
    "The last part of this practice section is to analyze relationship between variables. Check how is *survival* related to each of five remaining variables considered in the previous part (*sex*, *pclass*, *fare*, *embarked*, *age*)."
   ]
  },
  {
   "cell_type": "code",
   "execution_count": null,
   "metadata": {},
   "outputs": [],
   "source": []
  }
 ],
 "metadata": {
  "kernelspec": {
   "display_name": "Python 3 (ipykernel)",
   "language": "python",
   "name": "python3"
  },
  "language_info": {
   "codemirror_mode": {
    "name": "ipython",
    "version": 3
   },
   "file_extension": ".py",
   "mimetype": "text/x-python",
   "name": "python",
   "nbconvert_exporter": "python",
   "pygments_lexer": "ipython3",
   "version": "3.8.8"
  }
 },
 "nbformat": 4,
 "nbformat_minor": 1
}
