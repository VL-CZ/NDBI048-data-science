{
 "cells": [
  {
   "cell_type": "markdown",
   "metadata": {},
   "source": [
    "# Data understanding\n",
    "\n",
    "We will analyze the *titanic* dataset:\n",
    "\n",
    "* to realize what information we have (statistical units, variables)\n",
    "* to check data quality and reliability of data\n",
    "* to understand distributions of variables and their relationships\n",
    "* to suggest steps for data cleaning\n",
    "* to suggest useful data transformations\n",
    "\n",
    "## 0. What is our goal?\n",
    "\n",
    "Analysis of date comes out from the goal of the **business understanding**. So first we set that goal:\n",
    "\n",
    "> We analyse Titanic data to find out how survival for each passenger can be predicted from his or her attributes.\n",
    "\n",
    "Let's start with loading data and making a quick overview."
   ]
  },
  {
   "cell_type": "code",
   "execution_count": null,
   "metadata": {},
   "outputs": [],
   "source": [
    "### Setup\n",
    "%matplotlib inline\n",
    "# should enable plotting without explicit call .show()\n",
    "\n",
    "# Import libraries\n",
    "import pandas as pd\n",
    "import numpy as np\n",
    "import seaborn as sns\n",
    "import matplotlib.pyplot as plt\n",
    "\n",
    "# classes for special types\n",
    "from pandas.api.types import CategoricalDtype\n",
    "\n",
    "# Apply the default theme\n",
    "sns.set_theme()\n",
    "\n",
    "# Reading and inspecting data\n",
    "df = pd.read_csv(\"titanic_train.csv\")\n",
    "df"
   ]
  },
  {
   "cell_type": "markdown",
   "metadata": {},
   "source": [
    "## 1. Basic overview of the data\n",
    "\n",
    "1. Rows: How many? What are statistical units? How can a unit be identified?\n",
    "2. Columns: How many? What are their names, types, meanings? At the first glance, do values seem plausible? Are all of them useful for our purpose?\n",
    "\n",
    "Summary: do we need to carry out any initial transformations? (i. e. to make a sample of rows or columns; to convert column names to lowercase; to provide a column with ID; to remove some columns etc.)"
   ]
  },
  {
   "cell_type": "code",
   "execution_count": null,
   "metadata": {},
   "outputs": [],
   "source": [
    "print(df.shape) # count of rows and columns\n",
    "# units are passengers, it seems they can be identified by passenger_id\n",
    "# but are passenger_id unique?\n",
    "print(df[[\"passenger_id\"]].nunique()) # nunique method, DataFrame with one column only\n",
    "print(len(np.unique(df[\"passenger_id\"]))) # other way using NumPy unique function\n",
    "# number of unique values is equal to number of rows => ok"
   ]
  },
  {
   "cell_type": "code",
   "execution_count": null,
   "metadata": {},
   "outputs": [],
   "source": [
    "# column names and types\n",
    "print(df.dtypes)\n",
    "# names are in lowercase, meaningful and short, no need to adjust\n",
    "\n",
    "# column meaning\n",
    "# at the first sight, meaning is clear and values seem plausible for all\n",
    "# - except sibsp, parch, embarked, boat, body\n",
    "# we have to get an explanation or extra info - can be found on the Internet\n",
    "# sibsp: Number of siblings/spouses aboard\n",
    "# parch: Number of parents/children aboard\n",
    "# embarked: Port of embarkation (C = Cherbourg; Q = Queenstown; S = Southampton)\n",
    "# boat: Lifeboat\n",
    "# body: Body Identification Number\n",
    "\n",
    "# all columns seem to be useful for our goal\n",
    "\n",
    "# column types\n",
    "# all types seem proper except body and boat (we expect integer if it is id number)\n",
    "# moreover the variable *embarked* could be ordered (the order of stops is S, C, Q)\n",
    "# let's consider it later, at the moment of variable inspection"
   ]
  },
  {
   "cell_type": "markdown",
   "metadata": {},
   "source": [
    "## 2. Checking the data quality\n",
    "\n",
    "* Are there any duplicated rows (with exclusion of ID)?\n",
    "* What are counts and shares of missing values in the dataset columns?\n",
    "* Are counts of missing values expectable and acceptable?\n",
    "* Are any columns or rows (almost) empty and may be removed as useless?\n",
    "* In which columns should we consider fixing of values (correction, filling)?"
   ]
  },
  {
   "cell_type": "code",
   "execution_count": null,
   "metadata": {},
   "outputs": [],
   "source": [
    "# duplicated rows?\n",
    "sum(df.duplicated(subset=['pclass', 'name', 'sex', 'age', 'sibsp', 'parch',\n",
    "       'ticket', 'fare', 'cabin', 'embarked', 'boat', 'body', 'home.dest',\n",
    "       'survived']))\n",
    "# 0 duplicated rows"
   ]
  },
  {
   "cell_type": "code",
   "execution_count": null,
   "metadata": {},
   "outputs": [],
   "source": [
    "# counts of missing values\n",
    "# absolute counts: len(df) - df.count()\n",
    "# relative counts (shares):\n",
    "print(1 - df.count()/len(df))\n",
    "\n",
    "# occurences of missings: age (rather a lot => problem), fare and embarked (1 case each - no much problem),\n",
    "# - cabin, boat and body (high but expectable => no much problem),\n",
    "# - home.dest (around a half but maybe not important)\n",
    "\n",
    "# the most important variable *survived* is available for all records\n",
    "# => no need to remove rows\n",
    "# some columns contain much missing values but still may be useful\n",
    "# - we can use the fact of missingness as a variable/feature\n",
    "# - (e. g. for *cabin* or *boat*)\n",
    "\n",
    "# *age*, *fare* and *embarked* deserve fixing"
   ]
  },
  {
   "cell_type": "code",
   "execution_count": null,
   "metadata": {},
   "outputs": [],
   "source": [
    "# rows with many missing values\n",
    "df.count(axis=1).value_counts()\n",
    "\n",
    "# no row is complete but this is not surprising (*boat* and *body* are sparse)\n",
    "# minimum of non-missing is 10 - looks like we have no \"almost empty\" rows"
   ]
  },
  {
   "cell_type": "markdown",
   "metadata": {},
   "source": [
    "After all these check we can do a summary about data quality and make recommendations for preprocessing (cleaning, fixing) data. Some of them can be done immediately if it is necessary or may be useful for the analysis."
   ]
  },
  {
   "cell_type": "code",
   "execution_count": null,
   "metadata": {},
   "outputs": [],
   "source": [
    "# the variable *embarked* could be ordered (the order of stops is S, C, Q)\n",
    "embarked_type = CategoricalDtype(categories=[\"S\", \"C\", \"Q\"], ordered=True)\n",
    "df[\"embarked\"] = df[\"embarked\"].astype(embarked_type)"
   ]
  },
  {
   "cell_type": "markdown",
   "metadata": {},
   "source": [
    "## 3. Checking variable distributions\n",
    "\n",
    "It's a good idea to start with the most important variables: the target one (*survived*) and the ones we expect to provide great information for the target one while being complete (*sex*, *pclass*, *fare*, *embarked*). Then we go to variables which are more complicated or need a fixing (*age*).\n",
    "\n",
    "For each of those six variables above, try to do following:\n",
    "\n",
    "* Make descriptive statistics of the distribution and a proper graph.\n",
    "* Consider if the distribution is expectable and seems plausible (no strange or obviously invalid values).\n",
    "* If the variable has missing values, try to figure out reasons of it and to suggest a fixing, if necessary."
   ]
  },
  {
   "cell_type": "code",
   "execution_count": null,
   "metadata": {},
   "outputs": [],
   "source": [
    "# Example: embarked\n",
    "# frequency table\n",
    "freqtab = df.groupby(\"embarked\").agg(count=(\"passenger_id\", \"count\")) # absolute frequencies (counts)\n",
    "freqtab[\"count_cum\"] = freqtab[\"count\"].cumsum() # cumulative frequencies\n",
    "freqtab[\"count_rel\"] = freqtab[\"count\"] / sum(freqtab[\"count\"]) # relative frequencies\n",
    "freqtab[\"count_relcum\"] = freqtab[\"count_rel\"].cumsum() # cumulative relative frequencies\n",
    "print(freqtab)\n",
    "\n",
    "# graph\n",
    "g = sns.displot(data=df, y=\"embarked\", stat=\"proportion\") # relative frequencies directly from DataFrame\n",
    "\n",
    "# for stacked barplot, we use frequency table computed above\n",
    "g = sns.displot(data=freqtab.assign(hlp=\"\"),\n",
    "                x=\"hlp\", hue=\"embarked\", multiple=\"stack\", weights=\"count_rel\")"
   ]
  },
  {
   "cell_type": "code",
   "execution_count": null,
   "metadata": {},
   "outputs": [],
   "source": [
    "# one missing value - attempt to fix\n",
    "# who has an empty *embarked*?\n",
    "print(df[df[\"embarked\"].isna()])\n",
    "# did she share the ticket or the cabin with anyone else?\n",
    "print(df[df[\"ticket\"]==\"113572\"])\n",
    "print(df[df[\"cabin\"]==\"B28\"])\n",
    "# unfortunately, no one else travelled on that ticket or in that cabin\n",
    "\n",
    "# we can try to estimate embarkment place by fare, class and cabin first letter\n",
    "df[(df[\"pclass\"]==1) & (df[\"cabin\"].str.slice(stop=1) == \"B\")]\n",
    "# there is a big share of Cherbourg embarkment among females with similar fare and \"B\" cabins\n",
    "# so we can fill \"C\" for the case with missing *embarked* value"
   ]
  },
  {
   "cell_type": "markdown",
   "metadata": {},
   "source": [
    "## 4. Analysis of relationships\n",
    "\n",
    "The last part of this practice section is to analyze relationship between variables. Check how is *survival* related to each of five remaining variables considered in the previous part (*sex*, *pclass*, *fare*, *embarked*, *age*)."
   ]
  },
  {
   "cell_type": "code",
   "execution_count": null,
   "metadata": {},
   "outputs": [],
   "source": [
    "# Example: survival by class\n",
    "print(df.groupby(\"pclass\").agg(surv_class=(\"survived\", \"mean\")))\n",
    "g = sns.catplot(data=df, x=\"pclass\", y=\"survived\", kind=\"bar\", errorbar=None)"
   ]
  }
 ],
 "metadata": {
  "kernelspec": {
   "display_name": "Python 3 (ipykernel)",
   "language": "python",
   "name": "python3"
  },
  "language_info": {
   "codemirror_mode": {
    "name": "ipython",
    "version": 3
   },
   "file_extension": ".py",
   "mimetype": "text/x-python",
   "name": "python",
   "nbconvert_exporter": "python",
   "pygments_lexer": "ipython3",
   "version": "3.8.8"
  }
 },
 "nbformat": 4,
 "nbformat_minor": 1
}
