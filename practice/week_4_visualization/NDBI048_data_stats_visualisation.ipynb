{
 "cells": [
  {
   "cell_type": "markdown",
   "id": "bf4f17ca",
   "metadata": {},
   "source": [
    "# Visualisation (Python &ndash; seaborn)"
   ]
  },
  {
   "cell_type": "markdown",
   "id": "acab7550",
   "metadata": {},
   "source": [
    "## 1. Examples for the lecture\n",
    "\n",
    "Here are examples of computations and graphs used for the lecture ***Tools for EDA & visualisation***. Study and run them, they may be useful for your work in the next section.\n",
    "\n",
    "Complete tutorials to pandas and seaborn can be found at links:\n",
    "\n",
    "* [Pandas](https://pandas.pydata.org)\n",
    "* [Seaborn](https://seaborn.pydata.org)"
   ]
  },
  {
   "cell_type": "markdown",
   "id": "c6060570",
   "metadata": {},
   "source": [
    "First we read packages, setup the environment, read and adjust data."
   ]
  },
  {
   "cell_type": "code",
   "execution_count": 4,
   "id": "ea2bf1de",
   "metadata": {},
   "outputs": [],
   "source": [
    "### Setup\n",
    "%matplotlib inline\n",
    "# should enable plotting without explicit call .show()\n",
    "\n",
    "# Import libraries\n",
    "import pandas as pd\n",
    "import numpy as np\n",
    "import seaborn as sns\n",
    "import matplotlib.pyplot as plt\n",
    "\n",
    "# classes for special types\n",
    "from pandas.api.types import CategoricalDtype\n",
    "\n",
    "# Apply the default theme, set bigger font\n",
    "sns.set_theme()\n",
    "\n",
    "# Reading and adjusting data\n",
    "K = pd.read_csv(\"application_train.csv\")\n",
    "K = K[0:500] # only first 500 records as a sample\n",
    "K.columns = K.columns.str.lower() # column names to lowercase\n",
    "# new columns with more intuitive values\n",
    "K[\"age\"] = -K[\"days_birth\"] / 365.25 \n",
    "K[\"yrs_employed\"] = -K[\"days_employed\"] / 365.25\n",
    "K[\"yrs_employed\"] = np.where(K[\"yrs_employed\"] < 0, np.nan, K[\"yrs_employed\"]) # cleaning from nonsense values"
   ]
  },
  {
   "cell_type": "markdown",
   "id": "e0305cc3",
   "metadata": {},
   "source": [
    "### 1.1 Distributions of individual variables\n",
    "\n",
    "Basic seaborn method for plotting graph of individual distribution is [displot](https://seaborn.pydata.org/tutorial/distributions.html). It can make plots both for categorial and numeric variables.\n",
    "\n",
    "Let's start with some **categorial variables**. We make a frequency table (we combine absolute and relative frequencies). For ordinal (ordered) variable, it may be meaningful to compute cumulative frequencies."
   ]
  },
  {
   "cell_type": "code",
   "execution_count": null,
   "id": "2dfe3f07",
   "metadata": {},
   "outputs": [],
   "source": [
    "# Categorial variable - frequency table\n",
    "freqtab = K.groupby(\"name_type_suite\").agg(count=(\"sk_id_curr\", \"count\")) # absolute frequencies (counts)\n",
    "freqtab[\"count_rel\"] = freqtab[\"count\"] / sum(freqtab[\"count\"]) # relative frequencies\n",
    "freqtab"
   ]
  },
  {
   "cell_type": "code",
   "execution_count": null,
   "id": "e6011dea",
   "metadata": {},
   "outputs": [],
   "source": [
    "# for cumulative frequencies, the variable needs to be ordered\n",
    "cat_type = CategoricalDtype(categories=[\"Lower secondary\", \"Secondary / secondary special\",\n",
    "                                        \"Incomplete higher\", \"Higher education\"],\n",
    "                            ordered=True)\n",
    "K[\"education\"] = K[\"name_education_type\"].astype(cat_type)\n",
    "# frequency table\n",
    "freqtab = K.groupby(\"education\").agg(count=(\"sk_id_curr\", \"count\")) # absolute frequencies (counts)\n",
    "freqtab[\"count_cum\"] = freqtab[\"count\"].cumsum() # cumulative frequencies\n",
    "freqtab[\"count_rel\"] = freqtab[\"count\"] / sum(freqtab[\"count\"]) # relative frequencies\n",
    "freqtab[\"count_relcum\"] = freqtab[\"count_rel\"].cumsum() # cumulative relative frequencies\n",
    "freqtab"
   ]
  },
  {
   "cell_type": "markdown",
   "id": "546133dd",
   "metadata": {},
   "source": [
    "The visualisation of frequencies is simple &ndash; we use barplot, either standard (bars beside) or stacked (useful for cumulative frequencies). Variable name is assigned either to *x* or to *y* parameter, bars are then either vertical or horizontal."
   ]
  },
  {
   "cell_type": "code",
   "execution_count": null,
   "id": "89b571af",
   "metadata": {},
   "outputs": [],
   "source": [
    "# graphs for absolute and relative frequencies\n",
    "# done directly from DataFrame, no need to compute frequency table\n",
    "g = sns.displot(data=K, y=\"name_type_suite\") # absolute freqs\n",
    "g = sns.displot(data=K, y=\"name_type_suite\", stat='probability') # relative freqs - difference only at Y scale"
   ]
  },
  {
   "cell_type": "code",
   "execution_count": null,
   "id": "15bb487e",
   "metadata": {},
   "outputs": [],
   "source": [
    "# frequencies for ordinal variable\n",
    "g = sns.displot(data=K, y=\"education\", stat=\"probability\") # relative frequencies directly from DataFrame\n",
    "\n",
    "# for stacked barplot, we use frequency table computed above\n",
    "freqtab[\"hlp\"] = [\"\"] * len(freqtab) # dummy variable, just for filling the seaborn parameter\n",
    "# \"education\" is an alternative name for the index here\n",
    "g = sns.displot(data=freqtab, x=\"hlp\", hue=\"education\", multiple=\"stack\", weights=\"count_rel\")\n",
    "\n",
    "# for stacked absolute frequencies, use \"count\" instead of \"count_rel\""
   ]
  },
  {
   "cell_type": "markdown",
   "id": "4ab8a647",
   "metadata": {},
   "source": [
    "If we want to annotate the graph, we may use *set* methods. For more fine-tuning (colors etc.) see seaborn tutorial."
   ]
  },
  {
   "cell_type": "code",
   "execution_count": null,
   "id": "73ed3e9c",
   "metadata": {},
   "outputs": [],
   "source": [
    "g = sns.displot(data=freqtab, x=\"hlp\", hue=\"education\", multiple=\"stack\", weights=\"count_rel\") \\\n",
    "    .set_axis_labels(\"Education\", \"Relative frequency\") \\\n",
    "    .set(title=\"Distribution of education\")"
   ]
  },
  {
   "cell_type": "markdown",
   "id": "02b232c4",
   "metadata": {},
   "source": [
    "Now we treat some **numeric variables**. We make bunch of graphs with different level of detail and smoothing. Many of them use *displot* method and the parameter *kind* changes type of graph (ecdf, density etc.) from the default type, which is histogram. Some graphs use *catplot* method because stripplot and swarmplot are under that method, not under displot.\n",
    "\n",
    "If the variable is numeric but with few unique values, we can treat it as categorial &ndash; note using *discrete* parameter to adjust bar positions in histogram."
   ]
  },
  {
   "cell_type": "code",
   "execution_count": null,
   "id": "ff9b6d68",
   "metadata": {},
   "outputs": [],
   "source": [
    "### Numerical discrete variable\n",
    "# treated as categorial\n",
    "g = sns.displot(data=K, x=\"cnt_fam_members\") # not so pretty\n",
    "g = sns.displot(data=K, x=\"cnt_fam_members\", discrete=True) # better adjusted bars"
   ]
  },
  {
   "cell_type": "markdown",
   "id": "494cf815",
   "metadata": {},
   "source": [
    "Continuous numeric variable can be plotted many ways depending on required completeness of information."
   ]
  },
  {
   "cell_type": "code",
   "execution_count": null,
   "id": "c8024b05",
   "metadata": {},
   "outputs": [],
   "source": [
    "# rug can be displayed via catplot and stripplot or swarmplot\n",
    "g = sns.stripplot(data=K, x=\"ext_source_1\", jitter=False, size=2)\n",
    "# for no overlapping, use\n",
    "g = sns.catplot(data=K, x=\"ext_source_1\")\n",
    "g = sns.catplot(data=K, x=\"ext_source_1\", kind=\"swarm\")"
   ]
  },
  {
   "cell_type": "code",
   "execution_count": null,
   "id": "ccf9b884",
   "metadata": {},
   "outputs": [],
   "source": [
    "# ecdf with rug\n",
    "g = sns.displot(data=K, x=\"ext_source_1\", kind=\"ecdf\", rug=True)"
   ]
  },
  {
   "cell_type": "code",
   "execution_count": null,
   "id": "4ec2d5ff",
   "metadata": {},
   "outputs": [],
   "source": [
    "# histogram\n",
    "g = sns.displot(data=K, x=\"ext_source_1\", bins=5)\n",
    "# for less smoothing, use bigger number of bins:\n",
    "g = sns.displot(data=K, x=\"ext_source_1\", bins=20)"
   ]
  },
  {
   "cell_type": "code",
   "execution_count": null,
   "id": "66e495d1",
   "metadata": {},
   "outputs": [],
   "source": [
    "# density with rug\n",
    "g = sns.displot(data=K, x=\"ext_source_1\", kind=\"kde\", rug=True, fill=True, bw_adjust=1.5)\n",
    "# for less smoothing, use bigger number of bins:\n",
    "g = sns.displot(data=K, x=\"ext_source_1\", kind=\"kde\", rug=True, fill=True, bw_adjust=0.5)"
   ]
  },
  {
   "cell_type": "markdown",
   "id": "6fddc1f9",
   "metadata": {},
   "source": [
    "For numeric variable, information of distribution can be usually \"compressed\" into few numbers (statistics)."
   ]
  },
  {
   "cell_type": "code",
   "execution_count": null,
   "id": "db081d5a",
   "metadata": {},
   "outputs": [],
   "source": [
    "# computing statistical characteristics of distribution\n",
    "print(\"Min and max age: \", \"%.1f\" % K[\"age\"].min(), \"--\", \"%.1f\" % K[\"age\"].max())\n",
    "print(\"Mean age: \", \"%.1f\" % K[\"age\"].mean())\n",
    "print(\"Median age: \", \"%.1f\" % K[\"age\"].median())\n",
    "print(\"Std. dev. of age: \", \"%.1f\" % K[\"age\"].std())\n",
    "\n",
    "print(\"Decils of age:\\n\")\n",
    "hlp_10s = [i/10.0 for i in range(0, 11)]\n",
    "print(K[\"age\"].quantile(hlp_10s))"
   ]
  },
  {
   "cell_type": "markdown",
   "id": "67dbf38e",
   "metadata": {},
   "source": [
    "For a skewed distribution, quantiles are more useful than mean or standard deviation. They can be plotted as ECDF (quantiles can be calculated from Y axis) or boxplot."
   ]
  },
  {
   "cell_type": "code",
   "execution_count": null,
   "id": "5812c121",
   "metadata": {},
   "outputs": [],
   "source": [
    "# quantiles for skewed distribution - ecdf, boxplot\n",
    "g = sns.displot(data=K, x=\"yrs_employed\", kind=\"ecdf\") \\\n",
    "    .refline(y=0.25)\n",
    "g = sns.catplot(data=K, y=\"yrs_employed\", kind=\"box\")"
   ]
  },
  {
   "cell_type": "markdown",
   "id": "d01de385",
   "metadata": {},
   "source": [
    "### 1.2 Relationships of variables\n",
    "\n",
    "Method for analysis and plotting are different depending on type (categorial or numeric) of both variables. \n",
    "\n",
    "* If one of variables is categorial, the basic strategy is to split the data into categories by this variable and to study distribution of the other variable for each category (and to compare distributions among various categories).\n",
    "* If both variables are numeric, then we use bivariate plots and compute statistics like correlation.\n",
    "\n",
    "Let's start with the case of both variables categorial. In this case we usually compute a contingency table (2-D frequency table)."
   ]
  },
  {
   "cell_type": "code",
   "execution_count": null,
   "id": "921e6914",
   "metadata": {},
   "outputs": [],
   "source": [
    "# contingency table with absolute frequencies\n",
    "pd.crosstab(K[\"name_family_status\"], K[\"code_gender\"])"
   ]
  },
  {
   "cell_type": "code",
   "execution_count": null,
   "id": "ef30d3ff",
   "metadata": {},
   "outputs": [],
   "source": [
    "# for relative frequencies in contingency table, use parameter normalize:\n",
    "pd.crosstab(K[\"name_family_status\"], K[\"code_gender\"], normalize=\"columns\") # relative by columns"
   ]
  },
  {
   "cell_type": "markdown",
   "id": "dab1e664",
   "metadata": {},
   "source": [
    "Visualisation of contingency table, similarly to frequency table, can be done by some kind of barplot. Bars can be:\n",
    "\n",
    "* put beside one by one\n",
    "* stacked within each category as absolute counts\n",
    "* stacked within each category as relative counts (all stacked bars sum up to 1)"
   ]
  },
  {
   "cell_type": "code",
   "execution_count": null,
   "id": "e6a9d1cc",
   "metadata": {},
   "outputs": [],
   "source": [
    "# barplot with bars beside\n",
    "g = sns.displot(data=K, x=\"code_gender\", hue=\"name_family_status\", multiple=\"dodge\")\\\n",
    "    .refline(x=0.5) # auxiliary line to split categories"
   ]
  },
  {
   "cell_type": "code",
   "execution_count": null,
   "id": "59b48b3b",
   "metadata": {},
   "outputs": [],
   "source": [
    "# barplot with stacked bars as absolute counts\n",
    "g = sns.displot(data=K, x=\"code_gender\", hue=\"name_family_status\", multiple=\"stack\")"
   ]
  },
  {
   "cell_type": "code",
   "execution_count": null,
   "id": "eba6fe5e",
   "metadata": {},
   "outputs": [],
   "source": [
    "# barplot stacked as relative counts (sums up to 1)\n",
    "# needs data preparation\n",
    "hlp_df = pd.crosstab(K[\"name_family_status\"], K[\"code_gender\"], normalize=\"columns\")\n",
    "print(hlp_df)\n",
    "# for plotting stacked barplot, we need to transform this \"wide\" format to \"long\" format\n",
    "hlp_df.reset_index(inplace=True)\n",
    "hlp_df = pd.melt(hlp_df, id_vars=\"name_family_status\", var_name=\"code_gender\", value_name=\"prop\")\n",
    "print(hlp_df)\n",
    "\n",
    "g = sns.displot(data=hlp_df, x=\"code_gender\", hue=\"name_family_status\", multiple=\"stack\", weights=\"prop\")"
   ]
  },
  {
   "cell_type": "markdown",
   "id": "d5abb212",
   "metadata": {},
   "source": [
    "Another idea is to make *heatmap* &ndash; replace each cell in a contingency table by color tone according to the value in the cell. This is good for plotting absolute frequencies but may be confusing for relative ones."
   ]
  },
  {
   "cell_type": "code",
   "execution_count": null,
   "id": "a73cd696",
   "metadata": {},
   "outputs": [],
   "source": [
    "# discrete heatmap\n",
    "g = sns.displot(data=K, x=\"code_gender\", y=\"name_family_status\", cbar=True)"
   ]
  },
  {
   "cell_type": "markdown",
   "id": "6e4f817a",
   "metadata": {},
   "source": [
    "Having one categorial and one numeric variable, we can split the data by categorial variable and compute statistics by categories. There are many ways how to do splitting by categories when plotting:\n",
    "\n",
    "* multiple lines (curves), possibly overlapping\n",
    "* use one axis for categories (sections inside one graph), distribution graph in each section separately\n",
    "* split figure to separate graphs\n",
    "\n",
    "We can either use *displot* with parameters *hue* or *col* or *catplot* with category variable as *x* (or *y*, if we want split the graph horizontally)."
   ]
  },
  {
   "cell_type": "code",
   "execution_count": null,
   "id": "c449adab",
   "metadata": {},
   "outputs": [],
   "source": [
    "# numeric vs. category as overlapping lines/curves\n",
    "g = sns.displot(data=K, x=\"ext_source_1\", hue=\"code_gender\") # overlapping histograms\n",
    "g = sns.displot(data=K, x=\"ext_source_1\", hue=\"code_gender\", kind=\"kde\") # overlapping KDE\n"
   ]
  },
  {
   "cell_type": "code",
   "execution_count": null,
   "id": "90c08922",
   "metadata": {},
   "outputs": [],
   "source": [
    "# numeric vs. category as separate graphs\n",
    "g = sns.displot(data=K, x=\"ext_source_1\", col=\"code_gender\",\n",
    "                stat=\"probability\", common_norm=False) # separate histograms"
   ]
  },
  {
   "cell_type": "code",
   "execution_count": null,
   "id": "027ca328",
   "metadata": {},
   "outputs": [],
   "source": [
    "# numeric vs. category as sections of one graph\n",
    "g = sns.catplot(data=K, x=\"code_gender\", y=\"ext_source_1\") # stripplot\n",
    "g = sns.catplot(data=K, x=\"code_gender\", y=\"ext_source_1\", kind=\"violin\") # violinplot\n",
    "g = sns.catplot(data=K.assign(temp=\"\"), x=\"temp\", y=\"ext_source_1\", hue=\"code_gender\", kind=\"violin\", split=True)"
   ]
  },
  {
   "cell_type": "markdown",
   "id": "b76ac0e9",
   "metadata": {},
   "source": [
    "We may want to compute statistics like mean, median or SD by categories and compare them. Computing is easy by pandas *groupby* and *agg* methods. For plotting by seaborn we can use *barplot*, which is a special functionality of *catplot* method."
   ]
  },
  {
   "cell_type": "code",
   "execution_count": null,
   "id": "1bf6630f",
   "metadata": {},
   "outputs": [],
   "source": [
    "# statistics by categories\n",
    "K.groupby(\"code_gender\").agg({\"ext_source_1\": [\"mean\", \"median\", \"std\"]})"
   ]
  },
  {
   "cell_type": "code",
   "execution_count": null,
   "id": "a14191c4",
   "metadata": {},
   "outputs": [],
   "source": [
    "# barplots with estimator by categories\n",
    "g = sns.catplot(data=K, x=\"code_gender\", y=\"ext_source_1\", kind=\"bar\")\n",
    "g = sns.catplot(data=K, x=\"code_gender\", y=\"yrs_employed\", kind=\"box\")"
   ]
  },
  {
   "cell_type": "markdown",
   "id": "83b72bda",
   "metadata": {},
   "source": [
    "When both variables are numeric, we use *relplot* or *displot* method with two basic cases:\n",
    "\n",
    "* for each x value there can be more observations &ndash; *scatterplot* (a cloud of points), heatmap, contourplot\n",
    "* for each x value there is only one observation or we want to aggregate over y axis &ndash; *lineplot* (time series)"
   ]
  },
  {
   "cell_type": "code",
   "execution_count": null,
   "id": "6b70ed52",
   "metadata": {},
   "outputs": [],
   "source": [
    "g = sns.relplot(data=K, x=\"age\", y=\"ext_source_1\") # scatterplot\n",
    "g = sns.displot(data=K, x=\"age\", y=\"ext_source_1\", cbar=True) # heatmap\n",
    "g = sns.displot(data=K, x=\"age\", y=\"ext_source_1\", kind=\"kde\") # contourplot"
   ]
  },
  {
   "cell_type": "markdown",
   "id": "ff1ff38c",
   "metadata": {},
   "source": [
    "Scatterplot or contourplot can be combined with graphs of individual distributions (histogram, density). It does method *jointplot*."
   ]
  },
  {
   "cell_type": "code",
   "execution_count": null,
   "id": "f9cab4fc",
   "metadata": {},
   "outputs": [],
   "source": [
    "# jointplot - both scatterplot and individual distributions\n",
    "g = sns.jointplot(data=K, x=\"age\", y=\"ext_source_1\")"
   ]
  },
  {
   "cell_type": "code",
   "execution_count": null,
   "id": "26d32cb5",
   "metadata": {},
   "outputs": [],
   "source": [
    "# lineplot\n",
    "# try yourself :-)"
   ]
  },
  {
   "cell_type": "markdown",
   "id": "605e0e41",
   "metadata": {},
   "source": [
    "## 2. Tasks for you\n",
    "\n",
    "We will use the same data as above (file *application_train.csv* from *kaggle_home_credit.zip*) but bigger volume of it.\n",
    "\n",
    "1. Read file *application_train.csv* again and make from it a random sample of 5 000 records.\n",
    "2. Transform data as above: *data_birth* -> *age*, *days_employed* -> *years_employed*.\n",
    "3. Explore distribution of *age* by ECDF, density estimation, histogram, boxplot:\n",
    "   + In histogram use bins of 5 years, try to make reasonable boundaries of them (e. g. 20-25 etc., see parameter *bins*).\n",
    "   + In density estimation, limit the curve to the variable range (see parameter *cut* in *kdeplot*). Try various amount of smoothing.\n",
    "   + For one graph (no matter which one) do a neat annotation (proper title, axis labels), try to change theme (*set_theme* method), font size (*font_scale* in *set* method), color (find yourself).\n",
    "4. Is distribution of *age* more likely Gaussian-like, or skewed? Does 1-sigma and 2-sigma rule hold for it?\n",
    "5. Explore distribution of *cnt_children*, consider it like a categorial ordered variable &ndash; make frequency table(s) and graphs.\n",
    "6. Explore relationship of *flag_own_car*, *name_family_status*, *yrs_employed* and *ext_source_1* to answer following questions:\n",
    "   - What is share of car owners in groups by family status? (Compute owner shares as decimal numbers and plot them as by categories.)\n",
    "   - Plot *ext_source_1* and *yrs_employed* first together and then with distinction of car ownership as a category. (Hint: making some axis in log scale may help.)\n",
    "   - What are distributions of *ext_source_1* in groups by family status (make a plot)? What statistics do describe well them distribution? Compute them for each group.\n",
    "   - Do the same for *yrs_employed* instead of *ext_source_1*. Do we use same or different statistics to describe distribution of *yrs_employed*? Again, compute them.\n",
    "7. Make a plot of *age* distribution for grouping by *code_gender* and *cnt_children* (together, i. e. nested grouping)."
   ]
  },
  {
   "cell_type": "code",
   "execution_count": null,
   "id": "7aa7a039",
   "metadata": {},
   "outputs": [],
   "source": []
  }
 ],
 "metadata": {
  "kernelspec": {
   "display_name": "Python 3 (ipykernel)",
   "language": "python",
   "name": "python3"
  },
  "language_info": {
   "codemirror_mode": {
    "name": "ipython",
    "version": 3
   },
   "file_extension": ".py",
   "mimetype": "text/x-python",
   "name": "python",
   "nbconvert_exporter": "python",
   "pygments_lexer": "ipython3",
   "version": "3.8.8"
  }
 },
 "nbformat": 4,
 "nbformat_minor": 5
}
