{
 "cells": [
  {
   "cell_type": "markdown",
   "id": "bf4f17ca",
   "metadata": {},
   "source": [
    "# Visualisation (Python &ndash; seaborn)"
   ]
  },
  {
   "cell_type": "markdown",
   "id": "869d2b82",
   "metadata": {},
   "source": [
    "## 2. Tasks for you\n",
    "\n",
    "We will use the same data as above (file *application_train.csv* from *kaggle_home_credit.zip*) but bigger volume of it.\n",
    "\n",
    "1. Read file *application_train.csv* again and make from it a random sample of 5 000 records."
   ]
  },
  {
   "cell_type": "code",
   "execution_count": null,
   "id": "2890db4e",
   "metadata": {},
   "outputs": [],
   "source": [
    "### Setup\n",
    "# Import libraries\n",
    "import pandas as pd\n",
    "import numpy as np\n",
    "import seaborn as sns\n",
    "\n",
    "# classes for special types\n",
    "from pandas.api.types import CategoricalDtype\n",
    "\n",
    "# Apply the default theme, set bigger font\n",
    "sns.set_theme()\n",
    "\n",
    "# Reading and adjusting data\n",
    "K = pd.read_csv(\"application_train.csv\")\n",
    "K = K.sample(n=5000, axis=0) # random sample of 5000 records\n",
    "K.columns = K.columns.str.lower() # column names to lowercase"
   ]
  },
  {
   "cell_type": "markdown",
   "id": "bf2606f8",
   "metadata": {},
   "source": [
    "2. Transform data as above: *data_birth* -> *age*, *days_employed* -> *years_employed* (nonsense data replace by np.nan)."
   ]
  },
  {
   "cell_type": "code",
   "execution_count": null,
   "id": "501f029e",
   "metadata": {},
   "outputs": [],
   "source": [
    "K[\"age\"] = -K[\"days_birth\"] / 365.25 \n",
    "K[\"yrs_employed\"] = -K[\"days_employed\"] / 365.25\n",
    "K[\"yrs_employed\"] = np.where(K[\"yrs_employed\"] < 0, np.nan, K[\"yrs_employed\"]) # cleaning from nonsense values"
   ]
  },
  {
   "cell_type": "markdown",
   "id": "6cc8cd3c",
   "metadata": {},
   "source": [
    "3. Explore distribution of *age* by ECDF, density estimation, histogram, boxplot:\n",
    "   - In histogram use bins of 5 years, try to make reasonable boundaries of them (e. g. 20-25 etc., see parameter *bins*).\n",
    "   - In density estimation, limit the curve to the variable range (see parameter *cut* in *histplot*).\n",
    "   - In density, try various amount of smoothing.\n",
    "   - For one graph (no matter which one) do a neat annotation (proper title, axis labels), try to change theme (*set_theme* method), font size (*font_scale* in *set* method), color (find yourself)."
   ]
  },
  {
   "cell_type": "code",
   "execution_count": null,
   "id": "49d3a8ad",
   "metadata": {},
   "outputs": [],
   "source": [
    "g = sns.displot(data=K, x=\"age\", kind=\"ecdf\")\n",
    "g = sns.displot(data=K, x=\"age\", kind=\"kde\", cut=0, bw_adjust=0.8)\n",
    "g = sns.displot(data=K, x=\"age\", bins=range(20, 75, 5), color=\"green\") \\\n",
    "    .set_axis_labels(\"Age [years]\", \"Count\") \\\n",
    "    .set(title=\"Distribution of applicants' age\")\n",
    "g = sns.catplot(data=K, y=\"age\", kind=\"box\")"
   ]
  },
  {
   "cell_type": "markdown",
   "id": "be97d148",
   "metadata": {},
   "source": [
    "4. Is distribution of *age* more likely Gaussian-like, or skewed? Does 1-sigma and 2-sigma rule hold for it?"
   ]
  },
  {
   "cell_type": "code",
   "execution_count": null,
   "id": "c15b4701",
   "metadata": {},
   "outputs": [],
   "source": [
    "# From the histogram the distribution looks like something between uniform and normal distribution,\n",
    "# i. e. it is close to Gaussian.\n",
    "# For 1-sigma and 2_sigma rule, let's compute the mean and SD (\"sigma\"):\n",
    "age_mean = K[\"age\"].mean()\n",
    "age_std = K[\"age\"].std()\n",
    "print(\"Mean age: \", \"%.1f\" % age_mean)\n",
    "print(\"SD age: \", \"%.1f\" % age_std)\n",
    "print(\"Share of record within 1 sigma:\", \"%.3f\" % np.mean(np.abs(K[\"age\"] - age_mean) < age_std))\n",
    "print(\"Share of record within 2 sigma:\", \"%.3f\" % np.mean(np.abs(K[\"age\"] - age_mean) < 2*age_std))\n",
    "# Data approximately holds both rules"
   ]
  },
  {
   "cell_type": "markdown",
   "id": "49c46413",
   "metadata": {},
   "source": [
    "5. Explore distribution of *cnt_children*, consider it like a categorial ordered variable &ndash; make frequency table(s) and graphs."
   ]
  },
  {
   "cell_type": "code",
   "execution_count": null,
   "id": "0fe3c520",
   "metadata": {},
   "outputs": [],
   "source": [
    "# frequency table(s)\n",
    "hlp_df = K.groupby(\"cnt_children\").agg(cnt_abs=(\"sk_id_curr\", \"count\"))\n",
    "hlp_df[\"cnt_cum\"] = hlp_df[\"cnt_abs\"].cumsum()\n",
    "hlp_df[\"cnt_rel\"] = hlp_df[\"cnt_abs\"] / sum(hlp_df[\"cnt_abs\"])\n",
    "hlp_df[\"cnt_rel_cum\"] = hlp_df[\"cnt_rel\"].cumsum()\n",
    "print(hlp_df)\n",
    "\n",
    "# graphs\n",
    "g = sns.displot(data=K, x=\"cnt_children\", discrete=True)\n",
    "hlp_df[\"hlp\"] = \"\"\n",
    "g = sns.displot(data=hlp_df, x=\"hlp\", hue=\"cnt_children\", multiple=\"stack\", weights=\"cnt_rel\")"
   ]
  },
  {
   "cell_type": "markdown",
   "id": "a2600583",
   "metadata": {},
   "source": [
    "6. Explore relationship of *flag_own_car*, *name_family_status*, *yrs_employed* and *ext_source_1* to answer following questions:\n",
    "   - What is share of car owners in groups by family status? (Compute owner shares as decimal numbers and plot them as means in categories &ndash; mean of 0/1 variable is, in fact, share of 1's.)\n",
    "   - Plot *ext_source_1* and *yrs_employed* first together and then with distinction of car ownership as a category.\n",
    "   - What is distribution *ext_source_1* in groups by family status (make a plot)? What statistics do describe well this distribution? Compute them for each group.\n",
    "   - Do the same for *yrs_employed* instead of *ext_source_1*. Do we use same or different statistics to describe distribution of *yrs_employed*? Again, compute them."
   ]
  },
  {
   "cell_type": "code",
   "execution_count": null,
   "id": "8945fa6a",
   "metadata": {},
   "outputs": [],
   "source": []
  },
  {
   "cell_type": "markdown",
   "id": "c89d7dc5",
   "metadata": {},
   "source": [
    "7. Make a plot of *age* distribution for grouping by *code_gender* and *cnt_children* (together, i. e. nested grouping)."
   ]
  },
  {
   "cell_type": "code",
   "execution_count": null,
   "id": "7aa7a039",
   "metadata": {},
   "outputs": [],
   "source": [
    "g = sns.catplot(data=K, x=\"cnt_children\", y=\"age\", hue=\"code_gender\", kind=\"violin\", split=True)\n",
    "g = sns.catplot(data=K, x=\"cnt_children\", y=\"age\", hue=\"code_gender\", kind=\"box\")"
   ]
  }
 ],
 "metadata": {
  "kernelspec": {
   "display_name": "Python 3 (ipykernel)",
   "language": "python",
   "name": "python3"
  },
  "language_info": {
   "codemirror_mode": {
    "name": "ipython",
    "version": 3
   },
   "file_extension": ".py",
   "mimetype": "text/x-python",
   "name": "python",
   "nbconvert_exporter": "python",
   "pygments_lexer": "ipython3",
   "version": "3.8.8"
  }
 },
 "nbformat": 4,
 "nbformat_minor": 5
}
