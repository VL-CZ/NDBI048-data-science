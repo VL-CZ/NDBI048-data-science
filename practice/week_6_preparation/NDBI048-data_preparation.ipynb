{
 "cells": [
  {
   "cell_type": "markdown",
   "id": "0128ad0b",
   "metadata": {},
   "source": [
    "# Data preparation\n",
    "\n",
    "* From **business understanding**, we know the task to be solved.  \n",
    "* Then we do **data understanding** to look into data.\n",
    "* Now we are going to do some necessary or useful data transformation to reach the aim.\n",
    "\n",
    "## Outline\n",
    "0. Summary of data understanding\n",
    "1. Missing and invalid data\n",
    "2. Feature extraction\n",
    "3. Making different statistical units\n",
    "4. Data transformation\n",
    "\n",
    "## Data and tasks\n",
    "* Titanic2 (*titanic_train.csv*) - data preparation for an analysis of ticket fares\n",
    "* Home Credit (*application_train.csv*) - segmentation of clients by family situation"
   ]
  },
  {
   "cell_type": "code",
   "execution_count": 37,
   "id": "2fb31a8e",
   "metadata": {},
   "outputs": [],
   "source": [
    "# setup\n",
    "import pandas as pd\n",
    "import numpy as np\n",
    "import matplotlib.pyplot as plt\n",
    "import seaborn as sns\n",
    "\n",
    "sns.set_theme(style=\"ticks\", color_codes=True)"
   ]
  },
  {
   "cell_type": "markdown",
   "id": "465ee695",
   "metadata": {},
   "source": [
    "## Part I. Titanic and ticket fares\n",
    "### Summary of data understanding\n",
    "Just few facts from the exploration -- for the aim of this practice.\n",
    "\n",
    "Let's consider these columns only: *pclass*, *sex*, *age*, *ticket*, *fare*, *cabin*, *embarked*"
   ]
  },
  {
   "cell_type": "code",
   "execution_count": 38,
   "id": "ecda33bd",
   "metadata": {},
   "outputs": [
    {
     "data": {
      "text/html": [
       "<div>\n",
       "<style scoped>\n",
       "    .dataframe tbody tr th:only-of-type {\n",
       "        vertical-align: middle;\n",
       "    }\n",
       "\n",
       "    .dataframe tbody tr th {\n",
       "        vertical-align: top;\n",
       "    }\n",
       "\n",
       "    .dataframe thead th {\n",
       "        text-align: right;\n",
       "    }\n",
       "</style>\n",
       "<table border=\"1\" class=\"dataframe\">\n",
       "  <thead>\n",
       "    <tr style=\"text-align: right;\">\n",
       "      <th></th>\n",
       "      <th>passenger_id</th>\n",
       "      <th>ticket</th>\n",
       "      <th>pclass</th>\n",
       "      <th>fare</th>\n",
       "      <th>sex</th>\n",
       "      <th>age</th>\n",
       "      <th>cabin</th>\n",
       "      <th>embarked</th>\n",
       "    </tr>\n",
       "  </thead>\n",
       "  <tbody>\n",
       "    <tr>\n",
       "      <th>0</th>\n",
       "      <td>1216</td>\n",
       "      <td>335432</td>\n",
       "      <td>3</td>\n",
       "      <td>7.7333</td>\n",
       "      <td>female</td>\n",
       "      <td>NaN</td>\n",
       "      <td>NaN</td>\n",
       "      <td>Q</td>\n",
       "    </tr>\n",
       "    <tr>\n",
       "      <th>1</th>\n",
       "      <td>699</td>\n",
       "      <td>315089</td>\n",
       "      <td>3</td>\n",
       "      <td>8.6625</td>\n",
       "      <td>male</td>\n",
       "      <td>38.0</td>\n",
       "      <td>NaN</td>\n",
       "      <td>S</td>\n",
       "    </tr>\n",
       "    <tr>\n",
       "      <th>2</th>\n",
       "      <td>1267</td>\n",
       "      <td>345773</td>\n",
       "      <td>3</td>\n",
       "      <td>24.1500</td>\n",
       "      <td>female</td>\n",
       "      <td>30.0</td>\n",
       "      <td>NaN</td>\n",
       "      <td>S</td>\n",
       "    </tr>\n",
       "    <tr>\n",
       "      <th>3</th>\n",
       "      <td>449</td>\n",
       "      <td>29105</td>\n",
       "      <td>2</td>\n",
       "      <td>23.0000</td>\n",
       "      <td>female</td>\n",
       "      <td>54.0</td>\n",
       "      <td>NaN</td>\n",
       "      <td>S</td>\n",
       "    </tr>\n",
       "    <tr>\n",
       "      <th>4</th>\n",
       "      <td>576</td>\n",
       "      <td>28221</td>\n",
       "      <td>2</td>\n",
       "      <td>13.0000</td>\n",
       "      <td>male</td>\n",
       "      <td>40.0</td>\n",
       "      <td>NaN</td>\n",
       "      <td>S</td>\n",
       "    </tr>\n",
       "    <tr>\n",
       "      <th>...</th>\n",
       "      <td>...</td>\n",
       "      <td>...</td>\n",
       "      <td>...</td>\n",
       "      <td>...</td>\n",
       "      <td>...</td>\n",
       "      <td>...</td>\n",
       "      <td>...</td>\n",
       "      <td>...</td>\n",
       "    </tr>\n",
       "    <tr>\n",
       "      <th>845</th>\n",
       "      <td>158</td>\n",
       "      <td>680</td>\n",
       "      <td>1</td>\n",
       "      <td>50.0000</td>\n",
       "      <td>male</td>\n",
       "      <td>55.0</td>\n",
       "      <td>C39</td>\n",
       "      <td>S</td>\n",
       "    </tr>\n",
       "    <tr>\n",
       "      <th>846</th>\n",
       "      <td>174</td>\n",
       "      <td>11771</td>\n",
       "      <td>1</td>\n",
       "      <td>29.7000</td>\n",
       "      <td>male</td>\n",
       "      <td>58.0</td>\n",
       "      <td>B37</td>\n",
       "      <td>C</td>\n",
       "    </tr>\n",
       "    <tr>\n",
       "      <th>847</th>\n",
       "      <td>467</td>\n",
       "      <td>244367</td>\n",
       "      <td>2</td>\n",
       "      <td>26.0000</td>\n",
       "      <td>female</td>\n",
       "      <td>24.0</td>\n",
       "      <td>NaN</td>\n",
       "      <td>S</td>\n",
       "    </tr>\n",
       "    <tr>\n",
       "      <th>848</th>\n",
       "      <td>1112</td>\n",
       "      <td>SOTON/O.Q. 3101315</td>\n",
       "      <td>3</td>\n",
       "      <td>13.7750</td>\n",
       "      <td>female</td>\n",
       "      <td>3.0</td>\n",
       "      <td>NaN</td>\n",
       "      <td>S</td>\n",
       "    </tr>\n",
       "    <tr>\n",
       "      <th>849</th>\n",
       "      <td>425</td>\n",
       "      <td>250647</td>\n",
       "      <td>2</td>\n",
       "      <td>13.0000</td>\n",
       "      <td>male</td>\n",
       "      <td>52.0</td>\n",
       "      <td>NaN</td>\n",
       "      <td>S</td>\n",
       "    </tr>\n",
       "  </tbody>\n",
       "</table>\n",
       "<p>850 rows × 8 columns</p>\n",
       "</div>"
      ],
      "text/plain": [
       "     passenger_id              ticket  pclass     fare     sex   age cabin  \\\n",
       "0            1216              335432       3   7.7333  female   NaN   NaN   \n",
       "1             699              315089       3   8.6625    male  38.0   NaN   \n",
       "2            1267              345773       3  24.1500  female  30.0   NaN   \n",
       "3             449               29105       2  23.0000  female  54.0   NaN   \n",
       "4             576               28221       2  13.0000    male  40.0   NaN   \n",
       "..            ...                 ...     ...      ...     ...   ...   ...   \n",
       "845           158                 680       1  50.0000    male  55.0   C39   \n",
       "846           174               11771       1  29.7000    male  58.0   B37   \n",
       "847           467              244367       2  26.0000  female  24.0   NaN   \n",
       "848          1112  SOTON/O.Q. 3101315       3  13.7750  female   3.0   NaN   \n",
       "849           425              250647       2  13.0000    male  52.0   NaN   \n",
       "\n",
       "    embarked  \n",
       "0          Q  \n",
       "1          S  \n",
       "2          S  \n",
       "3          S  \n",
       "4          S  \n",
       "..       ...  \n",
       "845        S  \n",
       "846        C  \n",
       "847        S  \n",
       "848        S  \n",
       "849        S  \n",
       "\n",
       "[850 rows x 8 columns]"
      ]
     },
     "execution_count": 38,
     "metadata": {},
     "output_type": "execute_result"
    }
   ],
   "source": [
    "# data reading\n",
    "df1 = pd.read_csv('titanic_train.csv')\n",
    "df1 = df1[['passenger_id', 'ticket', 'pclass', 'fare', 'sex', 'age', 'cabin', 'embarked']]\n",
    "df1"
   ]
  },
  {
   "cell_type": "code",
   "execution_count": 39,
   "id": "93fa11a8",
   "metadata": {},
   "outputs": [
    {
     "name": "stdout",
     "output_type": "stream",
     "text": [
      "passenger_id    0.000000\n",
      "ticket          0.000000\n",
      "pclass          0.000000\n",
      "fare            0.001176\n",
      "sex             0.000000\n",
      "age             0.204706\n",
      "cabin           0.775294\n",
      "embarked        0.001176\n",
      "dtype: float64\n"
     ]
    }
   ],
   "source": [
    "# share of missing data (NaN, NULL) by columns\n",
    "print(1 - df1.count()/len(df1))"
   ]
  },
  {
   "cell_type": "markdown",
   "id": "1003360b",
   "metadata": {},
   "source": [
    "* *ticket*, *pclass* and *sex* are complete\n",
    "* *fare* and *embarked* have negligible counts of missing data\n",
    "* *age* and *cabin* have significant counts of missing data"
   ]
  },
  {
   "cell_type": "code",
   "execution_count": 40,
   "id": "26a4f014",
   "metadata": {},
   "outputs": [
    {
     "name": "stdout",
     "output_type": "stream",
     "text": [
      "3    478\n",
      "1    206\n",
      "2    166\n",
      "Name: pclass, dtype: int64\n",
      "male      551\n",
      "female    299\n",
      "Name: sex, dtype: int64\n",
      "S    589\n",
      "C    176\n",
      "Q     84\n",
      "Name: embarked, dtype: int64\n",
      "CA. 2343        10\n",
      "1601             8\n",
      "S.O.C. 14879     6\n",
      "CA 2144          6\n",
      "PC 17608         6\n",
      "Name: ticket, dtype: int64\n",
      "G6                 4\n",
      "D                  4\n",
      "B96 B98            4\n",
      "C22 C26            4\n",
      "B57 B59 B63 B66    4\n",
      "Name: cabin, dtype: int64\n"
     ]
    }
   ],
   "source": [
    "# invalid values in data?\n",
    "# frequency tables of categorical columns\n",
    "print(df1['pclass'].value_counts())\n",
    "print(df1['sex'].value_counts())\n",
    "print(df1['embarked'].value_counts())\n",
    "# the most often values in string columns\n",
    "print(df1['ticket'].value_counts().sort_values(ascending=False)[:5])\n",
    "print(df1['cabin'].value_counts().sort_values(ascending=False)[:5])"
   ]
  },
  {
   "cell_type": "markdown",
   "id": "965f233b",
   "metadata": {},
   "source": [
    "> String columns (*ticket*, *cabin*) have expected frequencies -- no value has too high frequency.  \n",
    "> Categorical columns seem to have valid values.\n",
    "\n",
    "Let's look into numeric columns (*age*, *fare*)."
   ]
  },
  {
   "cell_type": "code",
   "execution_count": 41,
   "id": "67370f1d",
   "metadata": {},
   "outputs": [
    {
     "name": "stdout",
     "output_type": "stream",
     "text": [
      "Fare: minimum= 0.0 ; maximum= 512.3292 ; median= 14.1083\n"
     ]
    },
    {
     "data": {
      "image/png": "[encoded data removed]",
      "text/plain": [
       "<Figure size 500x500 with 1 Axes>"
      ]
     },
     "metadata": {},
     "output_type": "display_data"
    }
   ],
   "source": [
    "# distribution of values in numeric columns\n",
    "sns.displot(df1['fare'])\n",
    "print('Fare: minimum=', df1['fare'].min(), '; maximum=', df1['fare'].max(), '; median=', df1['fare'].median())"
   ]
  },
  {
   "cell_type": "code",
   "execution_count": 42,
   "id": "bbfffb36",
   "metadata": {},
   "outputs": [
    {
     "name": "stdout",
     "output_type": "stream",
     "text": [
      "Passengers with zero fare:  11\n",
      "The most often fares: \n",
      "13.0000    42\n",
      "8.0500     40\n",
      "7.7500     39\n",
      "7.8958     32\n",
      "26.0000    29\n",
      "Name: fare, dtype: int64\n"
     ]
    }
   ],
   "source": [
    "# zero fare is rather unexpected; how many passenger have zero fare?\n",
    "print('Passengers with zero fare: ', (df1['fare']==0).sum())\n",
    "print('The most often fares: ')\n",
    "print(df1['fare'].value_counts().sort_values(ascending=False).iloc[0:5])"
   ]
  },
  {
   "cell_type": "markdown",
   "id": "e8891a3e",
   "metadata": {},
   "source": [
    "> Fare values seem to be valid with exception of zero and missing values."
   ]
  },
  {
   "cell_type": "code",
   "execution_count": 43,
   "id": "f96cdf2b",
   "metadata": {},
   "outputs": [
    {
     "name": "stdout",
     "output_type": "stream",
     "text": [
      "Age: minimum= 0.1667 ; maximum= 80.0 ; median= 28.0\n",
      "The most often ages:\n",
      "18.0    32\n",
      "30.0    30\n",
      "24.0    29\n",
      "22.0    28\n",
      "25.0    26\n",
      "Name: age, dtype: int64\n"
     ]
    },
    {
     "data": {
      "image/png": "[encoded data removed]",
      "text/plain": [
       "<Figure size 500x500 with 1 Axes>"
      ]
     },
     "metadata": {},
     "output_type": "display_data"
    }
   ],
   "source": [
    "sns.displot(df1['age'])\n",
    "print('Age: minimum=', df1['age'].min(), '; maximum=', df1['age'].max(), '; median=', df1['age'].median())\n",
    "print('The most often ages:')\n",
    "print(df1['age'].value_counts().sort_values(ascending=False).iloc[0:5])"
   ]
  },
  {
   "cell_type": "markdown",
   "id": "e7ed9d06",
   "metadata": {},
   "source": [
    "> Age values seem to be fully valid with exception of missing values."
   ]
  },
  {
   "cell_type": "markdown",
   "id": "b017c87c",
   "metadata": {},
   "source": [
    "### Dealing with missing and invalid data\n",
    "\n",
    "Now we use exploration outcomes for the data cleaning.\n",
    "\n",
    "**TASK 1.**  \n",
    "Consider how to treat missing or invalid data of fare, embarkment, age and cabin. Then prepare a script for data cleaning."
   ]
  },
  {
   "cell_type": "code",
   "execution_count": 44,
   "id": "f343d7e9",
   "metadata": {},
   "outputs": [],
   "source": [
    "df1 = df1[df1[\"fare\"].notna() & df1[\"embarked\"].notna()]"
   ]
  },
  {
   "cell_type": "markdown",
   "id": "4167d850",
   "metadata": {},
   "source": [
    "### Feature extraction\n",
    "\n",
    "Multiple persons travelled on one ticket, so they can have the same fare which was paid only once. It's a reason to make new statistical units &ndash; tickets. But is data for the same ticket consistent? Let's check the integrity of data for the tickets.\n",
    "\n",
    "**TASK 2.**  \n",
    "Explore whether all passengers with the same ticket have the same fare, pclass, embarkment and cabin."
   ]
  },
  {
   "cell_type": "code",
   "execution_count": 45,
   "id": "10f9f17d",
   "metadata": {},
   "outputs": [
    {
     "name": "stdout",
     "output_type": "stream",
     "text": [
      "fare\n",
      "1       658\n",
      "dtype: int64\n"
     ]
    }
   ],
   "source": [
    "print(df1.groupby('ticket').agg({'fare': 'nunique'}).value_counts())"
   ]
  },
  {
   "cell_type": "markdown",
   "id": "9d8caa76",
   "metadata": {},
   "source": [
    "Now we make a table of tickets by few steps:\n",
    "\n",
    "1. Base table -- unique rows of *ticket*, *pclass*, *fare* (we now there is integrity).\n",
    "2. Aggregated features grouped by *ticket* -- e. g. count of passengers; join aggregated table to the base table.\n",
    "3. Artificial aggregation as a solution of multiple embarkment -- we take the highest value of *embarked* to unify embarkment places for tickets.\n",
    "\n",
    "**TASK 3.**  \n",
    "Make a table with tickets as rows and features (some of them aggregated). Choose useful features for future analysis by yourself."
   ]
  },
  {
   "cell_type": "code",
   "execution_count": null,
   "id": "b0bb450a",
   "metadata": {},
   "outputs": [],
   "source": []
  },
  {
   "cell_type": "markdown",
   "id": "87466f9c",
   "metadata": {},
   "source": [
    "### Data transformation\n",
    "\n",
    "* The distribution of fare is very skew. Let's transform it by log to get it better balanced.\n",
    "* The fare is given as a total. But it's better to get an average fare per one passenger.\n",
    "\n",
    "**TASK 4.**\n",
    "Add new columns to the table as stated above."
   ]
  },
  {
   "cell_type": "markdown",
   "id": "5995bcca",
   "metadata": {},
   "source": [
    "**TASK 5.**\n",
    "1. Make new columns as meaningful categories \"binned\" from count of passengers, mean age, count of distinct cabins.\n",
    "2. Make flags \"child\" and \"baby\": flag is True when the youngest passenger for a ticket was under 15, resp. under 3 years.\n",
    "3. Find the most often combinations of men and women travelling on one ticket (e. g. \"single man\", \"man+woman\", \"two men\", \"other\" etc.) and make a new column with category description."
   ]
  },
  {
   "cell_type": "markdown",
   "id": "530fcd07",
   "metadata": {},
   "source": [
    "## Part II. Home credit\n",
    "This dataset contains Home Credit clients who got a loan. Each client (=row in the dataset) has plenty of data in columns. We are interested in the segmentation of client portfolio. Segmentation is a division the basic dataset into some well-defined segment, like \"young single men\", \"old widow women living alone\" etc.\n",
    "\n",
    "The relevant columns are *days_birth*, *code_gender*, *cnt_children*, *cnt_fam_members*, *name_family_status*.\n",
    "\n",
    "**TASK 6.**\n",
    "Look into data and try to find some big segments based on some features from the set of relevant columns. You may need to do some binning before."
   ]
  },
  {
   "cell_type": "code",
   "execution_count": 46,
   "id": "26e91654",
   "metadata": {},
   "outputs": [
    {
     "data": {
      "text/html": [
       "<div>\n",
       "<style scoped>\n",
       "    .dataframe tbody tr th:only-of-type {\n",
       "        vertical-align: middle;\n",
       "    }\n",
       "\n",
       "    .dataframe tbody tr th {\n",
       "        vertical-align: top;\n",
       "    }\n",
       "\n",
       "    .dataframe thead th {\n",
       "        text-align: right;\n",
       "    }\n",
       "</style>\n",
       "<table border=\"1\" class=\"dataframe\">\n",
       "  <thead>\n",
       "    <tr style=\"text-align: right;\">\n",
       "      <th></th>\n",
       "      <th>days_birth</th>\n",
       "      <th>code_gender</th>\n",
       "      <th>cnt_children</th>\n",
       "      <th>cnt_fam_members</th>\n",
       "      <th>name_family_status</th>\n",
       "    </tr>\n",
       "  </thead>\n",
       "  <tbody>\n",
       "    <tr>\n",
       "      <th>0</th>\n",
       "      <td>-9461</td>\n",
       "      <td>M</td>\n",
       "      <td>0</td>\n",
       "      <td>1.0</td>\n",
       "      <td>Single / not married</td>\n",
       "    </tr>\n",
       "    <tr>\n",
       "      <th>1</th>\n",
       "      <td>-16765</td>\n",
       "      <td>F</td>\n",
       "      <td>0</td>\n",
       "      <td>2.0</td>\n",
       "      <td>Married</td>\n",
       "    </tr>\n",
       "    <tr>\n",
       "      <th>2</th>\n",
       "      <td>-19046</td>\n",
       "      <td>M</td>\n",
       "      <td>0</td>\n",
       "      <td>1.0</td>\n",
       "      <td>Single / not married</td>\n",
       "    </tr>\n",
       "    <tr>\n",
       "      <th>3</th>\n",
       "      <td>-19005</td>\n",
       "      <td>F</td>\n",
       "      <td>0</td>\n",
       "      <td>2.0</td>\n",
       "      <td>Civil marriage</td>\n",
       "    </tr>\n",
       "    <tr>\n",
       "      <th>4</th>\n",
       "      <td>-19932</td>\n",
       "      <td>M</td>\n",
       "      <td>0</td>\n",
       "      <td>1.0</td>\n",
       "      <td>Single / not married</td>\n",
       "    </tr>\n",
       "    <tr>\n",
       "      <th>...</th>\n",
       "      <td>...</td>\n",
       "      <td>...</td>\n",
       "      <td>...</td>\n",
       "      <td>...</td>\n",
       "      <td>...</td>\n",
       "    </tr>\n",
       "    <tr>\n",
       "      <th>307506</th>\n",
       "      <td>-9327</td>\n",
       "      <td>M</td>\n",
       "      <td>0</td>\n",
       "      <td>1.0</td>\n",
       "      <td>Separated</td>\n",
       "    </tr>\n",
       "    <tr>\n",
       "      <th>307507</th>\n",
       "      <td>-20775</td>\n",
       "      <td>F</td>\n",
       "      <td>0</td>\n",
       "      <td>1.0</td>\n",
       "      <td>Widow</td>\n",
       "    </tr>\n",
       "    <tr>\n",
       "      <th>307508</th>\n",
       "      <td>-14966</td>\n",
       "      <td>F</td>\n",
       "      <td>0</td>\n",
       "      <td>1.0</td>\n",
       "      <td>Separated</td>\n",
       "    </tr>\n",
       "    <tr>\n",
       "      <th>307509</th>\n",
       "      <td>-11961</td>\n",
       "      <td>F</td>\n",
       "      <td>0</td>\n",
       "      <td>2.0</td>\n",
       "      <td>Married</td>\n",
       "    </tr>\n",
       "    <tr>\n",
       "      <th>307510</th>\n",
       "      <td>-16856</td>\n",
       "      <td>F</td>\n",
       "      <td>0</td>\n",
       "      <td>2.0</td>\n",
       "      <td>Married</td>\n",
       "    </tr>\n",
       "  </tbody>\n",
       "</table>\n",
       "<p>307511 rows × 5 columns</p>\n",
       "</div>"
      ],
      "text/plain": [
       "        days_birth code_gender  cnt_children  cnt_fam_members  \\\n",
       "0            -9461           M             0              1.0   \n",
       "1           -16765           F             0              2.0   \n",
       "2           -19046           M             0              1.0   \n",
       "3           -19005           F             0              2.0   \n",
       "4           -19932           M             0              1.0   \n",
       "...            ...         ...           ...              ...   \n",
       "307506       -9327           M             0              1.0   \n",
       "307507      -20775           F             0              1.0   \n",
       "307508      -14966           F             0              1.0   \n",
       "307509      -11961           F             0              2.0   \n",
       "307510      -16856           F             0              2.0   \n",
       "\n",
       "          name_family_status  \n",
       "0       Single / not married  \n",
       "1                    Married  \n",
       "2       Single / not married  \n",
       "3             Civil marriage  \n",
       "4       Single / not married  \n",
       "...                      ...  \n",
       "307506             Separated  \n",
       "307507                 Widow  \n",
       "307508             Separated  \n",
       "307509               Married  \n",
       "307510               Married  \n",
       "\n",
       "[307511 rows x 5 columns]"
      ]
     },
     "execution_count": 46,
     "metadata": {},
     "output_type": "execute_result"
    }
   ],
   "source": [
    "df_hc = pd.read_csv('application_train.csv')\n",
    "df_hc.columns = df_hc.columns.str.lower()\n",
    "df_hc = df_hc[['days_birth', 'code_gender', 'cnt_children', 'cnt_fam_members', 'name_family_status']]\n",
    "df_hc"
   ]
  }
 ],
 "metadata": {
  "kernelspec": {
   "display_name": "Python 3.10.7 ('.venv': venv)",
   "language": "python",
   "name": "python3"
  },
  "language_info": {
   "codemirror_mode": {
    "name": "ipython",
    "version": 3
   },
   "file_extension": ".py",
   "mimetype": "text/x-python",
   "name": "python",
   "nbconvert_exporter": "python",
   "pygments_lexer": "ipython3",
   "version": "3.10.7"
  },
  "vscode": {
   "interpreter": {
    "hash": "3ba03692466612e15f784c7056843046bc4e9dc8853c41ae894576292cda82b8"
   }
  }
 },
 "nbformat": 4,
 "nbformat_minor": 5
}
