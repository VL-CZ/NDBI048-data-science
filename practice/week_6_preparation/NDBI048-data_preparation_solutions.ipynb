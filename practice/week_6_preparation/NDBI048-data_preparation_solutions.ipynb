{
 "cells": [
  {
   "cell_type": "markdown",
   "id": "23c5302f",
   "metadata": {},
   "source": [
    "# Data preparation\n",
    "\n",
    "* From **business understanding**, we know the task to be solved.  \n",
    "* Then we do **data understanding** to look into data.\n",
    "* Now we are going to do some necessary or useful data transformation to reach the aim.\n",
    "\n",
    "## Outline\n",
    "0. Summary of data understanding\n",
    "1. Missing and invalid data\n",
    "2. Making different entities\n",
    "3. Mathematical transformation\n",
    "4. Feature extraction\n",
    "\n",
    "## Data and tasks\n",
    "* Titanic2 - data preparation for an analysis of ticket fares\n",
    "* Home Credit - segmentation of clients by family situation"
   ]
  },
  {
   "cell_type": "code",
   "execution_count": 196,
   "id": "3f8ec285",
   "metadata": {},
   "outputs": [],
   "source": [
    "# setup\n",
    "import pandas as pd\n",
    "import numpy as np\n",
    "import matplotlib.pyplot as plt\n",
    "import seaborn as sns\n",
    "\n",
    "pd.set_option(\"display.precision\", 2)\n",
    "plt.rcParams['figure.figsize'] = [8, 6]\n",
    "sns.set_theme(style=\"ticks\", color_codes=True)"
   ]
  },
  {
   "cell_type": "code",
   "execution_count": 197,
   "id": "08f80a71",
   "metadata": {},
   "outputs": [],
   "source": [
    "# data reading\n",
    "df1 = pd.read_csv('titanic_train.csv')"
   ]
  },
  {
   "cell_type": "markdown",
   "id": "3d38df20",
   "metadata": {},
   "source": [
    "## Titanic and ticket fares\n",
    "### Summary of data understanding\n",
    "Just few facts from the exploration -- for the aim of this practice.\n",
    "\n",
    "Let's consider these columns only: *pclass*, *sex*, *age*, *ticket*, *fare*, *cabin*, *embarked*"
   ]
  },
  {
   "cell_type": "code",
   "execution_count": 198,
   "id": "917caef6",
   "metadata": {},
   "outputs": [
    {
     "data": {
      "text/html": [
       "<div>\n",
       "<style scoped>\n",
       "    .dataframe tbody tr th:only-of-type {\n",
       "        vertical-align: middle;\n",
       "    }\n",
       "\n",
       "    .dataframe tbody tr th {\n",
       "        vertical-align: top;\n",
       "    }\n",
       "\n",
       "    .dataframe thead th {\n",
       "        text-align: right;\n",
       "    }\n",
       "</style>\n",
       "<table border=\"1\" class=\"dataframe\">\n",
       "  <thead>\n",
       "    <tr style=\"text-align: right;\">\n",
       "      <th></th>\n",
       "      <th>passenger_id</th>\n",
       "      <th>ticket</th>\n",
       "      <th>pclass</th>\n",
       "      <th>fare</th>\n",
       "      <th>sex</th>\n",
       "      <th>age</th>\n",
       "      <th>cabin</th>\n",
       "      <th>embarked</th>\n",
       "    </tr>\n",
       "  </thead>\n",
       "  <tbody>\n",
       "    <tr>\n",
       "      <th>0</th>\n",
       "      <td>1216</td>\n",
       "      <td>335432</td>\n",
       "      <td>3</td>\n",
       "      <td>7.73</td>\n",
       "      <td>female</td>\n",
       "      <td>NaN</td>\n",
       "      <td>NaN</td>\n",
       "      <td>Q</td>\n",
       "    </tr>\n",
       "    <tr>\n",
       "      <th>1</th>\n",
       "      <td>699</td>\n",
       "      <td>315089</td>\n",
       "      <td>3</td>\n",
       "      <td>8.66</td>\n",
       "      <td>male</td>\n",
       "      <td>38.0</td>\n",
       "      <td>NaN</td>\n",
       "      <td>S</td>\n",
       "    </tr>\n",
       "    <tr>\n",
       "      <th>2</th>\n",
       "      <td>1267</td>\n",
       "      <td>345773</td>\n",
       "      <td>3</td>\n",
       "      <td>24.15</td>\n",
       "      <td>female</td>\n",
       "      <td>30.0</td>\n",
       "      <td>NaN</td>\n",
       "      <td>S</td>\n",
       "    </tr>\n",
       "    <tr>\n",
       "      <th>3</th>\n",
       "      <td>449</td>\n",
       "      <td>29105</td>\n",
       "      <td>2</td>\n",
       "      <td>23.00</td>\n",
       "      <td>female</td>\n",
       "      <td>54.0</td>\n",
       "      <td>NaN</td>\n",
       "      <td>S</td>\n",
       "    </tr>\n",
       "    <tr>\n",
       "      <th>4</th>\n",
       "      <td>576</td>\n",
       "      <td>28221</td>\n",
       "      <td>2</td>\n",
       "      <td>13.00</td>\n",
       "      <td>male</td>\n",
       "      <td>40.0</td>\n",
       "      <td>NaN</td>\n",
       "      <td>S</td>\n",
       "    </tr>\n",
       "    <tr>\n",
       "      <th>...</th>\n",
       "      <td>...</td>\n",
       "      <td>...</td>\n",
       "      <td>...</td>\n",
       "      <td>...</td>\n",
       "      <td>...</td>\n",
       "      <td>...</td>\n",
       "      <td>...</td>\n",
       "      <td>...</td>\n",
       "    </tr>\n",
       "    <tr>\n",
       "      <th>845</th>\n",
       "      <td>158</td>\n",
       "      <td>680</td>\n",
       "      <td>1</td>\n",
       "      <td>50.00</td>\n",
       "      <td>male</td>\n",
       "      <td>55.0</td>\n",
       "      <td>C39</td>\n",
       "      <td>S</td>\n",
       "    </tr>\n",
       "    <tr>\n",
       "      <th>846</th>\n",
       "      <td>174</td>\n",
       "      <td>11771</td>\n",
       "      <td>1</td>\n",
       "      <td>29.70</td>\n",
       "      <td>male</td>\n",
       "      <td>58.0</td>\n",
       "      <td>B37</td>\n",
       "      <td>C</td>\n",
       "    </tr>\n",
       "    <tr>\n",
       "      <th>847</th>\n",
       "      <td>467</td>\n",
       "      <td>244367</td>\n",
       "      <td>2</td>\n",
       "      <td>26.00</td>\n",
       "      <td>female</td>\n",
       "      <td>24.0</td>\n",
       "      <td>NaN</td>\n",
       "      <td>S</td>\n",
       "    </tr>\n",
       "    <tr>\n",
       "      <th>848</th>\n",
       "      <td>1112</td>\n",
       "      <td>SOTON/O.Q. 3101315</td>\n",
       "      <td>3</td>\n",
       "      <td>13.78</td>\n",
       "      <td>female</td>\n",
       "      <td>3.0</td>\n",
       "      <td>NaN</td>\n",
       "      <td>S</td>\n",
       "    </tr>\n",
       "    <tr>\n",
       "      <th>849</th>\n",
       "      <td>425</td>\n",
       "      <td>250647</td>\n",
       "      <td>2</td>\n",
       "      <td>13.00</td>\n",
       "      <td>male</td>\n",
       "      <td>52.0</td>\n",
       "      <td>NaN</td>\n",
       "      <td>S</td>\n",
       "    </tr>\n",
       "  </tbody>\n",
       "</table>\n",
       "<p>850 rows × 8 columns</p>\n",
       "</div>"
      ],
      "text/plain": [
       "     passenger_id              ticket  pclass   fare     sex   age cabin  \\\n",
       "0            1216              335432       3   7.73  female   NaN   NaN   \n",
       "1             699              315089       3   8.66    male  38.0   NaN   \n",
       "2            1267              345773       3  24.15  female  30.0   NaN   \n",
       "3             449               29105       2  23.00  female  54.0   NaN   \n",
       "4             576               28221       2  13.00    male  40.0   NaN   \n",
       "..            ...                 ...     ...    ...     ...   ...   ...   \n",
       "845           158                 680       1  50.00    male  55.0   C39   \n",
       "846           174               11771       1  29.70    male  58.0   B37   \n",
       "847           467              244367       2  26.00  female  24.0   NaN   \n",
       "848          1112  SOTON/O.Q. 3101315       3  13.78  female   3.0   NaN   \n",
       "849           425              250647       2  13.00    male  52.0   NaN   \n",
       "\n",
       "    embarked  \n",
       "0          Q  \n",
       "1          S  \n",
       "2          S  \n",
       "3          S  \n",
       "4          S  \n",
       "..       ...  \n",
       "845        S  \n",
       "846        C  \n",
       "847        S  \n",
       "848        S  \n",
       "849        S  \n",
       "\n",
       "[850 rows x 8 columns]"
      ]
     },
     "execution_count": 198,
     "metadata": {},
     "output_type": "execute_result"
    }
   ],
   "source": [
    "df1 = df1[['passenger_id', 'ticket', 'pclass', 'fare', 'sex', 'age', 'cabin', 'embarked']]\n",
    "df1"
   ]
  },
  {
   "cell_type": "code",
   "execution_count": 199,
   "id": "4e875f7d",
   "metadata": {},
   "outputs": [
    {
     "data": {
      "text/plain": [
       "passenger_id     0.00\n",
       "ticket           0.00\n",
       "pclass           0.00\n",
       "fare             0.12\n",
       "sex              0.00\n",
       "age             20.47\n",
       "cabin           77.53\n",
       "embarked         0.12\n",
       "dtype: float64"
      ]
     },
     "execution_count": 199,
     "metadata": {},
     "output_type": "execute_result"
    }
   ],
   "source": [
    "# missing data (NaN, NULL) in %\n",
    "100 - df1.count() / df1.shape[0] * 100"
   ]
  },
  {
   "cell_type": "markdown",
   "id": "d967036b",
   "metadata": {},
   "source": [
    "* *ticket*, *pclass* and *sex* are complete\n",
    "* *fare* and *embarked* have negligible counts of missing data\n",
    "* *age* and *cabin* have significant counts of missing data"
   ]
  },
  {
   "cell_type": "code",
   "execution_count": 200,
   "id": "312c02ab",
   "metadata": {},
   "outputs": [
    {
     "name": "stdout",
     "output_type": "stream",
     "text": [
      "3    478\n",
      "1    206\n",
      "2    166\n",
      "Name: pclass, dtype: int64\n",
      "male      551\n",
      "female    299\n",
      "Name: sex, dtype: int64\n",
      "S    589\n",
      "C    176\n",
      "Q     84\n",
      "Name: embarked, dtype: int64\n",
      "CA. 2343        10\n",
      "1601             8\n",
      "PC 17608         6\n",
      "S.O.C. 14879     6\n",
      "347082           6\n",
      "Name: ticket, dtype: int64\n",
      "D                  4\n",
      "B57 B59 B63 B66    4\n",
      "B96 B98            4\n",
      "G6                 4\n",
      "C22 C26            4\n",
      "Name: cabin, dtype: int64\n"
     ]
    }
   ],
   "source": [
    "# invalid values in data?\n",
    "# frequency tables of categorical columns\n",
    "print(df1['pclass'].value_counts())\n",
    "print(df1['sex'].value_counts())\n",
    "print(df1['embarked'].value_counts())\n",
    "# the most often values in string columns\n",
    "print(df1['ticket'].value_counts().sort_values(ascending=False)[:5])\n",
    "print(df1['cabin'].value_counts().sort_values(ascending=False)[:5])"
   ]
  },
  {
   "cell_type": "markdown",
   "id": "64de9d7d",
   "metadata": {},
   "source": [
    "> String columns (*ticket*, *cabin*) have expected frequencies -- no value has too high frequency.  \n",
    "> Categorical columns seem to have valid values.\n",
    "\n",
    "Let's look into numeric columns (*age*, *fare*)."
   ]
  },
  {
   "cell_type": "code",
   "execution_count": 201,
   "id": "e207d153",
   "metadata": {},
   "outputs": [
    {
     "name": "stdout",
     "output_type": "stream",
     "text": [
      "Fare: minimum= 0.0 ; maximum= 512.3292 ; median= 14.1083\n",
      "Passengers with zero fare:  11\n",
      "The most often fares: \n",
      "13.00    42\n",
      "8.05     40\n",
      "7.75     39\n",
      "7.90     32\n",
      "26.00    29\n",
      "Name: fare, dtype: int64\n"
     ]
    },
    {
     "data": {
      "image/png": "[encoded data removed]",
      "text/plain": [
       "<Figure size 576x432 with 1 Axes>"
      ]
     },
     "metadata": {},
     "output_type": "display_data"
    }
   ],
   "source": [
    "# distribution of values in numeric columns\n",
    "plt.hist(df1['fare'])\n",
    "\n",
    "print('Fare: minimum=', df1['fare'].min(), '; maximum=', df1['fare'].max(), '; median=', df1['fare'].median())\n",
    "# zero fare is rather unexpected; how many passenger have zero fare?\n",
    "print('Passengers with zero fare: ', (df1['fare']==0).sum())\n",
    "print('The most often fares: ')\n",
    "print(df1['fare'].value_counts().sort_values(ascending=False).iloc[0:5])"
   ]
  },
  {
   "cell_type": "markdown",
   "id": "77946f10",
   "metadata": {},
   "source": [
    "> Fare values seem to be valid with exception of zero fares."
   ]
  },
  {
   "cell_type": "code",
   "execution_count": 202,
   "id": "3e77850d",
   "metadata": {},
   "outputs": [
    {
     "name": "stdout",
     "output_type": "stream",
     "text": [
      "Age: minimum= 0.1667 ; maximum= 80.0 ; median= 28.0\n",
      "The most often ages:\n",
      "18.0    32\n",
      "30.0    30\n",
      "24.0    29\n",
      "22.0    28\n",
      "25.0    26\n",
      "Name: age, dtype: int64\n"
     ]
    },
    {
     "data": {
      "image/png": "[encoded data removed]",
      "text/plain": [
       "<Figure size 576x432 with 1 Axes>"
      ]
     },
     "metadata": {},
     "output_type": "display_data"
    }
   ],
   "source": [
    "plt.hist(df1['age'])\n",
    "\n",
    "print('Age: minimum=', df1['age'].min(), '; maximum=', df1['age'].max(), '; median=', df1['age'].median())\n",
    "# zero fare is rather unexpected; how many passenger have zero fare?\n",
    "print('The most often ages:')\n",
    "print(df1['age'].value_counts().sort_values(ascending=False).iloc[0:5])"
   ]
  },
  {
   "cell_type": "markdown",
   "id": "bdc3bcb8",
   "metadata": {},
   "source": [
    "> Age values seem to be fully valid.\n",
    "\n",
    "Let's check the **integrity of data for the ticket**.\n",
    "\n",
    "* one ticket -- one fare?\n",
    "* one ticket -- same class?\n",
    "* one ticket -- same embarkment?\n",
    "* one ticket -- cabins?"
   ]
  },
  {
   "cell_type": "code",
   "execution_count": 203,
   "id": "0a646c64",
   "metadata": {},
   "outputs": [
    {
     "name": "stdout",
     "output_type": "stream",
     "text": [
      "fare\n",
      "1       659\n",
      "0         1\n",
      "dtype: int64\n"
     ]
    },
    {
     "data": {
      "text/html": [
       "<div>\n",
       "<style scoped>\n",
       "    .dataframe tbody tr th:only-of-type {\n",
       "        vertical-align: middle;\n",
       "    }\n",
       "\n",
       "    .dataframe tbody tr th {\n",
       "        vertical-align: top;\n",
       "    }\n",
       "\n",
       "    .dataframe thead th {\n",
       "        text-align: right;\n",
       "    }\n",
       "</style>\n",
       "<table border=\"1\" class=\"dataframe\">\n",
       "  <thead>\n",
       "    <tr style=\"text-align: right;\">\n",
       "      <th></th>\n",
       "      <th>passenger_id</th>\n",
       "      <th>ticket</th>\n",
       "      <th>pclass</th>\n",
       "      <th>fare</th>\n",
       "      <th>sex</th>\n",
       "      <th>age</th>\n",
       "      <th>cabin</th>\n",
       "      <th>embarked</th>\n",
       "    </tr>\n",
       "  </thead>\n",
       "  <tbody>\n",
       "    <tr>\n",
       "      <th>416</th>\n",
       "      <td>1225</td>\n",
       "      <td>3701</td>\n",
       "      <td>3</td>\n",
       "      <td>NaN</td>\n",
       "      <td>male</td>\n",
       "      <td>60.5</td>\n",
       "      <td>NaN</td>\n",
       "      <td>S</td>\n",
       "    </tr>\n",
       "  </tbody>\n",
       "</table>\n",
       "</div>"
      ],
      "text/plain": [
       "     passenger_id ticket  pclass  fare   sex   age cabin embarked\n",
       "416          1225   3701       3   NaN  male  60.5   NaN        S"
      ]
     },
     "execution_count": 203,
     "metadata": {},
     "output_type": "execute_result"
    }
   ],
   "source": [
    "print(df1.groupby('ticket').agg({'fare': 'nunique'}).value_counts())\n",
    "# Which ticket is for passenger with missing fare? Are there more passengers for this ticket?\n",
    "ticket_na_fare = df1[df1['fare'].isna()]['ticket'].values.tolist()\n",
    "df1[df1['ticket'].isin(ticket_na_fare)]"
   ]
  },
  {
   "cell_type": "code",
   "execution_count": 204,
   "id": "eb4332e1",
   "metadata": {},
   "outputs": [
    {
     "name": "stdout",
     "output_type": "stream",
     "text": [
      "pclass\n",
      "1         660\n",
      "dtype: int64\n"
     ]
    }
   ],
   "source": [
    "print(df1.groupby('ticket').agg({'pclass': 'nunique'}).value_counts())"
   ]
  },
  {
   "cell_type": "code",
   "execution_count": 205,
   "id": "66ac92f4",
   "metadata": {},
   "outputs": [
    {
     "name": "stdout",
     "output_type": "stream",
     "text": [
      "embarked\n",
      "1           658\n",
      "0             1\n",
      "2             1\n",
      "dtype: int64\n"
     ]
    },
    {
     "data": {
      "text/html": [
       "<div>\n",
       "<style scoped>\n",
       "    .dataframe tbody tr th:only-of-type {\n",
       "        vertical-align: middle;\n",
       "    }\n",
       "\n",
       "    .dataframe tbody tr th {\n",
       "        vertical-align: top;\n",
       "    }\n",
       "\n",
       "    .dataframe thead th {\n",
       "        text-align: right;\n",
       "    }\n",
       "</style>\n",
       "<table border=\"1\" class=\"dataframe\">\n",
       "  <thead>\n",
       "    <tr style=\"text-align: right;\">\n",
       "      <th></th>\n",
       "      <th>passenger_id</th>\n",
       "      <th>ticket</th>\n",
       "      <th>pclass</th>\n",
       "      <th>fare</th>\n",
       "      <th>sex</th>\n",
       "      <th>age</th>\n",
       "      <th>cabin</th>\n",
       "      <th>embarked</th>\n",
       "    </tr>\n",
       "  </thead>\n",
       "  <tbody>\n",
       "    <tr>\n",
       "      <th>285</th>\n",
       "      <td>258</td>\n",
       "      <td>113798</td>\n",
       "      <td>1</td>\n",
       "      <td>31.0</td>\n",
       "      <td>female</td>\n",
       "      <td>30.0</td>\n",
       "      <td>NaN</td>\n",
       "      <td>C</td>\n",
       "    </tr>\n",
       "    <tr>\n",
       "      <th>381</th>\n",
       "      <td>46</td>\n",
       "      <td>113798</td>\n",
       "      <td>1</td>\n",
       "      <td>31.0</td>\n",
       "      <td>male</td>\n",
       "      <td>NaN</td>\n",
       "      <td>NaN</td>\n",
       "      <td>S</td>\n",
       "    </tr>\n",
       "  </tbody>\n",
       "</table>\n",
       "</div>"
      ],
      "text/plain": [
       "     passenger_id  ticket  pclass  fare     sex   age cabin embarked\n",
       "285           258  113798       1  31.0  female  30.0   NaN        C\n",
       "381            46  113798       1  31.0    male   NaN   NaN        S"
      ]
     },
     "execution_count": 205,
     "metadata": {},
     "output_type": "execute_result"
    }
   ],
   "source": [
    "print(df1.groupby('ticket').agg({'embarked': 'nunique'}).value_counts())\n",
    "# For which ticket were there more embarkments?\n",
    "tmp_tickets = df1.groupby('ticket').agg({'embarked': 'nunique'})\n",
    "ticket_mult_emb = tmp_tickets[tmp_tickets['embarked'] > 1].index.tolist()\n",
    "df1[df1['ticket'].isin(ticket_mult_emb)]"
   ]
  },
  {
   "cell_type": "code",
   "execution_count": 206,
   "id": "05baf338",
   "metadata": {},
   "outputs": [
    {
     "name": "stdout",
     "output_type": "stream",
     "text": [
      "cabin\n",
      "0        532\n",
      "1        112\n",
      "2         14\n",
      "3          1\n",
      "4          1\n",
      "dtype: int64\n"
     ]
    }
   ],
   "source": [
    "print(df1.groupby('ticket').agg({'cabin': 'nunique'}).value_counts())"
   ]
  },
  {
   "cell_type": "markdown",
   "id": "3427942e",
   "metadata": {},
   "source": [
    "> For each ticket, there is same fare (possibly missing or zero) and same class.  \n",
    "> For each ticket except two cases, there is same embarkment place. One ticket has two places and one ticket none (missing).  \n",
    "> There can be various numbers of cabin for a ticket (and possibly none, too)."
   ]
  },
  {
   "cell_type": "markdown",
   "id": "7356a7ee",
   "metadata": {},
   "source": [
    "### Dealing with missing and invalid data\n",
    "\n",
    "Now we use exploration outcomes for decision how to treat missing or invalid data.\n",
    "\n",
    "**TASK 1. Consider following questions. Then clean data -- omit cases.**\n",
    "\n",
    "* Should cases with missing fare be omitted?\n",
    "* Should cases with zero fare be omitted?\n",
    "* Should cases missing embarkment be omitted?\n",
    "* Should cases with missing age be omitted?\n",
    "* Should cases with missing cabin be omitted?"
   ]
  },
  {
   "cell_type": "markdown",
   "id": "b69966c4",
   "metadata": {},
   "source": [
    "**Answers:**\n",
    "\n",
    "* missing fare -- should be omitted (one case only)\n",
    "* zero fare -- should be omitted (few cases only, possibly special ones or simply errors)\n",
    "* missing embarkment -- should be omitted (one case only)\n",
    "* missing age -- should not be omitted (too many cases, we have to deal with it other way)\n",
    "* missing cabin -- should not be omitted (missing value is informative)"
   ]
  },
  {
   "cell_type": "code",
   "execution_count": 207,
   "id": "889d22f4",
   "metadata": {},
   "outputs": [],
   "source": [
    "# TASK 1 cleaning\n",
    "df1 = df1[df1['fare'].notna() & (df1['fare']>0) & (df1['embarked'].notna())]"
   ]
  },
  {
   "cell_type": "markdown",
   "id": "e6d5215a",
   "metadata": {},
   "source": [
    "### Making different entities -- tickets\n",
    "We make a table of tickets by few steps:\n",
    "\n",
    "1. Base table -- unique rows of *ticket*, *pclass*, *fare* (we now there is integrity).\n",
    "2. Aggregated features grouped by *ticket* -- e. g. count of passengers; join aggregated table to the base table.\n",
    "3. Artificial aggregation as a solution of multiple embarkment -- we take the highest value of *embarked* to unify embarkment places for tickets.\n",
    "\n",
    "**TASK 2. Make a table with tickets as rows (650 rows) and (some aggregated) features. Choose useful features for future analysis by yourself.**"
   ]
  },
  {
   "cell_type": "markdown",
   "id": "f3be938e",
   "metadata": {},
   "source": [
    "**Chosen features:**\n",
    "* count of passengers\n",
    "* ratio of male passengers\n",
    "* age of the youngest and of the oldest passenger\n",
    "* average age of passengers\n",
    "* count af passengers with known age\n",
    "* sex od the oldest passenger\n",
    "* count of (distinct) cabins"
   ]
  },
  {
   "cell_type": "code",
   "execution_count": 208,
   "id": "f484051b",
   "metadata": {},
   "outputs": [],
   "source": [
    "# TASK 2 solution\n",
    "# User function\n",
    "def rate_males(s):\n",
    "    return np.mean(np.where(s=='male', 1, 0))\n",
    "\n",
    "### Base table\n",
    "df2_base = df1[['ticket', 'pclass', 'fare']].drop_duplicates()\n",
    "df2_base = df2_base.set_index('ticket') # setting 'ticket' column as key\n",
    "\n",
    "### Multiple embarkment solution\n",
    "df2_emb = df1.groupby('ticket').agg({'embarked': 'max'})\n",
    "# print('Ticket with multiple embarkment has been unified:')\n",
    "# print(df2_emb.loc['113798'])\n",
    "# no need to set index - groupby + agg sets index by default\n",
    "\n",
    "### Some chosen features\n",
    "df2_feat = df1.groupby('ticket').agg({'ticket': 'count', 'sex': [rate_males],\n",
    "                                      'age': ['min', 'max', np.mean, 'count'], 'cabin': 'nunique'})\n",
    "# column names update\n",
    "df2_feat.columns = ['pass_cnt', 'rate_males', 'age_min', 'age_max', 'age_mean', 'age_valid_cnt', 'cabin_cnt']\n",
    "\n",
    "# sex of the oldest person for the ticket\n",
    "df2_feat_sex_oldest = df1.sort_values(by=['ticket', 'age'], ascending=[True, False]) \\\n",
    "    .drop_duplicates('ticket')[['ticket', 'sex']]\n",
    "df2_feat_sex_oldest = df2_feat_sex_oldest.set_index('ticket') # setting 'ticket' column as key\n",
    "df2_feat_sex_oldest.columns = ['sex_oldest']\n",
    "\n",
    "### Joining tables together\n",
    "df2 = df2_base.join(df2_emb) # join is by default LEFT and index<->index\n",
    "df2 = df2.join(df2_feat)\n",
    "df2 = df2.join(df2_feat_sex_oldest)"
   ]
  },
  {
   "cell_type": "markdown",
   "id": "e43a9586",
   "metadata": {},
   "source": [
    "### Mathematical transformations\n",
    "\n",
    "* The distribution of fare is very skew. Let's transform it by log to get it better balanced.\n",
    "* The fare is given as a total. But it's better to get an average fare per one passenger.\n",
    "\n",
    "**TASK 3. Add new columns to the table as stated above.**"
   ]
  },
  {
   "cell_type": "code",
   "execution_count": 209,
   "id": "7e811d18",
   "metadata": {},
   "outputs": [],
   "source": [
    "# Task 3 solution\n",
    "df2['fare_log'] = np.log10(df2['fare']) # we use log10 for better interpretation, but simple log is ok, too.\n",
    "df2['fare_per_pass'] = df2['fare'] / df2['pass_cnt']"
   ]
  },
  {
   "cell_type": "markdown",
   "id": "509dfb7e",
   "metadata": {},
   "source": [
    "### Feature extraction\n",
    "\n",
    "* \"binning\" numeric values (making categories)\n",
    "* making True/False flags\n",
    "* combining multiple columns\n",
    "\n",
    "**TASK 4.**\n",
    "1. Make new columns as meaningful categories \"binned\" from count of passengers, mean age, count of distinct cabins.\n",
    "2. Make flags \"child\" and \"baby\": flag is True when the youngest passenger for a ticket was under 15, resp. under 3 years.\n",
    "3. Find the most often combinations of men and women travelling on one ticket (e. g. \"single man\", \"man+woman\", \"two men\", \"other\" etc.) and make a new column with category description."
   ]
  },
  {
   "cell_type": "code",
   "execution_count": null,
   "id": "9adf43d2",
   "metadata": {},
   "outputs": [],
   "source": [
    "### Task 4.1 solution\n",
    "# First, find proper breaks for binning; then make binning; then check frequencies\n",
    "\n",
    "### pass_cnt\n",
    "print(df2['pass_cnt'].value_counts())\n",
    "# categories will be 1, 2, 3, 4+\n",
    "df2['pass_cnt_cat'] = pd.cut(df2['pass_cnt'], [0, 1, 2, 3, 1000], labels=['1', '2', '3', '4+'])\n",
    "print(df2['pass_cnt_cat'].value_counts())\n",
    "\n",
    "### age_mean\n",
    "plt.hist(df2['age_mean'])\n",
    "# categories will be up to 15, 15-25, 25-40, 40+\n",
    "df2['age_mean_cat'] = pd.cut(df2['age_mean'], [0, 15, 20, 25, 30, 40, 1000],\n",
    "                             labels=['15-', '15-20', '20-25', '25-30', '30-40', '40+'])\n",
    "print(df2['age_mean_cat'].value_counts().sort_index())\n",
    "\n",
    "### cabin_cnt (same approach as pass_cnt)\n",
    "print(df2['cabin_cnt'].value_counts())\n",
    "# categories will be none, 1, 2+\n",
    "df2['cabin_cnt_cat'] = pd.cut(df2['cabin_cnt'], [0, 1, 2, 1000], right=False, labels=['none', '1', '2+'])\n",
    "print(df2['cabin_cnt_cat'].value_counts())\n"
   ]
  },
  {
   "cell_type": "code",
   "execution_count": 220,
   "id": "f8c7abc8",
   "metadata": {},
   "outputs": [],
   "source": [
    "### Task 4.2 solution\n",
    "df2['flag_child'] = (df2['age_min'] < 15)\n",
    "df2['flag_baby'] = (df2['age_min'] < 3)"
   ]
  },
  {
   "cell_type": "code",
   "execution_count": 233,
   "id": "34f891c9",
   "metadata": {
    "scrolled": true
   },
   "outputs": [],
   "source": [
    "### Task 4.3 solution\n",
    "# analyze frequencies of various combinations\n",
    "pd.pivot_table(df2, values='fare', index=['pass_cnt_cat'], columns=['rate_males'], aggfunc=np.size)\n",
    "# then make a new column\n",
    "# very simple example - can be extended by nested np.where conditions\n",
    "df2['group'] = np.where((df2['rate_males']==1) & (df2['pass_cnt']==1), 'Single man', 'Other')"
   ]
  },
  {
   "cell_type": "markdown",
   "id": "ac0dd572",
   "metadata": {},
   "source": [
    "## Home credit\n",
    "This dataset contains Home Credit clients who got a loan. Each client (=row in the dataset) has plenty of data in columns. We are interested in the segmentation of client portfolio. Segmentation is a division the basic dataset into some well-defined segment, like \"young single men\", \"old widow women living alone\" etc.\n",
    "\n",
    "The relevant columns are *days_birth*, *code_gender*, *cnt_children*, *cnt_fam_members*, *name_family_status*.\n",
    "\n",
    "**TASK: look into data and try to find some big segments based on some features from the set of relevant columns. You may need to do some binning before.**"
   ]
  },
  {
   "cell_type": "code",
   "execution_count": 245,
   "id": "614209c6",
   "metadata": {},
   "outputs": [],
   "source": [
    "df_hc = pd.read_csv('application_train.csv')\n",
    "df_hc.columns = df_hc.columns.str.lower()\n",
    "df_hc = df_hc[['days_birth', 'code_gender', 'cnt_children', 'cnt_fam_members', 'name_family_status']]"
   ]
  }
 ],
 "metadata": {
  "kernelspec": {
   "display_name": "Python 3",
   "language": "python",
   "name": "python3"
  },
  "language_info": {
   "codemirror_mode": {
    "name": "ipython",
    "version": 3
   },
   "file_extension": ".py",
   "mimetype": "text/x-python",
   "name": "python",
   "nbconvert_exporter": "python",
   "pygments_lexer": "ipython3",
   "version": "3.8.8"
  }
 },
 "nbformat": 4,
 "nbformat_minor": 5
}
