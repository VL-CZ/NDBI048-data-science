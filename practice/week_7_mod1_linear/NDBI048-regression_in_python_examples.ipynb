{
 "cells": [
  {
   "cell_type": "markdown",
   "id": "23c5302f",
   "metadata": {},
   "source": [
    "# Linear modelling in Python – linear and logistic regression\n",
    "This notebook brings examples of basic linear modelling in Python on artificial data. Its aim is just to show approaches and code that can be use for fitting model, getting coefficients, evaluating its performance and predicting.\n",
    "\n",
    "## Contents\n",
    "1. [Useful links](#Useful-links)\n",
    "1. [Data](#Data)\n",
    "1. [Linear regression](#Linear-regression)\n",
    "1. [Logistic regression](#Logistic-regression)"
   ]
  },
  {
   "cell_type": "markdown",
   "id": "42b2a300",
   "metadata": {},
   "source": [
    "## Useful links\n",
    "* [Scikit LinearRegression class](https://scikit-learn.org/stable/modules/generated/sklearn.linear_model.LinearRegression.html)\n",
    "* [Scikit LogisticRegression class](https://scikit-learn.org/stable/modules/generated/sklearn.linear_model.LogisticRegression.html)\n",
    "* [Statsmodels linear regression](https://www.statsmodels.org/stable/regression.html)\n",
    "* [Statsmodels OLS method (ordinary least squares)](https://www.statsmodels.org/dev/generated/statsmodels.regression.linear_model.OLS.html)\n",
    "* [Statsmodels Logit method (logistic regression)](https://www.statsmodels.org/dev/generated/statsmodels.discrete.discrete_model.Logit.html)\n",
    "* [R style formulas in Statsmodels](https://www.statsmodels.org/stable/example_formulas.html)\n",
    "* [Statsmodels ols method (ordinary least squares with R formula)](https://www.statsmodels.org/stable/generated/statsmodels.formula.api.ols.html#statsmodels.formula.api.ols)\n",
    "* [Statsmodels logit method (logistic regression with R formula)](https://www.statsmodels.org/stable/generated/statsmodels.formula.api.logit.html)\n",
    "* [Scikit cross validation](https://scikit-learn.org/stable/modules/cross_validation.html)\n",
    "* [Metrics for model evaluation](https://scikit-learn.org/stable/modules/model_evaluation.html)\n",
    "* [Scikit one-hot encoding](https://scikit-learn.org/stable/modules/generated/sklearn.preprocessing.OneHotEncoder.html)\n",
    "* [Pandas one-hot encoding](https://pandas.pydata.org/docs/reference/api/pandas.get_dummies.html)"
   ]
  },
  {
   "cell_type": "code",
   "execution_count": 1,
   "id": "3f8ec285",
   "metadata": {},
   "outputs": [],
   "source": [
    "# setup\n",
    "import pandas as pd\n",
    "import numpy as np\n",
    "import seaborn as sns\n",
    "\n",
    "pd.set_option(\"display.precision\", 2)"
   ]
  },
  {
   "cell_type": "markdown",
   "id": "0533a4a3",
   "metadata": {},
   "source": [
    "## Data\n",
    "This dataset is artificial. Data contains 16 rows and 5 columns: id, 2 binary columns (*approve* and *sex*) and 2 numeric columns (*age* and *salary*)."
   ]
  },
  {
   "cell_type": "code",
   "execution_count": 2,
   "id": "a445521d",
   "metadata": {
    "scrolled": true
   },
   "outputs": [
    {
     "data": {
      "text/html": [
       "<div>\n",
       "<style scoped>\n",
       "    .dataframe tbody tr th:only-of-type {\n",
       "        vertical-align: middle;\n",
       "    }\n",
       "\n",
       "    .dataframe tbody tr th {\n",
       "        vertical-align: top;\n",
       "    }\n",
       "\n",
       "    .dataframe thead th {\n",
       "        text-align: right;\n",
       "    }\n",
       "</style>\n",
       "<table border=\"1\" class=\"dataframe\">\n",
       "  <thead>\n",
       "    <tr style=\"text-align: right;\">\n",
       "      <th></th>\n",
       "      <th>id</th>\n",
       "      <th>approve</th>\n",
       "      <th>sex</th>\n",
       "      <th>age</th>\n",
       "      <th>salary</th>\n",
       "    </tr>\n",
       "  </thead>\n",
       "  <tbody>\n",
       "    <tr>\n",
       "      <th>0</th>\n",
       "      <td>0</td>\n",
       "      <td>False</td>\n",
       "      <td>M</td>\n",
       "      <td>20</td>\n",
       "      <td>20</td>\n",
       "    </tr>\n",
       "    <tr>\n",
       "      <th>1</th>\n",
       "      <td>1</td>\n",
       "      <td>True</td>\n",
       "      <td>M</td>\n",
       "      <td>52</td>\n",
       "      <td>56</td>\n",
       "    </tr>\n",
       "    <tr>\n",
       "      <th>2</th>\n",
       "      <td>2</td>\n",
       "      <td>False</td>\n",
       "      <td>M</td>\n",
       "      <td>33</td>\n",
       "      <td>37</td>\n",
       "    </tr>\n",
       "    <tr>\n",
       "      <th>3</th>\n",
       "      <td>3</td>\n",
       "      <td>True</td>\n",
       "      <td>M</td>\n",
       "      <td>23</td>\n",
       "      <td>24</td>\n",
       "    </tr>\n",
       "    <tr>\n",
       "      <th>4</th>\n",
       "      <td>4</td>\n",
       "      <td>False</td>\n",
       "      <td>M</td>\n",
       "      <td>44</td>\n",
       "      <td>47</td>\n",
       "    </tr>\n",
       "    <tr>\n",
       "      <th>5</th>\n",
       "      <td>5</td>\n",
       "      <td>True</td>\n",
       "      <td>M</td>\n",
       "      <td>56</td>\n",
       "      <td>50</td>\n",
       "    </tr>\n",
       "    <tr>\n",
       "      <th>6</th>\n",
       "      <td>6</td>\n",
       "      <td>True</td>\n",
       "      <td>M</td>\n",
       "      <td>39</td>\n",
       "      <td>41</td>\n",
       "    </tr>\n",
       "    <tr>\n",
       "      <th>7</th>\n",
       "      <td>7</td>\n",
       "      <td>True</td>\n",
       "      <td>M</td>\n",
       "      <td>30</td>\n",
       "      <td>29</td>\n",
       "    </tr>\n",
       "    <tr>\n",
       "      <th>8</th>\n",
       "      <td>8</td>\n",
       "      <td>False</td>\n",
       "      <td>F</td>\n",
       "      <td>42</td>\n",
       "      <td>45</td>\n",
       "    </tr>\n",
       "    <tr>\n",
       "      <th>9</th>\n",
       "      <td>9</td>\n",
       "      <td>False</td>\n",
       "      <td>F</td>\n",
       "      <td>38</td>\n",
       "      <td>28</td>\n",
       "    </tr>\n",
       "    <tr>\n",
       "      <th>10</th>\n",
       "      <td>10</td>\n",
       "      <td>False</td>\n",
       "      <td>F</td>\n",
       "      <td>50</td>\n",
       "      <td>43</td>\n",
       "    </tr>\n",
       "    <tr>\n",
       "      <th>11</th>\n",
       "      <td>11</td>\n",
       "      <td>True</td>\n",
       "      <td>F</td>\n",
       "      <td>27</td>\n",
       "      <td>22</td>\n",
       "    </tr>\n",
       "    <tr>\n",
       "      <th>12</th>\n",
       "      <td>12</td>\n",
       "      <td>True</td>\n",
       "      <td>F</td>\n",
       "      <td>46</td>\n",
       "      <td>45</td>\n",
       "    </tr>\n",
       "    <tr>\n",
       "      <th>13</th>\n",
       "      <td>13</td>\n",
       "      <td>False</td>\n",
       "      <td>F</td>\n",
       "      <td>25</td>\n",
       "      <td>20</td>\n",
       "    </tr>\n",
       "    <tr>\n",
       "      <th>14</th>\n",
       "      <td>14</td>\n",
       "      <td>True</td>\n",
       "      <td>F</td>\n",
       "      <td>35</td>\n",
       "      <td>28</td>\n",
       "    </tr>\n",
       "    <tr>\n",
       "      <th>15</th>\n",
       "      <td>15</td>\n",
       "      <td>False</td>\n",
       "      <td>F</td>\n",
       "      <td>47</td>\n",
       "      <td>36</td>\n",
       "    </tr>\n",
       "  </tbody>\n",
       "</table>\n",
       "</div>"
      ],
      "text/plain": [
       "    id  approve sex  age  salary\n",
       "0    0    False   M   20      20\n",
       "1    1     True   M   52      56\n",
       "2    2    False   M   33      37\n",
       "3    3     True   M   23      24\n",
       "4    4    False   M   44      47\n",
       "5    5     True   M   56      50\n",
       "6    6     True   M   39      41\n",
       "7    7     True   M   30      29\n",
       "8    8    False   F   42      45\n",
       "9    9    False   F   38      28\n",
       "10  10    False   F   50      43\n",
       "11  11     True   F   27      22\n",
       "12  12     True   F   46      45\n",
       "13  13    False   F   25      20\n",
       "14  14     True   F   35      28\n",
       "15  15    False   F   47      36"
      ]
     },
     "execution_count": 2,
     "metadata": {},
     "output_type": "execute_result"
    }
   ],
   "source": [
    "df_art = pd.DataFrame(data={'id': range(16),\n",
    "                            'approve': [False, True, False, True, False, True, True, True, False, False, False,\n",
    "                                        True, True, False, True, False],\n",
    "                            'sex': np.concatenate((np.array(['M'] * 8), np.array(['F'] * 8))),\n",
    "                            'age': [20, 52, 33, 23, 44, 56, 39, 30, 42, 38, 50, 27, 46, 25, 35, 47],\n",
    "                            'salary': [20, 56, 37, 24, 47, 50, 41, 29, 45, 28, 43, 22, 45, 20, 28, 36]})\n",
    "df_art"
   ]
  },
  {
   "cell_type": "markdown",
   "id": "78a80999",
   "metadata": {},
   "source": [
    "There are several packages for regression in Python. We deal with **sklearn** (scikit-learn) and **statsmodels**. Each of them has its pros and cons. **Sklearn** is machine-learning oriented, while **statsmodels** is better for explanatory and inferring purpose.\n",
    "\n",
    "> With each approach we do these steps:\n",
    "\n",
    "1. fitting a model\n",
    "2. getting coefficients of the model\n",
    "3. assessing significance of coeficients / possible dropping a predictor\n",
    "4. assessing model performance\n",
    "5. prediction"
   ]
  },
  {
   "cell_type": "code",
   "execution_count": 3,
   "id": "48b38538",
   "metadata": {},
   "outputs": [],
   "source": [
    "from sklearn.linear_model import LogisticRegression, LinearRegression\n",
    "from sklearn.model_selection import cross_val_score\n",
    "import statsmodels.api as sm\n",
    "import statsmodels.formula.api as smf"
   ]
  },
  {
   "cell_type": "markdown",
   "id": "de816193",
   "metadata": {},
   "source": [
    "## Linear regression\n",
    "In this part, we model *salary* (\"response\", \"target\") against *age* and *sex* (\"predictors\", \"explanatory\").\n",
    "\n",
    "* [Linear regression with one numeric predictor](#Linear-regression-with-one-numeric-predictor)\n",
    "* [Linear regression with one categorical predictor](#Linear-regression-with-one-categorical-predictor)\n",
    "* [Linear regression with multiple predictors](#Linear-regression-with-multiple-predictors)\n",
    "\n",
    "### Linear regression with one numeric predictor\n",
    "Let's take *salary* as response and *age* as predictor."
   ]
  },
  {
   "cell_type": "code",
   "execution_count": 4,
   "id": "973658e7",
   "metadata": {},
   "outputs": [
    {
     "data": {
      "image/png": "[encoded data removed]",
      "text/plain": [
       "<Figure size 500x500 with 1 Axes>"
      ]
     },
     "metadata": {},
     "output_type": "display_data"
    }
   ],
   "source": [
    "# chart\n",
    "g = sns.relplot(data=df_art, x=\"age\", y=\"salary\") \\\n",
    "    .set_axis_labels(\"Age [yrs]\", \"Salary [thousands of CZK]\") \\\n",
    "    .set(title=\"Salary by age\")"
   ]
  },
  {
   "cell_type": "markdown",
   "id": "4d751914",
   "metadata": {},
   "source": [
    "#### A. Sklearn approach\n",
    "Use [LinearRegression](https://scikit-learn.org/stable/modules/generated/sklearn.linear_model.LinearRegression.html) class with method `fit` to create model object.  \n",
    "Then use properties and methods of that object."
   ]
  },
  {
   "cell_type": "code",
   "execution_count": 29,
   "id": "54519fab",
   "metadata": {},
   "outputs": [
    {
     "name": "stdout",
     "output_type": "stream",
     "text": [
      "Intercept:  -0.15693291178821056\n",
      "Beta coefficients:  [0.94482854]\n",
      "R2 on itself:  0.8104788906769791\n",
      "R2 by cval:  [0.80951289 0.72864444 0.64242428 0.56363454]\n",
      "Predicted salary for age= 35  is  [32.91206615]\n"
     ]
    },
    {
     "name": "stderr",
     "output_type": "stream",
     "text": [
      "c:\\Users\\vojta\\UK\\22-23_W\\data-science\\NDBI048-data-science\\.venv\\lib\\site-packages\\sklearn\\base.py:450: UserWarning: X does not have valid feature names, but LinearRegression was fitted with feature names\n",
      "  warnings.warn(\n"
     ]
    }
   ],
   "source": [
    "X = df_art[['age']]\n",
    "y = df_art['salary']\n",
    "# by default the intercept is included\n",
    "\n",
    "### fit model\n",
    "modelA = LinearRegression().fit(X, y)\n",
    "\n",
    "### get coefficients\n",
    "print('Intercept: ', modelA.intercept_)\n",
    "print('Beta coefficients: ', modelA.coef_)\n",
    "\n",
    "### assess coefficients / drop predictors\n",
    "# There is no straight way (like p-value). We can use performance metric and assess it;\n",
    "# then we can fit a submodel and compare performance metrics.\n",
    "\n",
    "### assess model performance\n",
    "# i. scoring itself directly (not recommended, overrates performance)\n",
    "print('R2 on itself: ', modelA.score(X, y))\n",
    "# ii. scoring by a cross-validation\n",
    "# https://scikit-learn.org/stable/modules/cross_validation.html\n",
    "scores = cross_val_score(LinearRegression(), X, y, cv=4)\n",
    "print('R2 by cval: ', scores)\n",
    "\n",
    "### predictions\n",
    "x_pred = 35 # prediction of salary for 35 yrs old\n",
    "print('Predicted salary for age=', x_pred, ' is ', modelA.predict([[x_pred]]))\n",
    "# predictions can be made on actual predictor values, too -> added to the chart"
   ]
  },
  {
   "cell_type": "markdown",
   "id": "8d88017c",
   "metadata": {},
   "source": [
    "#### B. Statmodels classic\n",
    "Use [OLS method](https://www.statsmodels.org/stable/regression.html) to create model object.  \n",
    "Note that the model object is denoted as `res` there -- but we call it \"model\" to be consistent."
   ]
  },
  {
   "cell_type": "code",
   "execution_count": 6,
   "id": "f5b5c7a7",
   "metadata": {},
   "outputs": [
    {
     "name": "stdout",
     "output_type": "stream",
     "text": [
      "Beta coefficients:  const   -0.16\n",
      "age      0.94\n",
      "dtype: float64\n",
      "                            OLS Regression Results                            \n",
      "==============================================================================\n",
      "Dep. Variable:                 salary   R-squared:                       0.810\n",
      "Model:                            OLS   Adj. R-squared:                  0.797\n",
      "Method:                 Least Squares   F-statistic:                     59.87\n",
      "Date:                Wed, 23 Nov 2022   Prob (F-statistic):           2.01e-06\n",
      "Time:                        11:05:14   Log-Likelihood:                -47.949\n",
      "No. Observations:                  16   AIC:                             99.90\n",
      "Df Residuals:                      14   BIC:                             101.4\n",
      "Df Model:                           1                                         \n",
      "Covariance Type:            nonrobust                                         \n",
      "==============================================================================\n",
      "                 coef    std err          t      P>|t|      [0.025      0.975]\n",
      "------------------------------------------------------------------------------\n",
      "const         -0.1569      4.810     -0.033      0.974     -10.473      10.160\n",
      "age            0.9448      0.122      7.738      0.000       0.683       1.207\n",
      "==============================================================================\n",
      "Omnibus:                        2.557   Durbin-Watson:                   1.237\n",
      "Prob(Omnibus):                  0.278   Jarque-Bera (JB):                1.126\n",
      "Skew:                          -0.172   Prob(JB):                        0.570\n",
      "Kurtosis:                       1.747   Cond. No.                         146.\n",
      "==============================================================================\n",
      "\n",
      "Notes:\n",
      "[1] Standard Errors assume that the covariance matrix of the errors is correctly specified.\n",
      "R2 on itself:  0.8104788906769791\n",
      "R2 adjusted:  0.7969416685824776\n",
      "Predicted salary for age= 35  is  [32.91206615]\n"
     ]
    },
    {
     "name": "stderr",
     "output_type": "stream",
     "text": [
      "c:\\Users\\vojta\\UK\\22-23_W\\data-science\\NDBI048-data-science\\.venv\\lib\\site-packages\\scipy\\stats\\_stats_py.py:1772: UserWarning: kurtosistest only valid for n>=20 ... continuing anyway, n=16\n",
      "  warnings.warn(\"kurtosistest only valid for n>=20 ... continuing \"\n"
     ]
    }
   ],
   "source": [
    "X_int = sm.add_constant(X)\n",
    "# by default the intercept is NOT included - we need to add it\n",
    "\n",
    "### fit model\n",
    "modelB = sm.OLS(y, X_int).fit()\n",
    "\n",
    "### get coefficients\n",
    "print('Beta coefficients: ', modelB.params)\n",
    "\n",
    "### assess coefficients / drop predictors\n",
    "print(modelB.summary()) # detailed information of model and coefficients\n",
    "\n",
    "### assess model\n",
    "# i. scoring itself directly (not recommended, overrates performance)\n",
    "print('R2 on itself: ', modelB.rsquared)\n",
    "# ii. scoring by a cross-validation\n",
    "# cross-validation not available in this package, we can use approximation:\n",
    "print('R2 adjusted: ', modelB.rsquared_adj)\n",
    "\n",
    "### predictions\n",
    "x_pred = 35 # prediction of salary for 35 yrs old\n",
    "print('Predicted salary for age=', x_pred, ' is ', modelB.predict([1, x_pred]))"
   ]
  },
  {
   "cell_type": "markdown",
   "id": "d684d58f",
   "metadata": {},
   "source": [
    "#### C. Statsmodels with R formula notation\n",
    "In R language, the relation \"predictor <-> target\" can be written as formula:  \n",
    "*target* ~ *predictor1* + *predictor2* + ...\n",
    "\n",
    "[This possibility has been included](https://www.statsmodels.org/stable/example_formulas.html) into `statmodels` package. Use [ols method](https://www.statsmodels.org/stable/generated/statsmodels.formula.api.ols.html#statsmodels.formula.api.ols) from the `formula` submodule to create model object.\n",
    "\n",
    "Differences to B approach:\n",
    "* no need to add a column for the intercept\n",
    "* values for predictions are entered as a DataFrame\n",
    "\n",
    "Everything else is the same as for B approach."
   ]
  },
  {
   "cell_type": "code",
   "execution_count": 7,
   "id": "917420a8",
   "metadata": {},
   "outputs": [
    {
     "name": "stdout",
     "output_type": "stream",
     "text": [
      "Beta coefficients:  Intercept   -0.16\n",
      "age          0.94\n",
      "dtype: float64\n",
      "                            OLS Regression Results                            \n",
      "==============================================================================\n",
      "Dep. Variable:                 salary   R-squared:                       0.810\n",
      "Model:                            OLS   Adj. R-squared:                  0.797\n",
      "Method:                 Least Squares   F-statistic:                     59.87\n",
      "Date:                Wed, 23 Nov 2022   Prob (F-statistic):           2.01e-06\n",
      "Time:                        11:05:14   Log-Likelihood:                -47.949\n",
      "No. Observations:                  16   AIC:                             99.90\n",
      "Df Residuals:                      14   BIC:                             101.4\n",
      "Df Model:                           1                                         \n",
      "Covariance Type:            nonrobust                                         \n",
      "==============================================================================\n",
      "                 coef    std err          t      P>|t|      [0.025      0.975]\n",
      "------------------------------------------------------------------------------\n",
      "Intercept     -0.1569      4.810     -0.033      0.974     -10.473      10.160\n",
      "age            0.9448      0.122      7.738      0.000       0.683       1.207\n",
      "==============================================================================\n",
      "Omnibus:                        2.557   Durbin-Watson:                   1.237\n",
      "Prob(Omnibus):                  0.278   Jarque-Bera (JB):                1.126\n",
      "Skew:                          -0.172   Prob(JB):                        0.570\n",
      "Kurtosis:                       1.747   Cond. No.                         146.\n",
      "==============================================================================\n",
      "\n",
      "Notes:\n",
      "[1] Standard Errors assume that the covariance matrix of the errors is correctly specified.\n",
      "R2 on itself:  0.8104788906769791\n",
      "R2 adjusted:  0.7969416685824776\n",
      "Predicted salary for age= 35  is  [32.91206615]\n"
     ]
    },
    {
     "name": "stderr",
     "output_type": "stream",
     "text": [
      "c:\\Users\\vojta\\UK\\22-23_W\\data-science\\NDBI048-data-science\\.venv\\lib\\site-packages\\scipy\\stats\\_stats_py.py:1772: UserWarning: kurtosistest only valid for n>=20 ... continuing anyway, n=16\n",
      "  warnings.warn(\"kurtosistest only valid for n>=20 ... continuing \"\n"
     ]
    }
   ],
   "source": [
    "### fit model\n",
    "modelC = smf.ols(\"salary ~ age\", data=df_art).fit() # by default the intercept is included\n",
    "\n",
    "### get coefficients\n",
    "print('Beta coefficients: ', modelC.params)\n",
    "\n",
    "### assess coefficients / drop predictors\n",
    "print(modelC.summary()) # detailed information of model and coefficients\n",
    "\n",
    "### assess model\n",
    "# i. scoring itself directly (not recommended, overrates performance)\n",
    "print('R2 on itself: ', modelC.rsquared)\n",
    "# ii. scoring by a cross-validation\n",
    "# cross-validation not available in this package, we can use approximation:\n",
    "print('R2 adjusted: ', modelC.rsquared_adj)\n",
    "\n",
    "### predictions\n",
    "x_pred = 35 # prediction of salary for 35 yrs old\n",
    "y_pred = modelC.predict(pd.DataFrame({'age': x_pred}, index=range(1)))\n",
    "print('Predicted salary for age=', x_pred, ' is ', y_pred.values)\n",
    "# for prediction, data must be specified as DataFrame"
   ]
  },
  {
   "cell_type": "markdown",
   "id": "4560f088",
   "metadata": {},
   "source": [
    "[Back to linear regression](#Linear-regression)\n",
    "\n",
    "----\n",
    "\n",
    "### Linear regression with one categorical predictor\n",
    "\n",
    "Let's take salary as response and sex as predictor."
   ]
  },
  {
   "cell_type": "code",
   "execution_count": 8,
   "id": "5ed13f79",
   "metadata": {},
   "outputs": [
    {
     "data": {
      "image/png": "[encoded data removed]",
      "text/plain": [
       "<Figure size 500x500 with 1 Axes>"
      ]
     },
     "metadata": {},
     "output_type": "display_data"
    }
   ],
   "source": [
    "# chart\n",
    "g = sns.catplot(data=df_art, x=\"sex\", y=\"salary\", kind=\"box\") \\\n",
    "    .set_axis_labels(\"Sex\", \"Salary [thousands of CZK]\") \\\n",
    "    .set(title=\"Salary by sex\")"
   ]
  },
  {
   "cell_type": "markdown",
   "id": "45b32acf",
   "metadata": {},
   "source": [
    "Because both A and B approaches can deal with numeric model matrix only, we have to convert character (or generally categorical) column to one or many 0/1 columns. It is called [one-hot-encoding](https://www.educative.io/blog/one-hot-encoding). This can be reached by [sklearn.preprocessing.OneHotEncoder](https://scikit-learn.org/stable/modules/generated/sklearn.preprocessing.OneHotEncoder.html) object or directly in pandas DataFrame by [get_dummies](https://pandas.pydata.org/docs/reference/api/pandas.get_dummies.html) function.\n",
    "\n",
    "The C approach does not need dummy."
   ]
  },
  {
   "cell_type": "code",
   "execution_count": 9,
   "id": "01a16532",
   "metadata": {},
   "outputs": [
    {
     "data": {
      "text/html": [
       "<div>\n",
       "<style scoped>\n",
       "    .dataframe tbody tr th:only-of-type {\n",
       "        vertical-align: middle;\n",
       "    }\n",
       "\n",
       "    .dataframe tbody tr th {\n",
       "        vertical-align: top;\n",
       "    }\n",
       "\n",
       "    .dataframe thead th {\n",
       "        text-align: right;\n",
       "    }\n",
       "</style>\n",
       "<table border=\"1\" class=\"dataframe\">\n",
       "  <thead>\n",
       "    <tr style=\"text-align: right;\">\n",
       "      <th></th>\n",
       "      <th>id</th>\n",
       "      <th>approve</th>\n",
       "      <th>age</th>\n",
       "      <th>salary</th>\n",
       "      <th>sex</th>\n",
       "      <th>sex_M</th>\n",
       "    </tr>\n",
       "  </thead>\n",
       "  <tbody>\n",
       "    <tr>\n",
       "      <th>0</th>\n",
       "      <td>0</td>\n",
       "      <td>False</td>\n",
       "      <td>20</td>\n",
       "      <td>20</td>\n",
       "      <td>M</td>\n",
       "      <td>1</td>\n",
       "    </tr>\n",
       "    <tr>\n",
       "      <th>1</th>\n",
       "      <td>1</td>\n",
       "      <td>True</td>\n",
       "      <td>52</td>\n",
       "      <td>56</td>\n",
       "      <td>M</td>\n",
       "      <td>1</td>\n",
       "    </tr>\n",
       "    <tr>\n",
       "      <th>2</th>\n",
       "      <td>2</td>\n",
       "      <td>False</td>\n",
       "      <td>33</td>\n",
       "      <td>37</td>\n",
       "      <td>M</td>\n",
       "      <td>1</td>\n",
       "    </tr>\n",
       "    <tr>\n",
       "      <th>3</th>\n",
       "      <td>3</td>\n",
       "      <td>True</td>\n",
       "      <td>23</td>\n",
       "      <td>24</td>\n",
       "      <td>M</td>\n",
       "      <td>1</td>\n",
       "    </tr>\n",
       "    <tr>\n",
       "      <th>4</th>\n",
       "      <td>4</td>\n",
       "      <td>False</td>\n",
       "      <td>44</td>\n",
       "      <td>47</td>\n",
       "      <td>M</td>\n",
       "      <td>1</td>\n",
       "    </tr>\n",
       "    <tr>\n",
       "      <th>5</th>\n",
       "      <td>5</td>\n",
       "      <td>True</td>\n",
       "      <td>56</td>\n",
       "      <td>50</td>\n",
       "      <td>M</td>\n",
       "      <td>1</td>\n",
       "    </tr>\n",
       "    <tr>\n",
       "      <th>6</th>\n",
       "      <td>6</td>\n",
       "      <td>True</td>\n",
       "      <td>39</td>\n",
       "      <td>41</td>\n",
       "      <td>M</td>\n",
       "      <td>1</td>\n",
       "    </tr>\n",
       "    <tr>\n",
       "      <th>7</th>\n",
       "      <td>7</td>\n",
       "      <td>True</td>\n",
       "      <td>30</td>\n",
       "      <td>29</td>\n",
       "      <td>M</td>\n",
       "      <td>1</td>\n",
       "    </tr>\n",
       "    <tr>\n",
       "      <th>8</th>\n",
       "      <td>8</td>\n",
       "      <td>False</td>\n",
       "      <td>42</td>\n",
       "      <td>45</td>\n",
       "      <td>F</td>\n",
       "      <td>0</td>\n",
       "    </tr>\n",
       "    <tr>\n",
       "      <th>9</th>\n",
       "      <td>9</td>\n",
       "      <td>False</td>\n",
       "      <td>38</td>\n",
       "      <td>28</td>\n",
       "      <td>F</td>\n",
       "      <td>0</td>\n",
       "    </tr>\n",
       "    <tr>\n",
       "      <th>10</th>\n",
       "      <td>10</td>\n",
       "      <td>False</td>\n",
       "      <td>50</td>\n",
       "      <td>43</td>\n",
       "      <td>F</td>\n",
       "      <td>0</td>\n",
       "    </tr>\n",
       "    <tr>\n",
       "      <th>11</th>\n",
       "      <td>11</td>\n",
       "      <td>True</td>\n",
       "      <td>27</td>\n",
       "      <td>22</td>\n",
       "      <td>F</td>\n",
       "      <td>0</td>\n",
       "    </tr>\n",
       "    <tr>\n",
       "      <th>12</th>\n",
       "      <td>12</td>\n",
       "      <td>True</td>\n",
       "      <td>46</td>\n",
       "      <td>45</td>\n",
       "      <td>F</td>\n",
       "      <td>0</td>\n",
       "    </tr>\n",
       "    <tr>\n",
       "      <th>13</th>\n",
       "      <td>13</td>\n",
       "      <td>False</td>\n",
       "      <td>25</td>\n",
       "      <td>20</td>\n",
       "      <td>F</td>\n",
       "      <td>0</td>\n",
       "    </tr>\n",
       "    <tr>\n",
       "      <th>14</th>\n",
       "      <td>14</td>\n",
       "      <td>True</td>\n",
       "      <td>35</td>\n",
       "      <td>28</td>\n",
       "      <td>F</td>\n",
       "      <td>0</td>\n",
       "    </tr>\n",
       "    <tr>\n",
       "      <th>15</th>\n",
       "      <td>15</td>\n",
       "      <td>False</td>\n",
       "      <td>47</td>\n",
       "      <td>36</td>\n",
       "      <td>F</td>\n",
       "      <td>0</td>\n",
       "    </tr>\n",
       "  </tbody>\n",
       "</table>\n",
       "</div>"
      ],
      "text/plain": [
       "    id  approve  age  salary sex  sex_M\n",
       "0    0    False   20      20   M      1\n",
       "1    1     True   52      56   M      1\n",
       "2    2    False   33      37   M      1\n",
       "3    3     True   23      24   M      1\n",
       "4    4    False   44      47   M      1\n",
       "5    5     True   56      50   M      1\n",
       "6    6     True   39      41   M      1\n",
       "7    7     True   30      29   M      1\n",
       "8    8    False   42      45   F      0\n",
       "9    9    False   38      28   F      0\n",
       "10  10    False   50      43   F      0\n",
       "11  11     True   27      22   F      0\n",
       "12  12     True   46      45   F      0\n",
       "13  13    False   25      20   F      0\n",
       "14  14     True   35      28   F      0\n",
       "15  15    False   47      36   F      0"
      ]
     },
     "execution_count": 9,
     "metadata": {},
     "output_type": "execute_result"
    }
   ],
   "source": [
    "# data preparation\n",
    "df_art['sex_orig'] = df_art['sex'] # backup of the original column - it will be lost!\n",
    "df_art = pd.get_dummies(df_art, columns=['sex'], drop_first=True)\n",
    "df_art.rename(columns = {'sex_orig':'sex'}, inplace = True) # renaming backuped column back\n",
    "df_art"
   ]
  },
  {
   "cell_type": "code",
   "execution_count": 10,
   "id": "82df6692",
   "metadata": {},
   "outputs": [
    {
     "name": "stdout",
     "output_type": "stream",
     "text": [
      "Intercept:  33.375\n",
      "Beta coefficients:  [4.625]\n",
      "R2 on itself:  0.043182033246065066\n",
      "R2 by cval:  [-0.28526149 -0.86956522 -0.05314961 -0.05873822]\n",
      "Predicted salary for sex  1  is  [38.]\n"
     ]
    },
    {
     "name": "stderr",
     "output_type": "stream",
     "text": [
      "c:\\Users\\vojta\\UK\\22-23_W\\data-science\\NDBI048-data-science\\.venv\\lib\\site-packages\\sklearn\\base.py:450: UserWarning: X does not have valid feature names, but LinearRegression was fitted with feature names\n",
      "  warnings.warn(\n"
     ]
    }
   ],
   "source": [
    "# common for both A and B approaches\n",
    "X = df_art[['sex_M']]\n",
    "y = df_art['salary']\n",
    "\n",
    "# now fit and exploit the model as usually\n",
    "# A. sklearn\n",
    "modelA = LinearRegression().fit(X, y)\n",
    "# and everything is the same...\n",
    "print('Intercept: ', modelA.intercept_)\n",
    "print('Beta coefficients: ', modelA.coef_)\n",
    "print('R2 on itself: ', modelA.score(X, y))\n",
    "scores = cross_val_score(LinearRegression(), X, y, cv=4)\n",
    "print('R2 by cval: ', scores)\n",
    "# except prediction - it must use follow dummy (one-hot) encoding, i.e. \"male\" -> sex_M=1\n",
    "x_pred = 1\n",
    "print('Predicted salary for sex ', x_pred, ' is ', modelA.predict([[x_pred]]))"
   ]
  },
  {
   "cell_type": "code",
   "execution_count": 11,
   "id": "1b93ce0c",
   "metadata": {},
   "outputs": [
    {
     "name": "stdout",
     "output_type": "stream",
     "text": [
      "Beta coefficients:  const    33.38\n",
      "sex_M     4.63\n",
      "dtype: float64\n",
      "                            OLS Regression Results                            \n",
      "==============================================================================\n",
      "Dep. Variable:                 salary   R-squared:                       0.043\n",
      "Model:                            OLS   Adj. R-squared:                 -0.025\n",
      "Method:                 Least Squares   F-statistic:                    0.6318\n",
      "Date:                Wed, 23 Nov 2022   Prob (F-statistic):              0.440\n",
      "Time:                        11:05:15   Log-Likelihood:                -60.902\n",
      "No. Observations:                  16   AIC:                             125.8\n",
      "Df Residuals:                      14   BIC:                             127.3\n",
      "Df Model:                           1                                         \n",
      "Covariance Type:            nonrobust                                         \n",
      "==============================================================================\n",
      "                 coef    std err          t      P>|t|      [0.025      0.975]\n",
      "------------------------------------------------------------------------------\n",
      "const         33.3750      4.114      8.112      0.000      24.551      42.199\n",
      "sex_M          4.6250      5.818      0.795      0.440      -7.854      17.104\n",
      "==============================================================================\n",
      "Omnibus:                        3.086   Durbin-Watson:                   2.770\n",
      "Prob(Omnibus):                  0.214   Jarque-Bera (JB):                1.166\n",
      "Skew:                          -0.054   Prob(JB):                        0.558\n",
      "Kurtosis:                       1.682   Cond. No.                         2.62\n",
      "==============================================================================\n",
      "\n",
      "Notes:\n",
      "[1] Standard Errors assume that the covariance matrix of the errors is correctly specified.\n",
      "R2 on itself:  0.043182033246065066\n",
      "R2 adjusted:  -0.02516210723635881\n",
      "Predicted salary for sex= 1  is  [38.]\n"
     ]
    },
    {
     "name": "stderr",
     "output_type": "stream",
     "text": [
      "c:\\Users\\vojta\\UK\\22-23_W\\data-science\\NDBI048-data-science\\.venv\\lib\\site-packages\\scipy\\stats\\_stats_py.py:1772: UserWarning: kurtosistest only valid for n>=20 ... continuing anyway, n=16\n",
      "  warnings.warn(\"kurtosistest only valid for n>=20 ... continuing \"\n"
     ]
    }
   ],
   "source": [
    "# B. statmodels\n",
    "# just use the dummy column (and add column of ones)\n",
    "X_int = sm.add_constant(X) # by default there is no intercept in model matrix X - we need to add it\n",
    "\n",
    "# now fit and exploit the model as usually\n",
    "modelB = sm.OLS(y, X_int).fit()\n",
    "print('Beta coefficients: ', modelB.params)\n",
    "print(modelB.summary()) # detailed information of model and coefficients\n",
    "print('R2 on itself: ', modelB.rsquared)\n",
    "print('R2 adjusted: ', modelB.rsquared_adj)\n",
    "x_pred = 1 # prediction of salary for a man, i. e. sex_M=1\n",
    "print('Predicted salary for sex=', x_pred, ' is ', modelB.predict([1, x_pred]))"
   ]
  },
  {
   "cell_type": "code",
   "execution_count": 12,
   "id": "c1799a60",
   "metadata": {},
   "outputs": [
    {
     "name": "stdout",
     "output_type": "stream",
     "text": [
      "Beta coefficients:  Intercept    33.38\n",
      "sex[T.M]      4.63\n",
      "dtype: float64\n",
      "                            OLS Regression Results                            \n",
      "==============================================================================\n",
      "Dep. Variable:                 salary   R-squared:                       0.043\n",
      "Model:                            OLS   Adj. R-squared:                 -0.025\n",
      "Method:                 Least Squares   F-statistic:                    0.6318\n",
      "Date:                Wed, 23 Nov 2022   Prob (F-statistic):              0.440\n",
      "Time:                        11:05:15   Log-Likelihood:                -60.902\n",
      "No. Observations:                  16   AIC:                             125.8\n",
      "Df Residuals:                      14   BIC:                             127.3\n",
      "Df Model:                           1                                         \n",
      "Covariance Type:            nonrobust                                         \n",
      "==============================================================================\n",
      "                 coef    std err          t      P>|t|      [0.025      0.975]\n",
      "------------------------------------------------------------------------------\n",
      "Intercept     33.3750      4.114      8.112      0.000      24.551      42.199\n",
      "sex[T.M]       4.6250      5.818      0.795      0.440      -7.854      17.104\n",
      "==============================================================================\n",
      "Omnibus:                        3.086   Durbin-Watson:                   2.770\n",
      "Prob(Omnibus):                  0.214   Jarque-Bera (JB):                1.166\n",
      "Skew:                          -0.054   Prob(JB):                        0.558\n",
      "Kurtosis:                       1.682   Cond. No.                         2.62\n",
      "==============================================================================\n",
      "\n",
      "Notes:\n",
      "[1] Standard Errors assume that the covariance matrix of the errors is correctly specified.\n",
      "R2 on itself:  0.043182033246065066\n",
      "R2 adjusted:  -0.02516210723635881\n",
      "Predicted salary for sex= M  is  [38.]\n"
     ]
    },
    {
     "name": "stderr",
     "output_type": "stream",
     "text": [
      "c:\\Users\\vojta\\UK\\22-23_W\\data-science\\NDBI048-data-science\\.venv\\lib\\site-packages\\scipy\\stats\\_stats_py.py:1772: UserWarning: kurtosistest only valid for n>=20 ... continuing anyway, n=16\n",
      "  warnings.warn(\"kurtosistest only valid for n>=20 ... continuing \"\n"
     ]
    }
   ],
   "source": [
    "# C. statmodels with R formula notation\n",
    "# no need to use dummy, just use R formula\n",
    "modelC = smf.ols(\"salary ~ sex\", data=df_art).fit()\n",
    "\n",
    "# and everything is the same as at the numeric predictor\n",
    "print('Beta coefficients: ', modelC.params)\n",
    "print(modelC.summary()) # detailed information of model and coefficients\n",
    "print('R2 on itself: ', modelC.rsquared)\n",
    "print('R2 adjusted: ', modelC.rsquared_adj)\n",
    "# for prediction, data must be specified as DataFrame\n",
    "x_pred = 'M' # and data must keep the original encoding\n",
    "y_pred = modelC.predict(pd.DataFrame({'sex': x_pred}, index=range(1)))\n",
    "print('Predicted salary for sex=', x_pred, ' is ', y_pred.values)"
   ]
  },
  {
   "cell_type": "markdown",
   "id": "8e405259",
   "metadata": {},
   "source": [
    "[Back to linear regression](#Linear-regression)\n",
    "\n",
    "----\n",
    "\n",
    "### Linear regression with multiple predictors\n",
    "Let's take two predictors now: *age* and *sex*.\n",
    "\n",
    "As we expect, it is necessary to use dummies for A and B approaches -- we use the matrix with two columns (*age*, *sex_M*) here. The C approach takes and preprocess columns just from the formula, so we need not make any preparation for it."
   ]
  },
  {
   "cell_type": "code",
   "execution_count": 13,
   "id": "796daa0b",
   "metadata": {},
   "outputs": [
    {
     "name": "stdout",
     "output_type": "stream",
     "text": [
      "Intercept:  -4.10473020199904\n",
      "Beta coefficients:  [0.96721884 6.19673062]\n",
      "Predicted salary for age= 35 and sex= 1  is  [35.94465996]\n"
     ]
    },
    {
     "name": "stderr",
     "output_type": "stream",
     "text": [
      "c:\\Users\\vojta\\UK\\22-23_W\\data-science\\NDBI048-data-science\\.venv\\lib\\site-packages\\sklearn\\base.py:450: UserWarning: X does not have valid feature names, but LinearRegression was fitted with feature names\n",
      "  warnings.warn(\n"
     ]
    }
   ],
   "source": [
    "X = df_art[['age', 'sex_M']]\n",
    "y = df_art['salary']\n",
    "\n",
    "# A. sklearn\n",
    "modelA = LinearRegression().fit(X, y)\n",
    "print('Intercept: ', modelA.intercept_)\n",
    "print('Beta coefficients: ', modelA.coef_)\n",
    "x_pred = [35, 1]\n",
    "print('Predicted salary for age=', x_pred[0], 'and sex=', x_pred[1], ' is ', modelA.predict([x_pred]))"
   ]
  },
  {
   "cell_type": "code",
   "execution_count": 14,
   "id": "16e868c5",
   "metadata": {},
   "outputs": [
    {
     "name": "stdout",
     "output_type": "stream",
     "text": [
      "                            OLS Regression Results                            \n",
      "==============================================================================\n",
      "Dep. Variable:                 salary   R-squared:                       0.888\n",
      "Model:                            OLS   Adj. R-squared:                  0.870\n",
      "Method:                 Least Squares   F-statistic:                     51.30\n",
      "Date:                Wed, 23 Nov 2022   Prob (F-statistic):           6.78e-07\n",
      "Time:                        11:05:15   Log-Likelihood:                -43.774\n",
      "No. Observations:                  16   AIC:                             93.55\n",
      "Df Residuals:                      13   BIC:                             95.86\n",
      "Df Model:                           2                                         \n",
      "Covariance Type:            nonrobust                                         \n",
      "==============================================================================\n",
      "                 coef    std err          t      P>|t|      [0.025      0.975]\n",
      "------------------------------------------------------------------------------\n",
      "const         -4.1047      4.066     -1.009      0.331     -12.889       4.680\n",
      "age            0.9672      0.098      9.880      0.000       0.756       1.179\n",
      "sex_M          6.1967      2.076      2.985      0.011       1.711      10.682\n",
      "==============================================================================\n",
      "Omnibus:                        0.689   Durbin-Watson:                   2.429\n",
      "Prob(Omnibus):                  0.708   Jarque-Bera (JB):                0.319\n",
      "Skew:                           0.335   Prob(JB):                        0.853\n",
      "Kurtosis:                       2.825   Cond. No.                         158.\n",
      "==============================================================================\n",
      "\n",
      "Notes:\n",
      "[1] Standard Errors assume that the covariance matrix of the errors is correctly specified."
     ]
    },
    {
     "name": "stderr",
     "output_type": "stream",
     "text": [
      "c:\\Users\\vojta\\UK\\22-23_W\\data-science\\NDBI048-data-science\\.venv\\lib\\site-packages\\scipy\\stats\\_stats_py.py:1772: UserWarning: kurtosistest only valid for n>=20 ... continuing anyway, n=16\n",
      "  warnings.warn(\"kurtosistest only valid for n>=20 ... continuing \"\n"
     ]
    },
    {
     "name": "stdout",
     "output_type": "stream",
     "text": [
      "\n",
      "Predicted salary for age= 35 and sex= 1  is  [35.94465996]\n"
     ]
    }
   ],
   "source": [
    "# B. statmodels\n",
    "X_int = sm.add_constant(X)\n",
    "modelB = sm.OLS(y, X_int).fit()\n",
    "print(modelB.summary())\n",
    "print('Predicted salary for age=', x_pred[0], 'and sex=', x_pred[1], ' is ',\n",
    "      modelB.predict([1, x_pred[0], x_pred[1]]))"
   ]
  },
  {
   "cell_type": "code",
   "execution_count": 15,
   "id": "1eb7879d",
   "metadata": {},
   "outputs": [
    {
     "name": "stdout",
     "output_type": "stream",
     "text": [
      "                            OLS Regression Results                            \n",
      "==============================================================================\n",
      "Dep. Variable:                 salary   R-squared:                       0.888\n",
      "Model:                            OLS   Adj. R-squared:                  0.870\n",
      "Method:                 Least Squares   F-statistic:                     51.30\n",
      "Date:                Wed, 23 Nov 2022   Prob (F-statistic):           6.78e-07\n",
      "Time:                        11:05:15   Log-Likelihood:                -43.774\n",
      "No. Observations:                  16   AIC:                             93.55\n",
      "Df Residuals:                      13   BIC:                             95.86\n",
      "Df Model:                           2                                         \n",
      "Covariance Type:            nonrobust                                         \n",
      "==============================================================================\n",
      "                 coef    std err          t      P>|t|      [0.025      0.975]\n",
      "------------------------------------------------------------------------------\n",
      "Intercept     -4.1047      4.066     -1.009      0.331     -12.889       4.680\n",
      "sex[T.M]       6.1967      2.076      2.985      0.011       1.711      10.682\n",
      "age            0.9672      0.098      9.880      0.000       0.756       1.179\n",
      "==============================================================================\n",
      "Omnibus:                        0.689   Durbin-Watson:                   2.429\n",
      "Prob(Omnibus):                  0.708   Jarque-Bera (JB):                0.319\n",
      "Skew:                           0.335   Prob(JB):                        0.853\n",
      "Kurtosis:                       2.825   Cond. No.                         158.\n",
      "==============================================================================\n",
      "\n",
      "Notes:\n",
      "[1] Standard Errors assume that the covariance matrix of the errors is correctly specified.\n",
      "Predicted salary for age= 35 and sex= M  is  [35.94465996]\n"
     ]
    },
    {
     "name": "stderr",
     "output_type": "stream",
     "text": [
      "c:\\Users\\vojta\\UK\\22-23_W\\data-science\\NDBI048-data-science\\.venv\\lib\\site-packages\\scipy\\stats\\_stats_py.py:1772: UserWarning: kurtosistest only valid for n>=20 ... continuing anyway, n=16\n",
      "  warnings.warn(\"kurtosistest only valid for n>=20 ... continuing \"\n"
     ]
    }
   ],
   "source": [
    "# C. statmodels with R formula notation\n",
    "modelC = smf.ols(\"salary ~ age + sex\", data=df_art).fit()\n",
    "print(modelC.summary()) # detailed information of model and coefficients\n",
    "x_pred = [35, 'M'] # data must keep the original encoding\n",
    "y_pred = modelC.predict(pd.DataFrame({'age': x_pred[0], 'sex': x_pred[1]}, index=range(1)))\n",
    "print('Predicted salary for age=', x_pred[0], 'and sex=', x_pred[1], ' is ', y_pred.values)\n"
   ]
  },
  {
   "cell_type": "markdown",
   "id": "5f0c61ee",
   "metadata": {},
   "source": [
    "[Back to linear regression](#Linear-regression)\n",
    "\n",
    "----\n",
    "\n",
    "## Logistic regression\n",
    "In this part, we model approval (\"response\", \"target\") against age and sex (\"predictors\", \"explanatory\").\n",
    "\n",
    "* [Logistic regression with one numeric predictor](#Logistic-regression-with-one-numeric-predictor)\n",
    "* [Logistic regression with multiple predictors](#Logistic-regression-with-multiple-predictors)\n",
    "\n",
    "### Logistic regression with one numeric predictor\n",
    "Let's take approval as response and age as predictor."
   ]
  },
  {
   "cell_type": "markdown",
   "id": "d7ebc970",
   "metadata": {},
   "source": [
    "#### A. Sklearn approach\n",
    "Use [LogisticRegression](https://scikit-learn.org/stable/modules/generated/sklearn.linear_model.LogisticRegression.html) class with method `fit` to create model object.  \n",
    "Then use properties and methods of that object."
   ]
  },
  {
   "cell_type": "code",
   "execution_count": 16,
   "id": "64adda38",
   "metadata": {},
   "outputs": [
    {
     "name": "stdout",
     "output_type": "stream",
     "text": [
      "Intercept:  [-0.38027565]\n",
      "Beta coefficients:  [[0.01002357]]\n",
      "Accuracy on itself:  0.4375\n",
      "Accuracy by cval:  [0.25 0.5  0.25 0.5 ]\n",
      "ROC AUC by cval:  [0.25 0.5  0.   0.5 ]\n",
      "Predicted approval for age= 35  is  [False]\n",
      "Predicted probability of approval for age= 35  is  0.4926378526392379\n"
     ]
    },
    {
     "name": "stderr",
     "output_type": "stream",
     "text": [
      "c:\\Users\\vojta\\UK\\22-23_W\\data-science\\NDBI048-data-science\\.venv\\lib\\site-packages\\sklearn\\base.py:450: UserWarning: X does not have valid feature names, but LogisticRegression was fitted with feature names\n",
      "  warnings.warn(\n",
      "c:\\Users\\vojta\\UK\\22-23_W\\data-science\\NDBI048-data-science\\.venv\\lib\\site-packages\\sklearn\\base.py:450: UserWarning: X does not have valid feature names, but LogisticRegression was fitted with feature names\n",
      "  warnings.warn(\n"
     ]
    }
   ],
   "source": [
    "X = df_art[['age']]\n",
    "y = df_art['approve']\n",
    "# target can be True/False; by deafult the intercept is included\n",
    "### fit model\n",
    "modelA = LogisticRegression(solver='newton-cg', penalty='none').fit(X, y)\n",
    "\n",
    "### get coefficients\n",
    "print('Intercept: ', modelA.intercept_)\n",
    "print('Beta coefficients: ', modelA.coef_)\n",
    "\n",
    "### assess coefficients / drop predictors\n",
    "# Like LinearRegression, there is no straight way (like p-value). We can use performance metric and assess it;\n",
    "# then we can fit a submodel and compare performance metrics.\n",
    "\n",
    "### assess model performance\n",
    "# i. scoring itself directly (not recommended, overrates performance)\n",
    "# - score = accuracy\n",
    "print('Accuracy on itself: ', modelA.score(X, y))\n",
    "# ii. scoring by a cross-validation\n",
    "# https://scikit-learn.org/stable/modules/cross_validation.html\n",
    "# by default accuracy is used as a metric\n",
    "scores = cross_val_score(LogisticRegression(solver='newton-cg', penalty='none'), X, y, cv=4)\n",
    "print('Accuracy by cval: ', scores)\n",
    "# but we can change it, see https://scikit-learn.org/stable/modules/model_evaluation.html#scoring-parameter\n",
    "scores = cross_val_score(LogisticRegression(solver='newton-cg', penalty='none'), X, y, cv=4,\n",
    "                         scoring='roc_auc')\n",
    "print('ROC AUC by cval: ', scores)\n",
    "\n",
    "### predictions\n",
    "x_pred = 35 # prediction of approval for 35 yrs old\n",
    "print('Predicted approval for age=', x_pred, ' is ', modelA.predict([[x_pred]]))\n",
    "# if we want probability rather than strict classification, use method predict_proba\n",
    "# - it return probabilities of classes in the order False, True\n",
    "print('Predicted probability of approval for age=', x_pred, ' is ', modelA.predict_proba([[x_pred]])[0][1])\n",
    "# predictions can be made on actual predictor values, too -> for making the chart"
   ]
  },
  {
   "cell_type": "markdown",
   "id": "ee8ff9be",
   "metadata": {},
   "source": [
    "#### B. Statmodels classic\n",
    "Use [Logit method](https://www.statsmodels.org/dev/generated/statsmodels.discrete.discrete_model.Logit.html) to create model object."
   ]
  },
  {
   "cell_type": "code",
   "execution_count": 17,
   "id": "1f872ebc",
   "metadata": {},
   "outputs": [
    {
     "name": "stdout",
     "output_type": "stream",
     "text": [
      "Optimization terminated successfully.\n",
      "         Current function value: 0.691739\n",
      "         Iterations 3\n",
      "Beta coefficients:  const   -0.38\n",
      "age      0.01\n",
      "dtype: float64\n",
      "                           Logit Regression Results                           \n",
      "==============================================================================\n",
      "Dep. Variable:                approve   No. Observations:                   16\n",
      "Model:                          Logit   Df Residuals:                       14\n",
      "Method:                           MLE   Df Model:                            1\n",
      "Date:                Wed, 23 Nov 2022   Pseudo R-squ.:                0.002032\n",
      "Time:                        11:05:15   Log-Likelihood:                -11.068\n",
      "converged:                       True   LL-Null:                       -11.090\n",
      "Covariance Type:            nonrobust   LLR p-value:                    0.8319\n",
      "==============================================================================\n",
      "                 coef    std err          z      P>|z|      [0.025      0.975]\n",
      "------------------------------------------------------------------------------\n",
      "const         -0.3803      1.862     -0.204      0.838      -4.030       3.270\n",
      "age            0.0100      0.047      0.212      0.832      -0.083       0.103\n",
      "==============================================================================\n",
      "                        Results: Logit\n",
      "==============================================================\n",
      "Model:              Logit            Pseudo R-squared: 0.002  \n",
      "Dependent Variable: approve          AIC:              26.1356\n",
      "Date:               2022-11-23 11:05 BIC:              27.6808\n",
      "No. Observations:   16               Log-Likelihood:   -11.068\n",
      "Df Model:           1                LL-Null:          -11.090\n",
      "Df Residuals:       14               LLR p-value:      0.83188\n",
      "Converged:          1.0000           Scale:            1.0000 \n",
      "No. Iterations:     3.0000                                    \n",
      "----------------------------------------------------------------\n",
      "         Coef.    Std.Err.      z      P>|z|     [0.025   0.975]\n",
      "----------------------------------------------------------------\n",
      "const   -0.3803     1.8623   -0.2042   0.8382   -4.0304   3.2698\n",
      "age      0.0100     0.0473    0.2120   0.8321   -0.0826   0.1027\n",
      "==============================================================\n",
      "\n",
      "Pseudo R2:  0.002031778283566932\n",
      "AIC on itself:  26.135643493477374\n",
      "BIC on itself:  27.680820937956938\n",
      "Predicted probability of approval for age= 35  is  [0.49263785]\n"
     ]
    }
   ],
   "source": [
    "X_int = sm.add_constant(X)\n",
    "# by default the intercept is NOT included - we need to add it\n",
    "# target can be True/False\n",
    "\n",
    "### fit model\n",
    "modelB = sm.Logit(y, X_int).fit(method='newton')\n",
    "### get coefficients\n",
    "print('Beta coefficients: ', modelB.params)\n",
    "\n",
    "### assess coefficients / drop predictors\n",
    "print(modelB.summary()) # detailed information of model and coefficients\n",
    "print(modelB.summary2()) # or slightly different output (contains AIC and BIC)\n",
    "# see https://www.statsmodels.org/stable/generated/statsmodels.discrete.discrete_model.LogitResults.html\n",
    "\n",
    "### assess model\n",
    "# i. scoring itself directly\n",
    "print('Pseudo R2: ', modelB.prsquared)\n",
    "# ii. scoring by a cross-validation\n",
    "# cross-validation not available in this package, we can use approximation:\n",
    "print('AIC on itself: ', modelB.aic)\n",
    "print('BIC on itself: ', modelB.bic)\n",
    "\n",
    "### predictions\n",
    "x_pred = 35 # prediction of approval for 35 yrs old\n",
    "print('Predicted probability of approval for age=', x_pred, ' is ', modelB.predict([1, x_pred]))"
   ]
  },
  {
   "cell_type": "markdown",
   "id": "c5b36aad",
   "metadata": {},
   "source": [
    "#### C. Statsmodels with R formula notation\n",
    "In R language, the relation \"predictor <-> target\" can be written as formula:  \n",
    "*target* ~ *predictor1* + *predictor2* + ...\n",
    "\n",
    "[This possibility has been included](https://www.statsmodels.org/stable/example_formulas.html?highlight=formula) into `statmodels` package. Use [logit method](https://www.statsmodels.org/stable/generated/statsmodels.formula.api.logit.html#statsmodels.formula.api.logit) from the `formula` submodule to create model object.\n",
    "\n",
    "Differences to B approach:\n",
    "* no need to add a column for the intercept\n",
    "* values for predictions are entered as a DataFrame\n",
    "\n",
    "Everything else is the same as for B approach."
   ]
  },
  {
   "cell_type": "code",
   "execution_count": 18,
   "id": "5c23e2bc",
   "metadata": {},
   "outputs": [
    {
     "name": "stdout",
     "output_type": "stream",
     "text": [
      "Optimization terminated successfully.\n",
      "         Current function value: 0.691739\n",
      "         Iterations 3\n",
      "Beta coefficients:  Intercept   -0.38\n",
      "age          0.01\n",
      "dtype: float64\n",
      "                           Logit Regression Results                           \n",
      "==============================================================================\n",
      "Dep. Variable:            approve_bin   No. Observations:                   16\n",
      "Model:                          Logit   Df Residuals:                       14\n",
      "Method:                           MLE   Df Model:                            1\n",
      "Date:                Wed, 23 Nov 2022   Pseudo R-squ.:                0.002032\n",
      "Time:                        11:05:15   Log-Likelihood:                -11.068\n",
      "converged:                       True   LL-Null:                       -11.090\n",
      "Covariance Type:            nonrobust   LLR p-value:                    0.8319\n",
      "==============================================================================\n",
      "                 coef    std err          z      P>|z|      [0.025      0.975]\n",
      "------------------------------------------------------------------------------\n",
      "Intercept     -0.3803      1.862     -0.204      0.838      -4.030       3.270\n",
      "age            0.0100      0.047      0.212      0.832      -0.083       0.103\n",
      "==============================================================================\n",
      "Pseudo R2:  0.002031778283566932\n",
      "AIC on itself:  26.135643493477374\n",
      "BIC on itself:  27.680820937956938\n",
      "Predicted probability of approval for age= 35  is  [0.49263785]\n"
     ]
    }
   ],
   "source": [
    "# target MUST BE O/1, otherwise it would be converted to dummy columns\n",
    "df_art['approve_bin'] = df_art['approve'] * 1\n",
    "\n",
    "modelC = smf.logit(\"approve_bin ~ age\", data=df_art).fit() # by default the intercept is included\n",
    "# everything except prediction is the same as at B\n",
    "print('Beta coefficients: ', modelC.params)\n",
    "print(modelC.summary()) # detailed information of model and coefficients\n",
    "print('Pseudo R2: ', modelC.prsquared)\n",
    "print('AIC on itself: ', modelC.aic)\n",
    "print('BIC on itself: ', modelC.bic)\n",
    "\n",
    "# for prediction, data must be specified as DataFrame\n",
    "x_pred = 35 # prediction of approval for 35 yrs old\n",
    "y_pred = modelC.predict(pd.DataFrame({'age': x_pred}, index=range(1)))\n",
    "print('Predicted probability of approval for age=', x_pred, ' is ', y_pred.values)"
   ]
  },
  {
   "cell_type": "markdown",
   "id": "d2a23edc",
   "metadata": {},
   "source": [
    "[Back to logistic regression](#Logistic-regression)\n",
    "\n",
    "----\n",
    "\n",
    "### Logistic regression with multiple predictors\n",
    "*Note: regression with one categorical predictor only is not mentioned here. It is similar to the linear regression (see the [corresponding section](#Linear-regression-with-one-categorical-predictor)) but uses objects and methods as any other logistic regression here.*\n",
    "\n",
    "Let's take two predictors now: *age* and *sex*.\n",
    "\n",
    "As we know from the linear regression, it is necessary to use dummies for A and B approaches -- we use the matrix with two columns (*age*, *sex_M*) here. The C approach takes and preprocess columns just from the formula, so we need not make any preparation for it."
   ]
  },
  {
   "cell_type": "code",
   "execution_count": 19,
   "id": "5780b440",
   "metadata": {},
   "outputs": [
    {
     "name": "stdout",
     "output_type": "stream",
     "text": [
      "Intercept:  [-1.0837406]\n",
      "Beta coefficients:  [[0.01473118 1.05175229]]\n",
      "Accuracy on itself:  0.625\n",
      "Accuracy by cval:  [0.5  0.75 0.25 0.5 ]\n",
      "ROC AUC by cval:  [0.25 0.75 0.25 0.5 ]\n",
      "Predicted approval for age= 35 and sex= 1  is  [ True]\n",
      "Predicted probability of approval for age= 35 and sex= 1  is  0.618598324943783\n"
     ]
    },
    {
     "name": "stderr",
     "output_type": "stream",
     "text": [
      "c:\\Users\\vojta\\UK\\22-23_W\\data-science\\NDBI048-data-science\\.venv\\lib\\site-packages\\sklearn\\base.py:450: UserWarning: X does not have valid feature names, but LogisticRegression was fitted with feature names\n",
      "  warnings.warn(\n",
      "c:\\Users\\vojta\\UK\\22-23_W\\data-science\\NDBI048-data-science\\.venv\\lib\\site-packages\\sklearn\\base.py:450: UserWarning: X does not have valid feature names, but LogisticRegression was fitted with feature names\n",
      "  warnings.warn(\n"
     ]
    }
   ],
   "source": [
    "# it's necessary to make dummies for A and B approaches (if they haven't existed yet)\n",
    "if (\"sex_M\" not in df_art.columns):\n",
    "    df_art['sex_orig'] = df_art['sex'] # backup of the original column - it will be lost!\n",
    "    df_art = pd.get_dummies(df_art, columns=['sex'], drop_first=True)\n",
    "    df_art.rename(columns = {'sex_orig':'sex'}, inplace = True) # renaming backuped column back\n",
    "\n",
    "X = df_art[['age', 'sex_M']]\n",
    "y = df_art['approve']\n",
    "\n",
    "# A. sklearn\n",
    "modelA = LogisticRegression(solver='newton-cg', penalty='none').fit(X, y)\n",
    "# and everything is the same as for one numeric predictor\n",
    "print('Intercept: ', modelA.intercept_)\n",
    "print('Beta coefficients: ', modelA.coef_)\n",
    "print('Accuracy on itself: ', modelA.score(X, y))\n",
    "scores = cross_val_score(LogisticRegression(solver='newton-cg', penalty='none'), X, y, cv=4)\n",
    "print('Accuracy by cval: ', scores)\n",
    "scores = cross_val_score(LogisticRegression(solver='newton-cg', penalty='none'), X, y, cv=4,\n",
    "                         scoring='roc_auc')\n",
    "print('ROC AUC by cval: ', scores)\n",
    "# except prediction - it must use follow dummy (one-hot) encoding, i.e. \"male\" -> sex_M=1\n",
    "x_pred = [35, 1]\n",
    "print('Predicted approval for age=', x_pred[0],\n",
    "      'and sex=', x_pred[1], ' is ', modelA.predict([x_pred]))\n",
    "print('Predicted probability of approval for age=', x_pred[0],\n",
    "      'and sex=', x_pred[1], ' is ', modelA.predict_proba([x_pred])[0][1])"
   ]
  },
  {
   "cell_type": "code",
   "execution_count": 20,
   "id": "5ea62d2e",
   "metadata": {},
   "outputs": [
    {
     "name": "stdout",
     "output_type": "stream",
     "text": [
      "Optimization terminated successfully.\n",
      "         Current function value: 0.658753\n",
      "         Iterations 4\n",
      "Beta coefficients:  const   -1.08\n",
      "age      0.01\n",
      "sex_M    1.05\n",
      "dtype: float64\n",
      "                           Logit Regression Results                           \n",
      "==============================================================================\n",
      "Dep. Variable:                approve   No. Observations:                   16\n",
      "Model:                          Logit   Df Residuals:                       13\n",
      "Method:                           MLE   Df Model:                            2\n",
      "Date:                Wed, 23 Nov 2022   Pseudo R-squ.:                 0.04962\n",
      "Time:                        11:05:15   Log-Likelihood:                -10.540\n",
      "converged:                       True   LL-Null:                       -11.090\n",
      "Covariance Type:            nonrobust   LLR p-value:                    0.5768\n",
      "==============================================================================\n",
      "                 coef    std err          z      P>|z|      [0.025      0.975]\n",
      "------------------------------------------------------------------------------\n",
      "const         -1.0837      2.060     -0.526      0.599      -5.122       2.954\n",
      "age            0.0147      0.049      0.299      0.765      -0.082       0.111\n",
      "sex_M          1.0518      1.043      1.009      0.313      -0.992       3.096\n",
      "==============================================================================\n",
      "                        Results: Logit\n",
      "==============================================================\n",
      "Model:              Logit            Pseudo R-squared: 0.050  \n",
      "Dependent Variable: approve          AIC:              27.0801\n",
      "Date:               2022-11-23 11:05 BIC:              29.3979\n",
      "No. Observations:   16               Log-Likelihood:   -10.540\n",
      "Df Model:           2                LL-Null:          -11.090\n",
      "Df Residuals:       13               LLR p-value:      0.57677\n",
      "Converged:          1.0000           Scale:            1.0000 \n",
      "No. Iterations:     4.0000                                    \n",
      "----------------------------------------------------------------\n",
      "         Coef.    Std.Err.      z      P>|z|     [0.025   0.975]\n",
      "----------------------------------------------------------------\n",
      "const   -1.0837     2.0603   -0.5260   0.5989   -5.1219   2.9544\n",
      "age      0.0147     0.0493    0.2986   0.7653   -0.0820   0.1114\n",
      "sex_M    1.0518     1.0428    1.0086   0.3132   -0.9922   3.0957\n",
      "==============================================================\n",
      "\n",
      "Pseudo R2:  0.04962021845278297\n",
      "AIC on itself:  27.080098113300167\n",
      "BIC on itself:  29.397864280019512\n",
      "Predicted probability of approval for age= 35 and sex= 1  is  [0.61859836]\n"
     ]
    }
   ],
   "source": [
    "# B. statsmodels classic\n",
    "X_int = sm.add_constant(X)\n",
    "\n",
    "modelB = sm.Logit(y, X_int).fit(method='newton')\n",
    "# and everything is the same as for one numeric predictor\n",
    "print('Beta coefficients: ', modelB.params)\n",
    "print(modelB.summary()) # detailed information of model and coefficients\n",
    "print(modelB.summary2()) # or slightly different output (contains AIC and BIC)\n",
    "print('Pseudo R2: ', modelB.prsquared)\n",
    "print('AIC on itself: ', modelB.aic)\n",
    "print('BIC on itself: ', modelB.bic)\n",
    "# prediction follows dummy (one-hot) encoding, i.e. \"male\" -> sex_M=1\n",
    "x_pred = [35, 1]\n",
    "print('Predicted probability of approval for age=', x_pred[0], 'and sex=', x_pred[1], ' is ',\n",
    "      modelB.predict([1, x_pred[0], x_pred[1]]))"
   ]
  },
  {
   "cell_type": "code",
   "execution_count": 21,
   "id": "d63cf371",
   "metadata": {},
   "outputs": [
    {
     "name": "stdout",
     "output_type": "stream",
     "text": [
      "Optimization terminated successfully.\n",
      "         Current function value: 0.658753\n",
      "         Iterations 4\n",
      "Beta coefficients:  Intercept   -1.08\n",
      "sex[T.M]     1.05\n",
      "age          0.01\n",
      "dtype: float64\n",
      "                           Logit Regression Results                           \n",
      "==============================================================================\n",
      "Dep. Variable:            approve_bin   No. Observations:                   16\n",
      "Model:                          Logit   Df Residuals:                       13\n",
      "Method:                           MLE   Df Model:                            2\n",
      "Date:                Wed, 23 Nov 2022   Pseudo R-squ.:                 0.04962\n",
      "Time:                        11:05:15   Log-Likelihood:                -10.540\n",
      "converged:                       True   LL-Null:                       -11.090\n",
      "Covariance Type:            nonrobust   LLR p-value:                    0.5768\n",
      "==============================================================================\n",
      "                 coef    std err          z      P>|z|      [0.025      0.975]\n",
      "------------------------------------------------------------------------------\n",
      "Intercept     -1.0837      2.060     -0.526      0.599      -5.122       2.954\n",
      "sex[T.M]       1.0518      1.043      1.009      0.313      -0.992       3.096\n",
      "age            0.0147      0.049      0.299      0.765      -0.082       0.111\n",
      "==============================================================================\n",
      "Pseudo R2:  0.04962021845278297\n",
      "AIC on itself:  27.080098113300167\n",
      "BIC on itself:  29.397864280019512\n",
      "Predicted probability of approval for age= 35 and sex= M  is  [0.61859836]\n"
     ]
    }
   ],
   "source": [
    "# C. statsmodels with R formula notation\n",
    "df_art['approve_bin'] = df_art['approve'] * 1 # again, target must be 0/1, not True/False\n",
    "\n",
    "modelC = smf.logit(\"approve_bin ~ age + sex\", data=df_art).fit()\n",
    "# and everything except prediction is the same as at B\n",
    "print('Beta coefficients: ', modelC.params)\n",
    "print(modelC.summary()) # detailed information of model and coefficients\n",
    "print('Pseudo R2: ', modelB.prsquared)\n",
    "print('AIC on itself: ', modelC.aic)\n",
    "print('BIC on itself: ', modelC.bic)\n",
    "# for prediction, data must be specified as DataFrame and keep the original encoding\n",
    "x_pred = [35, 'M']\n",
    "y_pred = modelC.predict(pd.DataFrame({'age': x_pred[0], 'sex': x_pred[1]}, index=range(1)))\n",
    "print('Predicted probability of approval for age=', x_pred[0], 'and sex=', x_pred[1], ' is ', y_pred.values)"
   ]
  },
  {
   "cell_type": "markdown",
   "id": "bf39c17e",
   "metadata": {},
   "source": [
    "[Back to logistic regression](#Logistic-regression)"
   ]
  }
 ],
 "metadata": {
  "kernelspec": {
   "display_name": "Python 3.10.7 ('.venv': venv)",
   "language": "python",
   "name": "python3"
  },
  "language_info": {
   "codemirror_mode": {
    "name": "ipython",
    "version": 3
   },
   "file_extension": ".py",
   "mimetype": "text/x-python",
   "name": "python",
   "nbconvert_exporter": "python",
   "pygments_lexer": "ipython3",
   "version": "3.10.7"
  },
  "vscode": {
   "interpreter": {
    "hash": "3ba03692466612e15f784c7056843046bc4e9dc8853c41ae894576292cda82b8"
   }
  }
 },
 "nbformat": 4,
 "nbformat_minor": 5
}
