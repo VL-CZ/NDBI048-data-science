{
 "cells": [
  {
   "cell_type": "markdown",
   "metadata": {},
   "source": [
    "# Kostky\n",
    "\n",
    "* seznámení s knihovnou [empiricaldist](https://github.com/AllenDowney/empiricaldist)\n",
    "* viz knihu: [A.B.Downey: Think Bayes](http://allendowney.github.io/ThinkBayes2)\n",
    "\n",
    "## Knihovna empiricaldist\n",
    "\n",
    "**`class Distribution(pandas.Series)`**\n",
    "\n",
    "* abstraktní třída rozdělení odvozená od pandas.Series\n",
    "\n",
    "* `.qs`, `.ps` — np.array, definiční obor (index), obor hodnot\n",
    "\n",
    "* `__init__(ps, qs)` — konstruktor konzistentní s `pandas.Series(data, index)`\n",
    "\n",
    "* `transform()` — override metoda modifikuje index (.qs) nikoli hodnoty (.ps)\n",
    "\n",
    "**`class Pmf(Distribution)`**\n",
    "\n",
    "* pravděpodobnostní funkce, aka hustota pro diskrétní jevy (Probability mass function)\n",
    "\n",
    "* `.from_seq(seq: np.array, normalize=True, sort=True)` — vytvoří rozdělení hodnot z dat\n",
    "* `.normalize()` — normalizuje na součet pravděpodobností 1\n",
    "* `.plot() .bar()` — nakreslí plt.plot resp. plt.barplot\n",
    "* `.mean(), .var(), .sum(), .std(), .mode(), .median(), .max_prob()` — statistiky rozdělení\n",
    "* `.quantile(ps), .credible_interval(p)` — kvantily a bayesovský interval spolehlivosti (centrální pstní masa míry p)\n",
    "* `.choice(size=1) .sample(n=10)` — náhodný výběr z rozdělení\n",
    "* `.add_dist(pfm), .sub_dist(), .mul_dist(), .div_dist()` \n",
    "  * rozdělení součtu, rozdílu, součinu, podílu rozdělení\n",
    "* `.lt_dist(pmf), .le_dist, .gt_dist, .ge_dist, eq_dist(), ne_dist()`  \n",
    "  * porovnání pravděpodobností, že z jednoho rozdělení vyjde nižší/vyšší, stejná nebo různá hodnota než ze druhého\n",
    "* `.make_joint(pmf)` — sdružené rozdělení (2D) za předpokladu nezávislosti\n",
    "* `.conditional(i,val), marginal(i)` — podmíněné / marginální rozdělení (i-tá dimenze)\n",
    "* `.update(likelihood, data)` — bayesovský update \n",
    "  * `likelihood(data, hypo)` — funkce, co vrací věrohodnost data pro všechny hypo z qs \n",
    "* `.make_cdf()` — převod hustoty na distribuční funkci\n",
    "\n",
    "**`class Cdf(Distribution)`**\n",
    "\n",
    "* distribuční funkce (Cumulative distribution function)\n",
    "\n",
    "* `.from_seq(seq: np.array, normalize=True, sort=True)` — vytvoří distr. funkci ze sekvence hodnot\n",
    "* `.normalize()` — normalizuje na kumulativní součet pravděpodobností 1\n",
    "* `.plot(), .step()` — nakreslí plt.plot \n",
    "* `.forward(), .inverse()` — vyhodnocení Cdf jako interpolace funkce qs → ps a naopak\n",
    "\n",
    "\n"
   ]
  },
  {
   "cell_type": "code",
   "execution_count": null,
   "metadata": {},
   "outputs": [],
   "source": [
    "%matplotlib inline\n",
    "import pandas as pd\n",
    "import numpy as np\n",
    "import matplotlib.pyplot as plt\n",
    "from empiricaldist import Pmf\n",
    "\n",
    "def decor(title):\n",
    "    plt.xlabel('x')\n",
    "    plt.ylabel('PMF')\n",
    "    plt.title(title)"
   ]
  },
  {
   "cell_type": "markdown",
   "metadata": {},
   "source": [
    "#### 1k6 — šestistěnná kostka\n",
    "\n",
    "* hod běžnou kostkou na člověče zezlob se"
   ]
  },
  {
   "cell_type": "code",
   "execution_count": null,
   "metadata": {},
   "outputs": [],
   "source": [
    "p1k6 = Pmf.from_seq(np.arange(1,7))\n",
    "p1k6\n",
    "p1k6.bar();\n",
    "#p1k6.plot();\n",
    "decor('1k6')"
   ]
  },
  {
   "cell_type": "code",
   "execution_count": null,
   "metadata": {},
   "outputs": [],
   "source": [
    "print(p1k6.mean())\n",
    "print(p1k6.std())"
   ]
  },
  {
   "cell_type": "markdown",
   "metadata": {},
   "source": [
    "#### 2k6 — dvě šestistěnné kostky\n",
    "\n",
    "* součet dvou hodů šestistěnnou kostkou (osadníci v katanu)"
   ]
  },
  {
   "cell_type": "code",
   "execution_count": null,
   "metadata": {},
   "outputs": [],
   "source": [
    "p2k6 = # vytvořte rozdělení součtu hodů dvěma kostkami\n",
    "p2k6.plot();\n",
    "decor('2k6')"
   ]
  },
  {
   "cell_type": "markdown",
   "metadata": {},
   "source": [
    "### 10k6 vs. 6k10\n",
    "\n",
    "* Hrajete kostky. Před vámi leží dvě hromádky kostek 10k6 a 6k10.\n",
    "* Volíte hromádku, soupeř dostane druhou, hodíte, vyhrává hráč s vyšším součtem.\n",
    "* Kterou hromádku zvolíte?\n",
    "\n",
    "#### 10k6 — deset šestistěnných kostek\n",
    "\n",
    "* Vytvořte rozdělení součtu hodu deseti šestistěnnými kostkami.\n",
    "  * Jaké je maximum, jaká je střední hodnota?"
   ]
  },
  {
   "cell_type": "code",
   "execution_count": null,
   "metadata": {},
   "outputs": [],
   "source": [
    "def n_dices(dice, N):\n",
    "    # implementujte funkci na součet hodů n kostkami\n",
    "\n",
    "p10k6 = n_dices(p1k6, 10)\n",
    "\n",
    "p10k6.plot();    \n",
    "decor('10k6')\n",
    "print(f'Max: {p10k6.qs.max()}')\n",
    "print(f'Mean: {p10k6.mean():.2f}')"
   ]
  },
  {
   "cell_type": "markdown",
   "metadata": {},
   "source": [
    "#### 6k10 — šest desetistěnných kostek\n",
    "* Vytvořte rozdělení součtu hodu deseti šestistěnnými kostkami.\n",
    "  * Jaké je maximum, jaká je střední hodnota?"
   ]
  },
  {
   "cell_type": "code",
   "execution_count": null,
   "metadata": {},
   "outputs": [],
   "source": [
    "p1k10 = \n",
    "p6k10 = \n",
    "\n",
    "p6k10.plot();    \n",
    "decor('6k10')\n",
    "print(f'Max: {p6k10.qs.max()}')\n",
    "print(f'Mean: {p6k10.mean():.2f}')"
   ]
  },
  {
   "cell_type": "markdown",
   "metadata": {},
   "source": [
    "#### Rozdíl mezi 10k6 a 6k10\n",
    "\n",
    "* Jaké je rozdělení rozdílu mezi 10k6 a 6k10\n",
    "  * Jaká je střední hodnota rozdílu\n",
    "* Jaká je pravděpodobnost, že 10k6 bude vyšší než 6k10?\n"
   ]
  },
  {
   "cell_type": "code",
   "execution_count": null,
   "metadata": {},
   "outputs": [],
   "source": [
    "p_diff = \n",
    "p_diff.plot();\n",
    "decor('10k6 – 6k10')"
   ]
  },
  {
   "cell_type": "code",
   "execution_count": null,
   "metadata": {},
   "outputs": [],
   "source": [
    "p_diff.mean()"
   ]
  },
  {
   "cell_type": "code",
   "execution_count": null,
   "metadata": {},
   "outputs": [],
   "source": [
    "p_diff[p_diff.qs > 0].sum()"
   ]
  },
  {
   "cell_type": "code",
   "execution_count": null,
   "metadata": {},
   "outputs": [],
   "source": [
    "p10k6.gt_dist(p6k10)"
   ]
  },
  {
   "cell_type": "markdown",
   "metadata": {},
   "source": [
    "### 1k6+\n",
    "\n",
    "* Jaké je rozdělení hodu 1k6+, tedy hodu, kdy po šestce házím znovu?\n",
    "\n",
    "* Jaká je střední hodnota?\n",
    "\n",
    "* Která z kostek 1kN pro N v [2,10] má nejvyšší střední hodnotu?"
   ]
  },
  {
   "cell_type": "code",
   "execution_count": null,
   "metadata": {},
   "outputs": [],
   "source": [
    "vals = (p1k6.qs, p1k6.ps)\n",
    "bonus = (p1k6.qs, p1k6.ps)\n",
    "\n",
    "def generate_1kNp(N = 6, deep = 10):\n",
    "    \n",
    "\n",
    "p1k6p = generate_1kNp(6)\n",
    "\n",
    "p1k6p.plot();\n",
    "decor('1k6+')"
   ]
  },
  {
   "cell_type": "code",
   "execution_count": null,
   "metadata": {},
   "outputs": [],
   "source": [
    "p1k6p.mean()"
   ]
  },
  {
   "cell_type": "code",
   "execution_count": null,
   "metadata": {},
   "outputs": [],
   "source": [
    "sm = pd.Series(0, index = np.arange(2,11))\n",
    "\n",
    "for N in sm.index:\n",
    "    sm.loc[N]=\n",
    "    \n",
    "print(sm)\n",
    "plt.plot(sm);"
   ]
  },
  {
   "cell_type": "markdown",
   "metadata": {},
   "source": [
    "### 10k6+ vs 6k10+\n",
    "\n",
    "* Stejná otázka jen s opakováním hodu po šestce\n"
   ]
  },
  {
   "cell_type": "code",
   "execution_count": null,
   "metadata": {},
   "outputs": [],
   "source": [
    "\n",
    "\n",
    "p10k6p.plot();\n",
    "p6k10p.plot();\n",
    "decor('10k6+ vs 6k10+')\n",
    "plt.legend(['10k6+','6k10+']);"
   ]
  },
  {
   "cell_type": "code",
   "execution_count": null,
   "metadata": {},
   "outputs": [],
   "source": [
    "p10k6p.mean()"
   ]
  },
  {
   "cell_type": "code",
   "execution_count": null,
   "metadata": {},
   "outputs": [],
   "source": [
    "p6k10p.mean()"
   ]
  }
 ],
 "metadata": {
  "kernelspec": {
   "display_name": "pymc_env",
   "language": "python",
   "name": "pymc_env"
  },
  "language_info": {
   "codemirror_mode": {
    "name": "ipython",
    "version": 3
   },
   "file_extension": ".py",
   "mimetype": "text/x-python",
   "name": "python",
   "nbconvert_exporter": "python",
   "pygments_lexer": "ipython3",
   "version": "3.10.5"
  }
 },
 "nbformat": 4,
 "nbformat_minor": 4
}
