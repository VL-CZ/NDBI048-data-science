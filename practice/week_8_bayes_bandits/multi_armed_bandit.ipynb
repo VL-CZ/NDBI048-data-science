{
 "cells": [
  {
   "cell_type": "markdown",
   "metadata": {},
   "source": [
    "# Víceruký bandita\n",
    "\n",
    "viz [Bayesian Methods for Hackers](https://github.com/CamDavidsonPilon/Probabilistic-Programming-and-Bayesian-Methods-for-Hackers) str. 164\n",
    "\n",
    "##### Zadání úlohy: \n",
    "\n",
    "* Vstupujete do kasína s kýblem $n_{coins}$ mincí. \n",
    "* V kasínu je $n_{bandits}$ výherních mašin. \n",
    "* Každá mašina vrací vhozenou minci s neznámou pravděpodobností $p_i$. \n",
    "* Z kasína si nesmíte odnést žádnou minci, se kterou vstupujete, ale můžete si odnést všechny mince, které vám mašiny vrátí. \n",
    "* Úkolem je odnést si co nejvíce.\n"
   ]
  },
  {
   "cell_type": "code",
   "execution_count": null,
   "metadata": {},
   "outputs": [],
   "source": [
    "from bandits import Bandits\n",
    "\n",
    "bandits = Bandits(n_bandits = 5)\n",
    "\n",
    "print(bandits)"
   ]
  },
  {
   "cell_type": "markdown",
   "metadata": {},
   "source": [
    "## Strategie\n",
    "\n",
    "Strategie říká, jak vybrat banditu pro vhození další mince.\n",
    "\n",
    "Strategie je implementována jako funktor inicializovaný parametrem:\n",
    "\n",
    "* `n_bandits` — celkový počet banditů\n",
    "\n",
    "Strategie implementuje metodu `__call__` s parametry:\n",
    "\n",
    "* `thrown` — pole s počtem mincí dříve vhozených do mašin\n",
    "* `returned` — pole s počtem mincí dříve vrácených mašinami\n",
    "\n",
    "\n",
    "#### Připravené strategie\n",
    "\n",
    "##### RegularStrategy\n",
    "\n",
    "* Strategie pravidelně střídá mašiny bez ohledu na jejich výstup\n",
    "\n",
    "##### RandomStrategy\n",
    "\n",
    "* Strategie náhodně vybírá mašiny  bez ohledu na jejich výstup\n",
    "\n",
    "\n",
    "\n",
    "\n"
   ]
  },
  {
   "cell_type": "code",
   "execution_count": null,
   "metadata": {},
   "outputs": [],
   "source": [
    "from bandits import Strategy\n",
    "from bandits import BayesStrategy, RepeatStrategy\n",
    "\n",
    "class RegularStrategy(Strategy):\n",
    "    \"\"\" samples bandits regulary 1,2,3... \"\"\"\n",
    "    \n",
    "    def __call__(self, thrown, returned):\n",
    "        return sum(thrown) % n_bandits\n",
    "    \n",
    "    \n",
    "class RandomStrategy(Strategy):\n",
    "    \"\"\" samples bandits randomly \"\"\"\n",
    "    \n",
    "    def __call__(self, thrown, returned):\n",
    "        return np.random.randint(0, n_bandits, 1)[0]"
   ]
  },
  {
   "cell_type": "markdown",
   "metadata": {},
   "source": [
    "#### Test strategie\n",
    "\n",
    "\n"
   ]
  },
  {
   "cell_type": "code",
   "execution_count": null,
   "metadata": {},
   "outputs": [],
   "source": [
    "# Doplňte kód pro výpočet návratnosti pro každou strategii po vhození i mincí\n",
    "\n",
    "import numpy as np\n",
    "import pandas as pd\n",
    "import copy\n",
    "\n",
    "\n",
    "n_bandits = 5\n",
    "n_coins = 1000\n",
    "\n",
    "\n",
    "bandits =                                 #! vytvořte množinu banditů\n",
    "print(bandits)\n",
    "\n",
    "strategies = [RegularStrategy(n_bandits), RandomStrategy(n_bandits)]\n",
    "\n",
    "returns =                                 #! inicializace matice coins x strategies\n",
    "\n",
    "for j                                     #! pro každou strategii j  \n",
    "\n",
    "    bandits.reset()                       #! reset vnitřního stavu banditů\n",
    "    for i                                 #! pro každou minci\n",
    "        bandits.throw()                   #! hoď minci do bandity podle strategie\n",
    "        returns[i, j] =                   #! spočti aktuální návratnost\n",
    "\n",
    "df_ret = pd.DataFrame(returns, columns=[s.name() for s in strategies])\n",
    "\n",
    "print(df_ret.head())\n"
   ]
  },
  {
   "cell_type": "code",
   "execution_count": null,
   "metadata": {},
   "outputs": [],
   "source": [
    "import seaborn as sns\n",
    "import matplotlib.pyplot as plt\n",
    "\n",
    "palette = ['#4285F4','#EA4335','#FBBC05','#34A853']\n",
    "\n",
    "plt.figure(figsize=(12,4))\n",
    "sns.lineplot(data=pd.melt(df_ret.reset_index(), var_name='strategy', id_vars='index'),\n",
    "             x ='index', y='value', hue='strategy', palette=palette[:df_ret.shape[1]], \n",
    "             ).set(title='Návratový poměr')\n",
    "plt.axhline(max([b.rate for b in bandits.bandits]), color='black', linestyle='--', label= 'optimal strategy')\n",
    "plt.legend(loc='lower right');"
   ]
  },
  {
   "cell_type": "markdown",
   "metadata": {},
   "source": [
    "## Experimentální porovnání\n",
    "\n",
    "* Porovnání strategií v kontrolovaném experimentu\n",
    "\n",
    "* Všem strategiím bude opakovaně předložena stejná sada náhodně generovaných bandidtů\n",
    "* Výsledky budou porovnány napříč experimenty\n",
    "\n",
    "#### Parametry experimentu\n",
    "\n",
    "* `n_bandits` — počet banditů\n",
    "* `n_runs` — počet běhů\n",
    "* `n_coins` — počet mincí v každém běhu\n",
    "* `strategies` — seznam testovaných strategií\n",
    "\n",
    "#### Výstup experimentu\n",
    "\n",
    "* `df_ret` — tabulka návratnosti běhů pro všechny strategie\n",
    "\n",
    "#### Průběh experimentu\n"
   ]
  },
  {
   "cell_type": "code",
   "execution_count": null,
   "metadata": {},
   "outputs": [],
   "source": [
    "# Doplňte kód pro výpočet průměrné návratnosti strategií během stanoveného počtu nezávislých běhů\n",
    "\n",
    "n_bandits = 5            # počet banditů\n",
    "n_coins = 100            # počet mincí \n",
    "n_runs = 200             # počet běhů\n",
    "\n",
    "strategies = []\n",
    "\n",
    "np.random.seed(0)\n",
    "\n",
    "returns =                       #! inicializace matice běhy x strategie\n",
    "\n",
    "for i                           #! pro každý běh\n",
    "\n",
    "    bandits =                   #! nová sada banditů \n",
    "\n",
    "    for j                       #! pro každou strategii\n",
    "\n",
    "        bandits.reset()         # reset vnitřního stavu bandity\n",
    "        returns[i, j] = bandits.throw(strategies[j], n_coins)\n",
    "\n",
    "df_ret = pd.DataFrame(returns, columns=[s.name() for s in strategies])\n",
    "\n",
    "print(df_ret.head())\n"
   ]
  },
  {
   "cell_type": "markdown",
   "metadata": {},
   "source": [
    "### Výsledky experimentu\n",
    "\n",
    "#### Výnos napříč experimenty\n",
    "\n",
    "* rozdělení výnosů strategií napříč experimenty graficky"
   ]
  },
  {
   "cell_type": "code",
   "execution_count": null,
   "metadata": {},
   "outputs": [],
   "source": [
    "def label(x, color, label, right=False):\n",
    "    plt.gca().text(1 if right else 0, .2, label, fontweight=\"bold\", color=color, size=18, ha=\"right\" if right else \"left\", va=\"center\", transform=plt.gca().transAxes)\n",
    "\n",
    "g=sns.FacetGrid(pd.melt(df_ret, var_name='strategy'), row=\"strategy\", hue=\"strategy\", \n",
    "                  aspect=7, height=2, palette=palette[:df_ret.shape[1]], xlim=(0,n_coins));\n",
    "\n",
    "g.map(sns.kdeplot, \"value\", shade=True, alpha=1, lw=1.5, bw=0.2).map(plt.axhline, y=0, lw=4).map(label, x=\"value\")\n",
    "g.set_titles(\"\") #set title to blank\n",
    "g.set(yticks=[]) #set y ticks to blank\n",
    "g.despine(bottom=True, left=True); #remove 'spines'"
   ]
  },
  {
   "cell_type": "markdown",
   "metadata": {},
   "source": [
    "#### Průměrný výnos\n",
    "\n",
    "* `mean` — průměrný výnos strategie\n",
    "* `std` — směrodatná odchylka výnosu strategie\n",
    "* `std_mean` — směrodatná odchylka odhadu střední hodnoty výnosu\n"
   ]
  },
  {
   "cell_type": "code",
   "execution_count": null,
   "metadata": {},
   "outputs": [],
   "source": [
    "df_agg = pd.melt(df_ret, var_name='strategy').groupby('strategy').aggregate(\n",
    "    [np.mean, np.std]).droplevel(0, axis='columns').reset_index().sort_values('mean')\n",
    "\n",
    "df_agg['std_mean'] = df_agg['std'] / np.sqrt(n_runs)\n",
    "\n",
    "df_agg"
   ]
  },
  {
   "cell_type": "markdown",
   "metadata": {},
   "source": [
    "#### Očekávaný výnos\n",
    "\n",
    "* odhad střední hodnoty výnosu pro jednotlivé strategie"
   ]
  },
  {
   "cell_type": "code",
   "execution_count": null,
   "metadata": {},
   "outputs": [],
   "source": [
    "n_std = 3\n",
    "\n",
    "plt.figure(figsize=(12,4))\n",
    "sns.barplot(x='strategy', y='mean', data=df_agg, palette=palette[:df_ret.shape[0]]).set(title='Odhad očekávaného výnosu', ylim=(0, n_coins));\n",
    "plt.errorbar(x=df_agg['strategy'], y=df_agg['mean'], yerr=n_std*df_agg[\"std_mean\"], fmt=\"none\", c= \"k\", capsize=4);"
   ]
  },
  {
   "cell_type": "markdown",
   "metadata": {},
   "source": [
    "#### Podíl vítězství\n",
    "\n",
    "* podíl případů, kdy se strategie ukázala být vítězná\n"
   ]
  },
  {
   "cell_type": "code",
   "execution_count": null,
   "metadata": {},
   "outputs": [],
   "source": [
    "n_std = 3\n",
    "\n",
    "# Doplňte kód, který spočte, v kolika procentech případů byla daná strategie nejlepší\n",
    "#df_wins[strategy, wins, err]\n",
    "\n",
    "plt.figure(figsize=(12,4))\n",
    "sns.barplot(x='strategy', y='wins', data=df_wins, palette=palette[:df_wins.shape[0]]).set(title='Počet vítězství');\n",
    "plt.errorbar(x=df_wins['strategy'], y=df_wins['wins'], yerr=df_wins[\"err\"], fmt=\"none\", c= \"k\", capsize=4);"
   ]
  },
  {
   "cell_type": "markdown",
   "metadata": {},
   "source": [
    "### Ztráta na vítěze"
   ]
  },
  {
   "cell_type": "code",
   "execution_count": null,
   "metadata": {},
   "outputs": [],
   "source": [
    "# Doplňte kód, který spočte průměrnou ztrátu na vítěze dané strategie.\n",
    "\n",
    "df_los=\n",
    "\n",
    "g=sns.FacetGrid(pd.melt(df_los, var_name='strategy'), row=\"strategy\", hue=\"strategy\", \n",
    "                  aspect=7, height=2, palette=palette[:df_ret.shape[1]], xlim=(0,n_coins));\n",
    "\n",
    "g.map(sns.kdeplot, \"value\", shade=True, alpha=1, lw=1.5, bw=0.2);\n"
   ]
  },
  {
   "cell_type": "code",
   "execution_count": null,
   "metadata": {},
   "outputs": [],
   "source": [
    "df_los_agg = pd.melt(df_los, var_name='strategy').groupby('strategy').aggregate(\n",
    "    [np.mean, np.std]).droplevel(0, axis='columns').reset_index().sort_values('mean')\n",
    "\n",
    "df_los_agg['std_mean'] = df_los_agg['std'] / np.sqrt(n_runs)\n",
    "\n",
    "df_los_agg"
   ]
  },
  {
   "cell_type": "markdown",
   "metadata": {},
   "source": [
    "### Vnitřní reprezentace Bayesovské strategie\n",
    "\n",
    "* beta rozdělení pro vzorkování po stanoveném počtu kroků\n"
   ]
  },
  {
   "cell_type": "code",
   "execution_count": null,
   "metadata": {},
   "outputs": [],
   "source": [
    "from bandits import BayesStrategy\n",
    "import scipy.stats as stats\n",
    "\n",
    "np.random.seed(0)\n",
    "\n",
    "n_coins = 1000\n",
    "n_sample = 10000\n",
    "bandits = Bandits(n_bandits)\n",
    "\n",
    "print(bandits)\n",
    "\n",
    "bayes_strategy = BayesStrategy(n_bandits)\n",
    "\n",
    "for i in range(n_coins):\n",
    "    bandits.throw(bayes_strategy, 1)\n",
    "\n",
    "sampling = np.zeros(n_bandits)    \n",
    "    \n",
    "for i in range(n_sample):\n",
    "    sampling[bayes_strategy(bandits.thrown, bandits.returned)]+=1   \n",
    "\n",
    "x = np.arange(0,1,0.001)\n",
    "db = pd.DataFrame({'x':x})\n",
    "for i in range(n_bandits):\n",
    "    db[f'bandit_{i}'] = stats.beta.pdf(x, bayes_strategy.alphas[i], bayes_strategy.betas[i])"
   ]
  },
  {
   "cell_type": "code",
   "execution_count": null,
   "metadata": {},
   "outputs": [],
   "source": [
    "db_smpl=pd.melt(db, id_vars='x', var_name='bandit')\n",
    "db_smpl['smpl']='1'\n",
    "g=sns.FacetGrid(db_smpl, row=\"bandit\", hue=\"bandit\", aspect=7, height=2)\n",
    "g.map(sns.lineplot, 'x', \"value\").map(label, \"bandit\").map(label, 'bandit', label='smpl', right=True).set_titles(\"\").set(yticks=[]);\n",
    "g.despine(bottom=False, left=True); \n",
    "\n",
    "for ax, pos in zip(g.axes.flat, [b.rate for b in bandits.bandits]):\n",
    "    ax.axvline(x=pos, linestyle='--', lw=2)"
   ]
  },
  {
   "cell_type": "code",
   "execution_count": null,
   "metadata": {},
   "outputs": [],
   "source": [
    "db_smpl"
   ]
  }
 ],
 "metadata": {
  "kernelspec": {
   "display_name": "Python 3.7",
   "language": "python",
   "name": "py37_shared"
  },
  "language_info": {
   "codemirror_mode": {
    "name": "ipython",
    "version": 3
   },
   "file_extension": ".py",
   "mimetype": "text/x-python",
   "name": "python",
   "nbconvert_exporter": "python",
   "pygments_lexer": "ipython3",
   "version": "3.7.3"
  }
 },
 "nbformat": 4,
 "nbformat_minor": 4
}
