{
 "cells": [
  {
   "cell_type": "markdown",
   "metadata": {},
   "source": [
    "# Natural language analysis\n",
    "\n",
    "* Analysis of short texts and their classification to language families"
   ]
  },
  {
   "cell_type": "markdown",
   "metadata": {},
   "source": [
    "## Data exploration\n",
    "\n",
    "Dataset – Pater Noster prayers in various languages.\n",
    "\n",
    "***\n",
    "\n",
    "#### ❓ Task 1\n",
    "\n",
    "  * read dataset from file *paternoster.csv* into pandas data frame\n",
    "  * show dataset sample\n",
    "  * print number of columns and rows\n",
    "\n",
    "***"
   ]
  },
  {
   "cell_type": "code",
   "execution_count": 1,
   "metadata": {},
   "outputs": [
    {
     "data": {
      "text/html": [
       "<div>\n",
       "<style scoped>\n",
       "    .dataframe tbody tr th:only-of-type {\n",
       "        vertical-align: middle;\n",
       "    }\n",
       "\n",
       "    .dataframe tbody tr th {\n",
       "        vertical-align: top;\n",
       "    }\n",
       "\n",
       "    .dataframe thead th {\n",
       "        text-align: right;\n",
       "    }\n",
       "</style>\n",
       "<table border=\"1\" class=\"dataframe\">\n",
       "  <thead>\n",
       "    <tr style=\"text-align: right;\">\n",
       "      <th></th>\n",
       "      <th>lang</th>\n",
       "      <th>class</th>\n",
       "      <th>text</th>\n",
       "    </tr>\n",
       "  </thead>\n",
       "  <tbody>\n",
       "    <tr>\n",
       "      <th>0</th>\n",
       "      <td>Czech</td>\n",
       "      <td>S</td>\n",
       "      <td>Otče náš, jenž jsi na nebesích, Posvěť se jmén...</td>\n",
       "    </tr>\n",
       "    <tr>\n",
       "      <th>1</th>\n",
       "      <td>Polish</td>\n",
       "      <td>S</td>\n",
       "      <td>Ojcze nasz, któryś jest w niebie, święć się im...</td>\n",
       "    </tr>\n",
       "    <tr>\n",
       "      <th>2</th>\n",
       "      <td>Deutsch</td>\n",
       "      <td>G</td>\n",
       "      <td>Vater unser im Himmel, geheiligt werde dein Na...</td>\n",
       "    </tr>\n",
       "    <tr>\n",
       "      <th>3</th>\n",
       "      <td>English</td>\n",
       "      <td>G</td>\n",
       "      <td>Our Father in heaven, hallowed be your name, y...</td>\n",
       "    </tr>\n",
       "    <tr>\n",
       "      <th>4</th>\n",
       "      <td>French</td>\n",
       "      <td>R</td>\n",
       "      <td>Notre Père, toi qui es dans les cieux, que tu ...</td>\n",
       "    </tr>\n",
       "    <tr>\n",
       "      <th>5</th>\n",
       "      <td>Dutch</td>\n",
       "      <td>G</td>\n",
       "      <td>Onze Vader in de hemel, uw naam worde geheilig...</td>\n",
       "    </tr>\n",
       "    <tr>\n",
       "      <th>6</th>\n",
       "      <td>Latin</td>\n",
       "      <td>R</td>\n",
       "      <td>Pater noster, qui es in caelis, sanctificetur ...</td>\n",
       "    </tr>\n",
       "    <tr>\n",
       "      <th>7</th>\n",
       "      <td>Italian</td>\n",
       "      <td>R</td>\n",
       "      <td>Padre nostro che sei nei cieli, sia santificat...</td>\n",
       "    </tr>\n",
       "    <tr>\n",
       "      <th>8</th>\n",
       "      <td>Spanish</td>\n",
       "      <td>R</td>\n",
       "      <td>Padre nuestro que estás en el Cielo, santifica...</td>\n",
       "    </tr>\n",
       "    <tr>\n",
       "      <th>9</th>\n",
       "      <td>Slovak</td>\n",
       "      <td>S</td>\n",
       "      <td>Otče náš, ktorý si na nebesách, posväť sa meno...</td>\n",
       "    </tr>\n",
       "    <tr>\n",
       "      <th>10</th>\n",
       "      <td>Serbian</td>\n",
       "      <td>S</td>\n",
       "      <td>Wótče naš, kiž sy w njebjesach, Swjeć so Twoje...</td>\n",
       "    </tr>\n",
       "    <tr>\n",
       "      <th>11</th>\n",
       "      <td>Swedesh</td>\n",
       "      <td>G</td>\n",
       "      <td>Vår fader, du som är i himlen, Låt ditt namn b...</td>\n",
       "    </tr>\n",
       "    <tr>\n",
       "      <th>12</th>\n",
       "      <td>Finnish</td>\n",
       "      <td>F</td>\n",
       "      <td>Isä meidän, joka olet taivaissa, Pyhitetty olk...</td>\n",
       "    </tr>\n",
       "  </tbody>\n",
       "</table>\n",
       "</div>"
      ],
      "text/plain": [
       "       lang class                                               text\n",
       "0     Czech     S  Otče náš, jenž jsi na nebesích, Posvěť se jmén...\n",
       "1    Polish     S  Ojcze nasz, któryś jest w niebie, święć się im...\n",
       "2   Deutsch     G  Vater unser im Himmel, geheiligt werde dein Na...\n",
       "3   English     G  Our Father in heaven, hallowed be your name, y...\n",
       "4    French     R  Notre Père, toi qui es dans les cieux, que tu ...\n",
       "5     Dutch     G  Onze Vader in de hemel, uw naam worde geheilig...\n",
       "6     Latin     R  Pater noster, qui es in caelis, sanctificetur ...\n",
       "7   Italian     R  Padre nostro che sei nei cieli, sia santificat...\n",
       "8   Spanish     R  Padre nuestro que estás en el Cielo, santifica...\n",
       "9    Slovak     S  Otče náš, ktorý si na nebesách, posväť sa meno...\n",
       "10  Serbian     S  Wótče naš, kiž sy w njebjesach, Swjeć so Twoje...\n",
       "11  Swedesh     G  Vår fader, du som är i himlen, Låt ditt namn b...\n",
       "12  Finnish     F  Isä meidän, joka olet taivaissa, Pyhitetty olk..."
      ]
     },
     "execution_count": 1,
     "metadata": {},
     "output_type": "execute_result"
    }
   ],
   "source": [
    "import pandas as pd\n",
    "d=pd.read_csv('paternoster.csv', sep=';')\n",
    "d"
   ]
  },
  {
   "cell_type": "code",
   "execution_count": 2,
   "metadata": {},
   "outputs": [
    {
     "name": "stdout",
     "output_type": "stream",
     "text": [
      " cols: 3, rows: 13\n"
     ]
    }
   ],
   "source": [
    "print(f' cols: {d.shape[1]}, rows: {d.shape[0]}');"
   ]
  },
  {
   "cell_type": "markdown",
   "metadata": {},
   "source": [
    "#### Language classes\n",
    "\n",
    "\n",
    "* **S** – slavic languages\n",
    "* **R** – roman languages\n",
    "* **G** – german languages\n",
    "* **F** – finnish\n",
    "\n",
    "***\n",
    "\n",
    "#### ❓ Task 2\n",
    "\n",
    "  * calculate the number of languages in every class (hint: groupby or value_counts)\n",
    "\n",
    "***"
   ]
  },
  {
   "cell_type": "code",
   "execution_count": 3,
   "metadata": {},
   "outputs": [
    {
     "data": {
      "text/plain": [
       "S    4\n",
       "R    4\n",
       "G    4\n",
       "F    1\n",
       "Name: class, dtype: int64"
      ]
     },
     "execution_count": 3,
     "metadata": {},
     "output_type": "execute_result"
    }
   ],
   "source": [
    "d.groupby('class')['lang'].count()\n",
    "d['class'].value_counts()"
   ]
  },
  {
   "cell_type": "markdown",
   "metadata": {},
   "source": [
    "## Text preprocessing\n",
    "\n",
    "***\n",
    "\n",
    "#### ❓ Task 3\n",
    "\n",
    "  * create column *proc* with the text from *text* after\n",
    "    * lower case\n",
    "    * removing the diacritics\n",
    "    * replacing any punctuation with single space\n",
    "    * trimming leading and trailing spaces\n",
    "\n",
    "***"
   ]
  },
  {
   "cell_type": "code",
   "execution_count": 4,
   "metadata": {},
   "outputs": [
    {
     "data": {
      "text/html": [
       "<div>\n",
       "<style scoped>\n",
       "    .dataframe tbody tr th:only-of-type {\n",
       "        vertical-align: middle;\n",
       "    }\n",
       "\n",
       "    .dataframe tbody tr th {\n",
       "        vertical-align: top;\n",
       "    }\n",
       "\n",
       "    .dataframe thead th {\n",
       "        text-align: right;\n",
       "    }\n",
       "</style>\n",
       "<table border=\"1\" class=\"dataframe\">\n",
       "  <thead>\n",
       "    <tr style=\"text-align: right;\">\n",
       "      <th></th>\n",
       "      <th>lang</th>\n",
       "      <th>class</th>\n",
       "      <th>text</th>\n",
       "      <th>proc</th>\n",
       "    </tr>\n",
       "  </thead>\n",
       "  <tbody>\n",
       "    <tr>\n",
       "      <th>0</th>\n",
       "      <td>Czech</td>\n",
       "      <td>S</td>\n",
       "      <td>Otče náš, jenž jsi na nebesích, Posvěť se jmén...</td>\n",
       "      <td>otce nas jenz jsi na nebesich posvet se jmeno ...</td>\n",
       "    </tr>\n",
       "    <tr>\n",
       "      <th>1</th>\n",
       "      <td>Polish</td>\n",
       "      <td>S</td>\n",
       "      <td>Ojcze nasz, któryś jest w niebie, święć się im...</td>\n",
       "      <td>ojcze nasz ktorys jest w niebie swiec sie imie...</td>\n",
       "    </tr>\n",
       "    <tr>\n",
       "      <th>2</th>\n",
       "      <td>Deutsch</td>\n",
       "      <td>G</td>\n",
       "      <td>Vater unser im Himmel, geheiligt werde dein Na...</td>\n",
       "      <td>vater unser im himmel geheiligt werde dein nam...</td>\n",
       "    </tr>\n",
       "    <tr>\n",
       "      <th>3</th>\n",
       "      <td>English</td>\n",
       "      <td>G</td>\n",
       "      <td>Our Father in heaven, hallowed be your name, y...</td>\n",
       "      <td>our father in heaven hallowed be your name you...</td>\n",
       "    </tr>\n",
       "    <tr>\n",
       "      <th>4</th>\n",
       "      <td>French</td>\n",
       "      <td>R</td>\n",
       "      <td>Notre Père, toi qui es dans les cieux, que tu ...</td>\n",
       "      <td>notre pere toi qui es dans les cieux que tu so...</td>\n",
       "    </tr>\n",
       "    <tr>\n",
       "      <th>5</th>\n",
       "      <td>Dutch</td>\n",
       "      <td>G</td>\n",
       "      <td>Onze Vader in de hemel, uw naam worde geheilig...</td>\n",
       "      <td>onze vader in de hemel uw naam worde geheiligd...</td>\n",
       "    </tr>\n",
       "    <tr>\n",
       "      <th>6</th>\n",
       "      <td>Latin</td>\n",
       "      <td>R</td>\n",
       "      <td>Pater noster, qui es in caelis, sanctificetur ...</td>\n",
       "      <td>pater noster qui es in caelis sanctificetur no...</td>\n",
       "    </tr>\n",
       "    <tr>\n",
       "      <th>7</th>\n",
       "      <td>Italian</td>\n",
       "      <td>R</td>\n",
       "      <td>Padre nostro che sei nei cieli, sia santificat...</td>\n",
       "      <td>padre nostro che sei nei cieli sia santificato...</td>\n",
       "    </tr>\n",
       "    <tr>\n",
       "      <th>8</th>\n",
       "      <td>Spanish</td>\n",
       "      <td>R</td>\n",
       "      <td>Padre nuestro que estás en el Cielo, santifica...</td>\n",
       "      <td>padre nuestro que estas en el cielo santificad...</td>\n",
       "    </tr>\n",
       "    <tr>\n",
       "      <th>9</th>\n",
       "      <td>Slovak</td>\n",
       "      <td>S</td>\n",
       "      <td>Otče náš, ktorý si na nebesách, posväť sa meno...</td>\n",
       "      <td>otce nas ktory si na nebesach posvat sa meno t...</td>\n",
       "    </tr>\n",
       "    <tr>\n",
       "      <th>10</th>\n",
       "      <td>Serbian</td>\n",
       "      <td>S</td>\n",
       "      <td>Wótče naš, kiž sy w njebjesach, Swjeć so Twoje...</td>\n",
       "      <td>wotce nas kiz sy w njebjesach swjec so twoje m...</td>\n",
       "    </tr>\n",
       "    <tr>\n",
       "      <th>11</th>\n",
       "      <td>Swedesh</td>\n",
       "      <td>G</td>\n",
       "      <td>Vår fader, du som är i himlen, Låt ditt namn b...</td>\n",
       "      <td>var fader du som ar i himlen lat ditt namn bli...</td>\n",
       "    </tr>\n",
       "    <tr>\n",
       "      <th>12</th>\n",
       "      <td>Finnish</td>\n",
       "      <td>F</td>\n",
       "      <td>Isä meidän, joka olet taivaissa, Pyhitetty olk...</td>\n",
       "      <td>isa meidan joka olet taivaissa pyhitetty olkoo...</td>\n",
       "    </tr>\n",
       "  </tbody>\n",
       "</table>\n",
       "</div>"
      ],
      "text/plain": [
       "       lang class                                               text  \\\n",
       "0     Czech     S  Otče náš, jenž jsi na nebesích, Posvěť se jmén...   \n",
       "1    Polish     S  Ojcze nasz, któryś jest w niebie, święć się im...   \n",
       "2   Deutsch     G  Vater unser im Himmel, geheiligt werde dein Na...   \n",
       "3   English     G  Our Father in heaven, hallowed be your name, y...   \n",
       "4    French     R  Notre Père, toi qui es dans les cieux, que tu ...   \n",
       "5     Dutch     G  Onze Vader in de hemel, uw naam worde geheilig...   \n",
       "6     Latin     R  Pater noster, qui es in caelis, sanctificetur ...   \n",
       "7   Italian     R  Padre nostro che sei nei cieli, sia santificat...   \n",
       "8   Spanish     R  Padre nuestro que estás en el Cielo, santifica...   \n",
       "9    Slovak     S  Otče náš, ktorý si na nebesách, posväť sa meno...   \n",
       "10  Serbian     S  Wótče naš, kiž sy w njebjesach, Swjeć so Twoje...   \n",
       "11  Swedesh     G  Vår fader, du som är i himlen, Låt ditt namn b...   \n",
       "12  Finnish     F  Isä meidän, joka olet taivaissa, Pyhitetty olk...   \n",
       "\n",
       "                                                 proc  \n",
       "0   otce nas jenz jsi na nebesich posvet se jmeno ...  \n",
       "1   ojcze nasz ktorys jest w niebie swiec sie imie...  \n",
       "2   vater unser im himmel geheiligt werde dein nam...  \n",
       "3   our father in heaven hallowed be your name you...  \n",
       "4   notre pere toi qui es dans les cieux que tu so...  \n",
       "5   onze vader in de hemel uw naam worde geheiligd...  \n",
       "6   pater noster qui es in caelis sanctificetur no...  \n",
       "7   padre nostro che sei nei cieli sia santificato...  \n",
       "8   padre nuestro que estas en el cielo santificad...  \n",
       "9   otce nas ktory si na nebesach posvat sa meno t...  \n",
       "10  wotce nas kiz sy w njebjesach swjec so twoje m...  \n",
       "11  var fader du som ar i himlen lat ditt namn bli...  \n",
       "12  isa meidan joka olet taivaissa pyhitetty olkoo...  "
      ]
     },
     "execution_count": 4,
     "metadata": {},
     "output_type": "execute_result"
    }
   ],
   "source": [
    "import numpy as np\n",
    "import unicodedata\n",
    "import re\n",
    "\n",
    "def remove_diac(text: str):\n",
    "    return ''.join(c for c in unicodedata.normalize('NFD', text)\n",
    "                   if unicodedata.category(c) != 'Mn')\n",
    "\n",
    "def preprocess(text: str):\n",
    "    return remove_diac(re.sub(r\"[,.; '-]+\",' ',text.strip().lower()))\n",
    "\n",
    "preprocess_np = np.vectorize(preprocess)\n",
    "\n",
    "d['proc'] = preprocess_np(d['text'].values)\n",
    "d"
   ]
  },
  {
   "cell_type": "markdown",
   "metadata": {},
   "source": [
    "## Vectorization\n",
    "\n",
    "* trasforming the plain text into cartesian vector space\n",
    "  * dimensions: symbols – words or ngrams\n",
    "  * values: frequency of symbol in text\n",
    "\n",
    "***\n",
    "\n",
    "#### ❓ Task 4\n",
    "\n",
    "  * create object *vec* of class CountVectorizer\n",
    "    * set maximum ftrs count to 1500\n",
    "    * fit the object with texts from column *proc*\n",
    "    * print feature names\n",
    "  * create matrix X with transformed values of *proc*\n",
    "  * answer the questions:\n",
    "    * What is the most common word in English prayer?\n",
    "    * What is the most common bigram in Czech prayer?\n",
    "\n",
    "***\n",
    "\n"
   ]
  },
  {
   "cell_type": "code",
   "execution_count": 5,
   "metadata": {},
   "outputs": [
    {
     "data": {
      "text/plain": [
       "CountVectorizer(analyzer='char', binary=False, decode_error='strict',\n",
       "                dtype=<class 'numpy.int64'>, encoding='utf-8', input='content',\n",
       "                lowercase=True, max_df=1.0, max_features=1500, min_df=1,\n",
       "                ngram_range=(2, 2), preprocessor=None, stop_words=None,\n",
       "                strip_accents=None, token_pattern='(?u)\\\\b\\\\w\\\\w+\\\\b',\n",
       "                tokenizer=None, vocabulary=None)"
      ]
     },
     "execution_count": 5,
     "metadata": {},
     "output_type": "execute_result"
    }
   ],
   "source": [
    "from sklearn.feature_extraction.text import CountVectorizer\n",
    "\n",
    "vec = CountVectorizer(max_features = 1500, analyzer='char', ngram_range=(2,2))\n",
    "\n",
    "vec.fit(d['proc'].values)\n",
    "\n",
    "#vec.get_feature_names()"
   ]
  },
  {
   "cell_type": "code",
   "execution_count": 6,
   "metadata": {},
   "outputs": [],
   "source": [
    "X = vec.transform(d['proc'].values)\n",
    "y = d['class'].values\n",
    "#pd.DataFrame({'ftr':vec.get_feature_names(), 'nums':X.todense()[3].A1}).sort_values('nums', ascending=False)\n",
    "#pd.DataFrame({'ftr':vec.get_feature_names(), 'nums':X.todense()[0].A1}).sort_values('nums', ascending=False)"
   ]
  },
  {
   "cell_type": "markdown",
   "metadata": {},
   "source": [
    "## Hierarchical clustering of languages\n",
    "\n",
    "* Input:\n",
    "  * vectorized matrix of frequencies\n",
    "* Parameters:\n",
    "  * **affinity** – similarity measure\n",
    "    * euclidean, l1, l2, manhattan, cosine\n",
    "  * **linkage** – clustering algorithm\n",
    "    * **single** – closest members distance\n",
    "    * **complete** – furtherst members distance\n",
    "    * **average** – average distance\n",
    "    * **ward** – minimal combined variance\n",
    "     \n",
    "***\n",
    "\n",
    "#### ❓ Task 5\n",
    "\n",
    "  * read the code bellow\n",
    "  * experiment with different \n",
    "    * vectorizer parameters (analyzer, ngram_range)\n",
    "    * similarity measures\n",
    "    * clustering algorithm\n",
    "  * find best possible clustering\n",
    "    * the one most separating for language classes\n",
    "\n",
    "***  \n",
    "\n"
   ]
  },
  {
   "cell_type": "code",
   "execution_count": 7,
   "metadata": {},
   "outputs": [
    {
     "data": {
      "image/png": "[encoded data removed]",
      "text/plain": [
       "<Figure size 432x288 with 1 Axes>"
      ]
     },
     "metadata": {},
     "output_type": "display_data"
    }
   ],
   "source": [
    "from sklearn.cluster import AgglomerativeClustering\n",
    "from scipy.cluster.hierarchy import dendrogram\n",
    "import matplotlib.pyplot as plt\n",
    "\n",
    "wes_rushmore=[\"#E1BD6D\", \"#EABE94\", \"#0B775E\", \"#35274A\", \"#F2300F\"]\n",
    "\n",
    "%matplotlib inline\n",
    "\n",
    "cols={'S': wes_rushmore[4], 'G': wes_rushmore[2], 'R': wes_rushmore[3], 'F': wes_rushmore[0]}\n",
    "\n",
    "plt.style.use('fivethirtyeight')\n",
    "\n",
    "def plot_dendrogram(model, **kwargs):\n",
    "\n",
    "    # Children of hierarchical clustering\n",
    "    children = model.children_\n",
    "\n",
    "    # Distances between each pair of children\n",
    "    # Since we don't have this information, we can use a uniform one for plotting\n",
    "    distance = np.arange(children.shape[0])\n",
    "\n",
    "    # The number of observations contained in each cluster level\n",
    "    no_of_observations = np.arange(2, children.shape[0]+2)\n",
    "\n",
    "    # Create linkage matrix and then plot the dendrogram\n",
    "    linkage_matrix = np.column_stack([children, distance, no_of_observations]).astype(float)\n",
    "\n",
    "    # Plot the corresponding dendrogram\n",
    "    dendrogram(linkage_matrix, **kwargs)\n",
    "\n",
    "    \n",
    "clustering = AgglomerativeClustering(n_clusters = 4, affinity='l2', linkage='average').fit(X.toarray())\n",
    "\n",
    "lng=[s[0:2] for s in d['lang'].values]\n",
    "\n",
    "plot_dendrogram(clustering, labels=lng, distance_sort='ascending')\n",
    "plt.title('Language Dendrogram');\n"
   ]
  },
  {
   "cell_type": "markdown",
   "metadata": {},
   "source": [
    "## Binary classification\n",
    "\n",
    "* Model: Multinomial Naive Bayes classifier\n",
    "* Classes: \n",
    "  * **S**lavic languages\n",
    "  * **G**erman languages\n",
    "* Training set: Czech and German\n",
    "* Test set: all the other languages\n"
   ]
  },
  {
   "cell_type": "code",
   "execution_count": 8,
   "metadata": {},
   "outputs": [],
   "source": [
    "from sklearn.naive_bayes import MultinomialNB\n",
    "\n",
    "mnb = MultinomialNB(alpha=100)\n",
    "\n",
    "train_lng = [0,2]\n",
    "\n",
    "mnb.fit(X[train_lng],y[train_lng])\n",
    "\n",
    "pred=mnb.predict_proba(X)"
   ]
  },
  {
   "cell_type": "markdown",
   "metadata": {},
   "source": [
    "## Classification results\n",
    "\n",
    "***\n",
    "\n",
    "#### ❓ Task 6\n",
    "\n",
    "  * read and understand the code bellow\n",
    "  * evaluate the model performance on the test set\n",
    "    * mean absolute error\n",
    "    * predictions plot\n",
    "  * experiment with parameters\n",
    "    * vectorizer parameters\n",
    "    * smoothing alpha\n",
    "  * answer the questions:\n",
    "    * does model generaly work?\n",
    "    * what is the most/least slavic and most german language in the test set?\n",
    "    * what are the results on roman languages?\n",
    "    * what about finnish?\n",
    "\n",
    "***  \n",
    "\n",
    "### Prediction on training set"
   ]
  },
  {
   "cell_type": "code",
   "execution_count": 9,
   "metadata": {},
   "outputs": [
    {
     "name": "stdout",
     "output_type": "stream",
     "text": [
      "MAE TRAIN:  0.18%\n"
     ]
    },
    {
     "data": {
      "image/png": "[encoded data removed]",
      "text/plain": [
       "<Figure size 360x288 with 1 Axes>"
      ]
     },
     "metadata": {
      "needs_background": "light"
     },
     "output_type": "display_data"
    }
   ],
   "source": [
    "def plot_predictions(pred, idxs, title):\n",
    "\n",
    "    fig = plt.figure(figsize=[3+len(idxs),4]);\n",
    "    x=np.arange(len(idxs))\n",
    "    plt.bar(x-0.2, pred[idxs,0], width=0.4, label = mnb.classes_[0], color=cols[mnb.classes_[0]])\n",
    "    plt.bar(x+0.2, pred[idxs,1], width=0.4, label = mnb.classes_[1], color=cols[mnb.classes_[1]])\n",
    "    plt.legend()\n",
    "    plt.xticks(ticks=x, labels=[lng[i] for i in idxs])\n",
    "    plt.title(f\"{title}, {mnb.classes_[0]} vs {mnb.classes_[1]}\")\n",
    "    plt.xlabel('Language')\n",
    "    plt.ylabel('Prediction')\n",
    "\n",
    "    \n",
    "plot_predictions(pred, idxs=train_lng, title='Training')\n",
    "\n",
    "from sklearn import metrics\n",
    "\n",
    "mae_tr = metrics.mean_absolute_error(y[train_lng]==mnb.classes_[0], pred[train_lng,0])\n",
    "print(f'MAE TRAIN:  {mae_tr:.2%}')"
   ]
  },
  {
   "cell_type": "markdown",
   "metadata": {},
   "source": [
    "### Prediction on test set"
   ]
  },
  {
   "cell_type": "code",
   "execution_count": 10,
   "metadata": {},
   "outputs": [
    {
     "name": "stdout",
     "output_type": "stream",
     "text": [
      "MAE TEST:  4.90%\n"
     ]
    },
    {
     "data": {
      "image/png": "[encoded data removed]",
      "text/plain": [
       "<Figure size 1008x288 with 1 Axes>"
      ]
     },
     "metadata": {
      "needs_background": "light"
     },
     "output_type": "display_data"
    }
   ],
   "source": [
    "idxs=list(set(range(len(lng)))-set(train_lng))\n",
    "plot_predictions(pred, idxs=idxs, title='Predikce')\n",
    "test_lng=d[d['class'].isin(mnb.classes_) & (d.index!=train_lng[0]) &  (d.index !=train_lng[1])].index\n",
    "mae_te = metrics.mean_absolute_error(y[test_lng]==mnb.classes_[0], pred[test_lng,0])\n",
    "print(f'MAE TEST:  {mae_te:.2%}')"
   ]
  },
  {
   "cell_type": "markdown",
   "metadata": {},
   "source": [
    "### Strongest features\n",
    "\n",
    "* Which features (words or ngrams) most strongly support its language?\n",
    "\n",
    "***\n",
    "\n",
    "#### ❓ Task 7\n",
    "\n",
    "  * read and understand the code bellow  \n",
    "  * modify the code to answer qustions:\n",
    "    * what are the strongest slavic, german, roman bigrams?\n",
    "\n",
    "***  \n"
   ]
  },
  {
   "cell_type": "code",
   "execution_count": 11,
   "metadata": {},
   "outputs": [
    {
     "data": {
      "text/html": [
       "<div>\n",
       "<style scoped>\n",
       "    .dataframe tbody tr th:only-of-type {\n",
       "        vertical-align: middle;\n",
       "    }\n",
       "\n",
       "    .dataframe tbody tr th {\n",
       "        vertical-align: top;\n",
       "    }\n",
       "\n",
       "    .dataframe thead th {\n",
       "        text-align: right;\n",
       "    }\n",
       "</style>\n",
       "<table border=\"1\" class=\"dataframe\">\n",
       "  <thead>\n",
       "    <tr style=\"text-align: right;\">\n",
       "      <th></th>\n",
       "      <th>ftr</th>\n",
       "      <th>G</th>\n",
       "      <th>S</th>\n",
       "      <th>dif</th>\n",
       "      <th>odds</th>\n",
       "    </tr>\n",
       "  </thead>\n",
       "  <tbody>\n",
       "    <tr>\n",
       "      <th>91</th>\n",
       "      <td>el</td>\n",
       "      <td>-5.808253</td>\n",
       "      <td>-5.890428</td>\n",
       "      <td>0.082175</td>\n",
       "      <td>1.085646</td>\n",
       "    </tr>\n",
       "    <tr>\n",
       "      <th>276</th>\n",
       "      <td>t</td>\n",
       "      <td>-5.746010</td>\n",
       "      <td>-5.832159</td>\n",
       "      <td>0.086149</td>\n",
       "      <td>1.089968</td>\n",
       "    </tr>\n",
       "    <tr>\n",
       "      <th>39</th>\n",
       "      <td>ar</td>\n",
       "      <td>-5.799120</td>\n",
       "      <td>-5.890428</td>\n",
       "      <td>0.091308</td>\n",
       "      <td>1.095606</td>\n",
       "    </tr>\n",
       "    <tr>\n",
       "      <th>315</th>\n",
       "      <td>ve</td>\n",
       "      <td>-5.746010</td>\n",
       "      <td>-5.841638</td>\n",
       "      <td>0.095627</td>\n",
       "      <td>1.100349</td>\n",
       "    </tr>\n",
       "    <tr>\n",
       "      <th>171</th>\n",
       "      <td>l</td>\n",
       "      <td>-5.790070</td>\n",
       "      <td>-5.890428</td>\n",
       "      <td>0.100358</td>\n",
       "      <td>1.105566</td>\n",
       "    </tr>\n",
       "    <tr>\n",
       "      <th>14</th>\n",
       "      <td>o</td>\n",
       "      <td>-5.703810</td>\n",
       "      <td>-5.804250</td>\n",
       "      <td>0.100440</td>\n",
       "      <td>1.105658</td>\n",
       "    </tr>\n",
       "    <tr>\n",
       "      <th>3</th>\n",
       "      <td>d</td>\n",
       "      <td>-5.703810</td>\n",
       "      <td>-5.804250</td>\n",
       "      <td>0.100440</td>\n",
       "      <td>1.105658</td>\n",
       "    </tr>\n",
       "    <tr>\n",
       "      <th>226</th>\n",
       "      <td>om</td>\n",
       "      <td>-5.763402</td>\n",
       "      <td>-5.870625</td>\n",
       "      <td>0.107223</td>\n",
       "      <td>1.113183</td>\n",
       "    </tr>\n",
       "    <tr>\n",
       "      <th>111</th>\n",
       "      <td>ge</td>\n",
       "      <td>-5.781102</td>\n",
       "      <td>-5.890428</td>\n",
       "      <td>0.109326</td>\n",
       "      <td>1.115526</td>\n",
       "    </tr>\n",
       "    <tr>\n",
       "      <th>304</th>\n",
       "      <td>un</td>\n",
       "      <td>-5.781102</td>\n",
       "      <td>-5.890428</td>\n",
       "      <td>0.109326</td>\n",
       "      <td>1.115526</td>\n",
       "    </tr>\n",
       "    <tr>\n",
       "      <th>227</th>\n",
       "      <td>on</td>\n",
       "      <td>-5.772213</td>\n",
       "      <td>-5.890428</td>\n",
       "      <td>0.118215</td>\n",
       "      <td>1.125486</td>\n",
       "    </tr>\n",
       "    <tr>\n",
       "      <th>208</th>\n",
       "      <td>ns</td>\n",
       "      <td>-5.754668</td>\n",
       "      <td>-5.880478</td>\n",
       "      <td>0.125809</td>\n",
       "      <td>1.134066</td>\n",
       "    </tr>\n",
       "    <tr>\n",
       "      <th>5</th>\n",
       "      <td>f</td>\n",
       "      <td>-5.763402</td>\n",
       "      <td>-5.890428</td>\n",
       "      <td>0.127026</td>\n",
       "      <td>1.135446</td>\n",
       "    </tr>\n",
       "    <tr>\n",
       "      <th>7</th>\n",
       "      <td>h</td>\n",
       "      <td>-5.754668</td>\n",
       "      <td>-5.890428</td>\n",
       "      <td>0.135760</td>\n",
       "      <td>1.145406</td>\n",
       "    </tr>\n",
       "    <tr>\n",
       "      <th>120</th>\n",
       "      <td>he</td>\n",
       "      <td>-5.728916</td>\n",
       "      <td>-5.890428</td>\n",
       "      <td>0.161512</td>\n",
       "      <td>1.175287</td>\n",
       "    </tr>\n",
       "    <tr>\n",
       "      <th>20</th>\n",
       "      <td>u</td>\n",
       "      <td>-5.712109</td>\n",
       "      <td>-5.890428</td>\n",
       "      <td>0.178319</td>\n",
       "      <td>1.195207</td>\n",
       "    </tr>\n",
       "    <tr>\n",
       "      <th>70</th>\n",
       "      <td>de</td>\n",
       "      <td>-5.671287</td>\n",
       "      <td>-5.870625</td>\n",
       "      <td>0.199339</td>\n",
       "      <td>1.220595</td>\n",
       "    </tr>\n",
       "    <tr>\n",
       "      <th>94</th>\n",
       "      <td>er</td>\n",
       "      <td>-5.671287</td>\n",
       "      <td>-5.890428</td>\n",
       "      <td>0.219141</td>\n",
       "      <td>1.245007</td>\n",
       "    </tr>\n",
       "    <tr>\n",
       "      <th>246</th>\n",
       "      <td>r</td>\n",
       "      <td>-5.663319</td>\n",
       "      <td>-5.890428</td>\n",
       "      <td>0.227109</td>\n",
       "      <td>1.254967</td>\n",
       "    </tr>\n",
       "    <tr>\n",
       "      <th>197</th>\n",
       "      <td>n</td>\n",
       "      <td>-5.550841</td>\n",
       "      <td>-5.832159</td>\n",
       "      <td>0.281318</td>\n",
       "      <td>1.324875</td>\n",
       "    </tr>\n",
       "  </tbody>\n",
       "</table>\n",
       "</div>"
      ],
      "text/plain": [
       "    ftr         G         S       dif      odds\n",
       "91   el -5.808253 -5.890428  0.082175  1.085646\n",
       "276  t  -5.746010 -5.832159  0.086149  1.089968\n",
       "39   ar -5.799120 -5.890428  0.091308  1.095606\n",
       "315  ve -5.746010 -5.841638  0.095627  1.100349\n",
       "171  l  -5.790070 -5.890428  0.100358  1.105566\n",
       "14    o -5.703810 -5.804250  0.100440  1.105658\n",
       "3     d -5.703810 -5.804250  0.100440  1.105658\n",
       "226  om -5.763402 -5.870625  0.107223  1.113183\n",
       "111  ge -5.781102 -5.890428  0.109326  1.115526\n",
       "304  un -5.781102 -5.890428  0.109326  1.115526\n",
       "227  on -5.772213 -5.890428  0.118215  1.125486\n",
       "208  ns -5.754668 -5.880478  0.125809  1.134066\n",
       "5     f -5.763402 -5.890428  0.127026  1.135446\n",
       "7     h -5.754668 -5.890428  0.135760  1.145406\n",
       "120  he -5.728916 -5.890428  0.161512  1.175287\n",
       "20    u -5.712109 -5.890428  0.178319  1.195207\n",
       "70   de -5.671287 -5.870625  0.199339  1.220595\n",
       "94   er -5.671287 -5.890428  0.219141  1.245007\n",
       "246  r  -5.663319 -5.890428  0.227109  1.254967\n",
       "197  n  -5.550841 -5.832159  0.281318  1.324875"
      ]
     },
     "execution_count": 11,
     "metadata": {},
     "output_type": "execute_result"
    }
   ],
   "source": [
    "train_lng=d[d['class'].isin(['S','G'])].index\n",
    "mnb.fit(X[train_lng],y[train_lng])\n",
    "\n",
    "df=pd.DataFrame({'ftr':vec.get_feature_names(), mnb.classes_[0]:mnb.feature_log_prob_[0], mnb.classes_[1]:mnb.feature_log_prob_[1]})\n",
    "df['dif']=df[mnb.classes_[0]]-df[mnb.classes_[1]]\n",
    "df['odds']=np.exp(df['dif'])\n",
    "df.sort_values('dif',  inplace=True)\n",
    "df.tail(20)"
   ]
  },
  {
   "cell_type": "code",
   "execution_count": 12,
   "metadata": {},
   "outputs": [
    {
     "data": {
      "image/png": "[encoded data removed]",
      "text/plain": [
       "<Figure size 432x720 with 1 Axes>"
      ]
     },
     "metadata": {
      "needs_background": "light"
     },
     "output_type": "display_data"
    }
   ],
   "source": [
    "fig = plt.figure(figsize=[6,10]);\n",
    "n=10\n",
    "de=pd.concat([df.head(n), df.tail(n)])\n",
    "x=np.concatenate([np.arange(0,n,dtype=int),np.arange(n+1,2*n+1,dtype=int)])\n",
    "h1=plt.barh(x[:n],de['dif'].values[0:n],\n",
    "        color=np.repeat(cols[mnb.classes_[1]],n))\n",
    "h2=plt.barh(x[n:],de['dif'].values[n:],\n",
    "        color=np.repeat(cols[mnb.classes_[0]],n))\n",
    "plt.title('Strongest features')\n",
    "plt.yticks(ticks=x, labels=de['ftr']);\n",
    "plt.legend([h1,h2], mnb.classes_[[1,0]]);"
   ]
  },
  {
   "cell_type": "markdown",
   "metadata": {},
   "source": [
    "## Final tasks\n",
    "\n",
    "* generalize the model for three classes (S,G,R)\n",
    "    1. train the model on three representative languages\n",
    "    2. evaluate the model results\n",
    "    3. find three languages most\n",
    "      - nejmenší testovací chyba\n",
    "    \n",
    "3. rozhodněte, které skupině jazyků se nejvíce podobá finština\n",
    "    "
   ]
  },
  {
   "cell_type": "code",
   "execution_count": 13,
   "metadata": {},
   "outputs": [
    {
     "name": "stdout",
     "output_type": "stream",
     "text": [
      "MAE TRAIN:  0.87%\n"
     ]
    },
    {
     "data": {
      "image/png": "[encoded data removed]",
      "text/plain": [
       "<Figure size 432x288 with 1 Axes>"
      ]
     },
     "metadata": {
      "needs_background": "light"
     },
     "output_type": "display_data"
    }
   ],
   "source": [
    "train_lng = [0,2,7]\n",
    "\n",
    "mnb.fit(X[train_lng],y[train_lng])\n",
    "\n",
    "pred=mnb.predict_proba(X)\n",
    "\n",
    "def plot_predictions_3(pred, idxs, title):\n",
    "\n",
    "    fig = plt.figure(figsize=[3+len(idxs),4]);\n",
    "    x=np.arange(len(idxs))\n",
    "    plt.bar(x-0.2, pred[idxs,0], width=0.2, label = mnb.classes_[0], color=cols[mnb.classes_[0]])\n",
    "    plt.bar(x+0.0, pred[idxs,1], width=0.2, label = mnb.classes_[1], color=cols[mnb.classes_[1]])\n",
    "    plt.bar(x+0.2, pred[idxs,2], width=0.2, label = mnb.classes_[2], color=cols[mnb.classes_[2]])\n",
    "    plt.legend()\n",
    "    plt.xticks(ticks=x, labels=[lng[i] for i in idxs])\n",
    "    plt.title(f\"{title}, {mnb.classes_[0]} vs {mnb.classes_[1]}\")\n",
    "    plt.xlabel('Jazyk')\n",
    "    plt.ylabel('Predikce')\n",
    "\n",
    "plot_predictions_3(pred, idxs=train_lng, title='Trénování')\n",
    "\n",
    "mae_tr=0\n",
    "for i in range(3):\n",
    "    mae_tr += metrics.mean_absolute_error(y[train_lng]==mnb.classes_[i], pred[train_lng,i]) / 3\n",
    "print(f'MAE TRAIN:  {mae_tr:.2%}')"
   ]
  },
  {
   "cell_type": "code",
   "execution_count": 14,
   "metadata": {},
   "outputs": [
    {
     "name": "stdout",
     "output_type": "stream",
     "text": [
      "MAE TEST:  10.66%\n"
     ]
    },
    {
     "data": {
      "image/png": "[encoded data removed]",
      "text/plain": [
       "<Figure size 936x288 with 1 Axes>"
      ]
     },
     "metadata": {
      "needs_background": "light"
     },
     "output_type": "display_data"
    }
   ],
   "source": [
    "idxs=list(set(range(len(lng)))-set(train_lng))\n",
    "plot_predictions_3(pred, idxs=idxs, title='Predikce')\n",
    "\n",
    "test_lng=d[d['class'].isin(mnb.classes_) & (d.index!=train_lng[0]) &  (d.index !=train_lng[1])].index\n",
    "\n",
    "mae_te=0\n",
    "for i in range(3):\n",
    "    mae_te += metrics.mean_absolute_error(y[test_lng]==mnb.classes_[i], pred[test_lng,i]) / 3\n",
    "print(f'MAE TEST:  {mae_te:.2%}')"
   ]
  }
 ],
 "metadata": {
  "kernelspec": {
   "display_name": "(default)",
   "language": "python",
   "name": "python3"
  },
  "language_info": {
   "codemirror_mode": {
    "name": "ipython",
    "version": 3
   },
   "file_extension": ".py",
   "mimetype": "text/x-python",
   "name": "python",
   "nbconvert_exporter": "python",
   "pygments_lexer": "ipython3",
   "version": "3.6.8"
  }
 },
 "nbformat": 4,
 "nbformat_minor": 4
}
